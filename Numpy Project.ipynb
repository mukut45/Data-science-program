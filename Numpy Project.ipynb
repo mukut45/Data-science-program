{
 "cells": [
  {
   "cell_type": "code",
   "execution_count": 1,
   "id": "9c569d6d-008b-4ca2-8b76-53590a8d9de3",
   "metadata": {},
   "outputs": [
    {
     "name": "stdout",
     "output_type": "stream",
     "text": [
      "[[-2  2 -2]\n",
      " [ 4 -2  6]\n",
      " [-2  8 -2]]\n"
     ]
    }
   ],
   "source": [
    "import numpy as np\n",
    "\n",
    "# Given list\n",
    "Lst = [[1, 2, 3], [4, 5, 6], [7, 8, 9]]\n",
    "\n",
    "# Convert list to NumPy array\n",
    "arr = np.array(Lst)\n",
    "\n",
    "# Replace odd elements with -2\n",
    "arr[arr % 2 != 0] = -2 # this condition is to convert the odd numbers of the array with the \"-2\"\n",
    "\n",
    "print(arr)\n"
   ]
  },
  {
   "cell_type": "code",
   "execution_count": 3,
   "id": "02ad6f4b-7500-4814-a4da-d6085fbc6519",
   "metadata": {},
   "outputs": [
    {
     "name": "stdout",
     "output_type": "stream",
     "text": [
      "[ 8  9 10 12]\n"
     ]
    }
   ],
   "source": [
    "import numpy as np\n",
    "\n",
    "# Given array\n",
    "arr = np.array([1, 2, 3, 4, 5, 8, 9, 10, 12, 22, 32, 54, 99, 6, 7])\n",
    "\n",
    "# Filter elements in the range from 8 to 15 (inclusive)\n",
    "result = arr[(arr >= 8) & (arr <= 15)]\n",
    "\n",
    "print(result)\n"
   ]
  },
  {
   "cell_type": "code",
   "execution_count": 5,
   "id": "412bb4cf-8f51-412d-95f6-beb0972b142a",
   "metadata": {},
   "outputs": [
    {
     "name": "stdout",
     "output_type": "stream",
     "text": [
      "[[2 1 3]\n",
      " [5 4 6]\n",
      " [8 7 9]]\n"
     ]
    }
   ],
   "source": [
    "import numpy as np\n",
    "\n",
    "# Create a 3x3 array with numbers from 1 to 9\n",
    "arr = np.array([[1, 2, 3], [4, 5, 6], [7, 8, 9]])\n",
    "\n",
    "# Swap columns 1 and 2\n",
    "arr[:, [0, 1]] = arr[:, [1, 0]] # \":\" it means sliceing the array and pick the specific row and column from the array\n",
    "\n",
    "print(arr)\n"
   ]
  },
  {
   "cell_type": "code",
   "execution_count": 17,
   "id": "efe378ca-ea11-47e2-b22e-be2a326ff3b2",
   "metadata": {},
   "outputs": [
    {
     "name": "stdout",
     "output_type": "stream",
     "text": [
      "[[1.3 2.5 3.6 6. ]\n",
      " [2.6 3.3 4.5 5.5]\n",
      " [2.1 3.2 5.4 6.5]]\n"
     ]
    }
   ],
   "source": [
    "import numpy as np\n",
    "\n",
    "# Given array with NaN values\n",
    "arr = np.array([[1.3, 2.5, 3.6, np.nan], \n",
    "                [2.6, 3.3, np.nan, 5.5], \n",
    "                [2.1, 3.2, 5.4, 6.5]])\n",
    "\n",
    "# Calculate the mean of each column ignoring NaN values and round to 2 decimal places\n",
    "col_mean = np.nanmean(arr, axis=0)\n",
    "col_mean = np.round(col_mean, 2)\n",
    "\n",
    "# Find indices where NaN values are located\n",
    "inds = np.where(np.isnan(arr))\n",
    "\n",
    "# Replace NaN values with the mean of the respective column\n",
    "arr[inds] = np.take(col_mean, inds[1])\n",
    "\n",
    "print(arr)\n"
   ]
  },
  {
   "cell_type": "code",
   "execution_count": 19,
   "id": "9c6e03c4-a785-4d16-8707-0f77b2a29d34",
   "metadata": {},
   "outputs": [
    {
     "name": "stdout",
     "output_type": "stream",
     "text": [
      "[[1.3 2.5 3.6 6. ]\n",
      " [2.6 3.3 4.5 5.5]\n",
      " [2.1 3.2 5.4 6.5]]\n"
     ]
    }
   ],
   "source": [
    "import numpy as np\n",
    "\n",
    "# Given array with NaN values\n",
    "arr = np.array([[1.3, 2.5, 3.6, np.nan], \n",
    "                [2.6, 3.3, np.nan, 5.5], \n",
    "                [2.1, 3.2, 5.4, 6.5]])\n",
    "\n",
    "# Calculate the mean of each column ignoring NaN values\n",
    "col_mean = np.nanmean(arr, axis=0)\n",
    "\n",
    "# Round the means to 2 decimal places and ensure formatting with trailing zero\n",
    "col_mean = np.round(col_mean, 2)\n",
    "\n",
    "# Ensure the means are formatted as strings with one decimal place\n",
    "col_mean = [f\"{mean:.1f}\" for mean in col_mean]\n",
    "\n",
    "# Convert back to numpy array if needed\n",
    "col_mean = np.array(col_mean, dtype=float)\n",
    "\n",
    "# Find indices where NaN values are located\n",
    "inds = np.where(np.isnan(arr))\n",
    "\n",
    "# Replace NaN values with the mean of the respective column\n",
    "arr[inds] = np.take(col_mean, inds[1])\n",
    "\n",
    "print(arr)\n"
   ]
  },
  {
   "cell_type": "code",
   "execution_count": 27,
   "id": "722c2de5-4f24-4c8b-9853-3ed9f76e9287",
   "metadata": {},
   "outputs": [
    {
     "name": "stdout",
     "output_type": "stream",
     "text": [
      "[[1.3 2.5 3.6 6.0]\n",
      " [2.6 3.3 4.5 5.5]\n",
      " [2.1 3.2 5.4 6.5]]\n"
     ]
    }
   ],
   "source": [
    "import numpy as np\n",
    "\n",
    "# Given array with NaN values\n",
    "arr = np.array([[1.3, 2.5, 3.6, np.nan], \n",
    "                [2.6, 3.3, np.nan, 5.5], \n",
    "                [2.1, 3.2, 5.4, 6.5]])\n",
    "\n",
    "# Calculate the mean of each column ignoring NaN values\n",
    "col_mean = np.nanmean(arr, axis=0) # here the \"axix = 0\" means, i will only calculate the mean verticaly but not in the \"horizontaly\", but if \"axis = 1\" then it will calculate the horizontal as well\n",
    "\n",
    "# The function \"np.nanmean\" is a part of the \"NumPy library\" and is used to calculate the mean (average) of an array while ignoring any NaN (Not a Number) values\n",
    "\n",
    "# Find indices where NaN values are located\n",
    "inds = np.where(np.isnan(arr)) # \"where function checks the number of indices where the nan values are located\"\n",
    "\n",
    "# Replace NaN values with the mean of the respective column\n",
    "arr[inds] = np.take(col_mean, inds[1])\n",
    "\n",
    "# Here, inds will be a tuple containing two arrays:-\n",
    "#The first array (inds[0]) represents the row indices where the NaN values are located.\n",
    "#The second array (inds[1]) represents the column indices where the NaN values are located.\n",
    "\n",
    "# Set print options to display one decimal place\n",
    "\n",
    "np.set_printoptions(formatter={'all': lambda x: f'{x:.1f}'})\n",
    "\n",
    "# CODE BREAK DOWN:-\n",
    "\n",
    "# \"np.set_printoptions\" is a function in NumPy that allows you to modify how NumPy arrays are displayed when you print them.\n",
    "# \"formatter\" is a dictionary where the keys specify the type of elements you want to format, and the values define the formatting behavior for those elements.\n",
    "# In this case, 'all' is the key, which means \"apply the formatting to all elements of the array\".\n",
    "# lambda x:  : This defines an anonymous function that takes an argument x (the element to format).\n",
    "# f'{x:.1f}': This is a formatted string using Python's f-string syntax. It ensures that each element is formatted to 1 decimal place.\n",
    "# The \".1f\" specifies that the number should be formatted as a floating-point number with 1 digit after the decimal point.\n",
    "\n",
    "# Print the modified array\n",
    "print(arr)\n"
   ]
  },
  {
   "cell_type": "code",
   "execution_count": 31,
   "id": "e3398aae-81eb-4fc9-a5eb-cfe7a7df69ec",
   "metadata": {},
   "outputs": [
    {
     "name": "stdout",
     "output_type": "stream",
     "text": [
      "Matrix:\n",
      " [[2.0 4.0 6.0]\n",
      " [1.0 3.0 5.0]]\n",
      "Sorted Matrix:\n",
      " [[1.0 2.0 3.0]\n",
      " [4.0 5.0 6.0]]\n"
     ]
    }
   ],
   "source": [
    "import numpy as np\n",
    "\n",
    "# Given array\n",
    "arr = np.array([[2, 4, 6],\n",
    "                [1, 3, 5]])\n",
    "\n",
    "# i. Convert the NumPy array to a NumPy matrix\n",
    "\n",
    "matrix = np.matrix(arr) # coverting matrix to array\n",
    "print(\"Matrix:\\n\", matrix) # printing the converted array to matrix\n",
    "\n",
    "# ii. Sort the values in the matrix\n",
    "\n",
    "# Flatten the matrix, sort, and reshape back to the original shape\n",
    "sorted_matrix = np.sort(matrix, axis=None).reshape(matrix.shape) # \"axis = none\" (\"axis = 0 is y-axis\", \"axis = 1 is x-axis\") will flatten the matrix ( 2D to 1D), the \"reshape\" will make it reshap to 2D array(to its original shape)\n",
    "\n",
    "print(\"Sorted Matrix:\\n\", sorted_matrix)\n"
   ]
  },
  {
   "cell_type": "code",
   "execution_count": 33,
   "id": "e14ddff4-5bd6-4ef2-8f0a-6708a17a10b4",
   "metadata": {},
   "outputs": [
    {
     "name": "stdout",
     "output_type": "stream",
     "text": [
      "Matrix:\n",
      " [[2.0 4.0 6.0]\n",
      " [1.0 3.0 5.0]]\n"
     ]
    }
   ],
   "source": [
    "import numpy as np\n",
    "\n",
    "# Given array\n",
    "arr = np.array([[2, 4, 6],\n",
    "                [1, 3, 5]])\n",
    "\n",
    "# i. Convert the NumPy array to a NumPy matrix\n",
    "matrix = np.matrix(arr)\n",
    "print(\"Matrix:\\n\", matrix)"
   ]
  },
  {
   "cell_type": "code",
   "execution_count": 1,
   "id": "05e74d5b-c212-4651-ab9d-504cca3c896e",
   "metadata": {},
   "outputs": [
    {
     "name": "stdout",
     "output_type": "stream",
     "text": [
      "C:\\Users\\Dell\n"
     ]
    }
   ],
   "source": [
    "import os\n",
    "# Get the current working directory\n",
    "current_directory = os.getcwd()\n",
    "print(current_directory)"
   ]
  },
  {
   "cell_type": "code",
   "execution_count": null,
   "id": "baeeac6c-d5aa-4e90-a4c1-59fcc3e79533",
   "metadata": {},
   "outputs": [],
   "source": []
  }
 ],
 "metadata": {
  "kernelspec": {
   "display_name": "Python 3 (ipykernel)",
   "language": "python",
   "name": "python3"
  },
  "language_info": {
   "codemirror_mode": {
    "name": "ipython",
    "version": 3
   },
   "file_extension": ".py",
   "mimetype": "text/x-python",
   "name": "python",
   "nbconvert_exporter": "python",
   "pygments_lexer": "ipython3",
   "version": "3.12.4"
  }
 },
 "nbformat": 4,
 "nbformat_minor": 5
}

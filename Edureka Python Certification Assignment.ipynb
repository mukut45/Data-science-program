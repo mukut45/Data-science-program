{
 "cells": [
  {
   "cell_type": "markdown",
   "id": "9773a065-af35-4dea-a235-10fdaed3f7e6",
   "metadata": {},
   "source": [
    "### (Question- 1)Find the number of distinct bookings, sessions, and searches from the given datasets"
   ]
  },
  {
   "cell_type": "code",
   "execution_count": 5,
   "id": "da1f7e15-6752-4128-9f53-111f911b43d1",
   "metadata": {},
   "outputs": [
    {
     "data": {
      "text/html": [
       "<div>\n",
       "<style scoped>\n",
       "    .dataframe tbody tr th:only-of-type {\n",
       "        vertical-align: middle;\n",
       "    }\n",
       "\n",
       "    .dataframe tbody tr th {\n",
       "        vertical-align: top;\n",
       "    }\n",
       "\n",
       "    .dataframe thead th {\n",
       "        text-align: right;\n",
       "    }\n",
       "</style>\n",
       "<table border=\"1\" class=\"dataframe\">\n",
       "  <thead>\n",
       "    <tr style=\"text-align: right;\">\n",
       "      <th></th>\n",
       "      <th>session_id</th>\n",
       "      <th>search_id</th>\n",
       "      <th>search_time</th>\n",
       "      <th>session_starting_time</th>\n",
       "      <th>booking_id</th>\n",
       "    </tr>\n",
       "  </thead>\n",
       "  <tbody>\n",
       "    <tr>\n",
       "      <th>0</th>\n",
       "      <td>session_322</td>\n",
       "      <td>search_784</td>\n",
       "      <td>2020-01-21T21:35:38.910Z</td>\n",
       "      <td>2020-01-21T21:10:12Z</td>\n",
       "      <td>NaN</td>\n",
       "    </tr>\n",
       "    <tr>\n",
       "      <th>1</th>\n",
       "      <td>session_322</td>\n",
       "      <td>search_776</td>\n",
       "      <td>2020-01-21T21:37:37.697Z</td>\n",
       "      <td>2020-01-21T21:10:12Z</td>\n",
       "      <td>NaN</td>\n",
       "    </tr>\n",
       "    <tr>\n",
       "      <th>2</th>\n",
       "      <td>session_322</td>\n",
       "      <td>search_623</td>\n",
       "      <td>2020-01-21T21:36:11.392Z</td>\n",
       "      <td>2020-01-21T21:10:12Z</td>\n",
       "      <td>NaN</td>\n",
       "    </tr>\n",
       "    <tr>\n",
       "      <th>3</th>\n",
       "      <td>session_322</td>\n",
       "      <td>search_270</td>\n",
       "      <td>2020-01-21T21:16:07.685Z</td>\n",
       "      <td>2020-01-21T21:10:12Z</td>\n",
       "      <td>NaN</td>\n",
       "    </tr>\n",
       "    <tr>\n",
       "      <th>4</th>\n",
       "      <td>session_322</td>\n",
       "      <td>search_905</td>\n",
       "      <td>2020-01-21T21:34:55.673Z</td>\n",
       "      <td>2020-01-21T21:10:12Z</td>\n",
       "      <td>NaN</td>\n",
       "    </tr>\n",
       "  </tbody>\n",
       "</table>\n",
       "</div>"
      ],
      "text/plain": [
       "    session_id   search_id               search_time session_starting_time  \\\n",
       "0  session_322  search_784  2020-01-21T21:35:38.910Z  2020-01-21T21:10:12Z   \n",
       "1  session_322  search_776  2020-01-21T21:37:37.697Z  2020-01-21T21:10:12Z   \n",
       "2  session_322  search_623  2020-01-21T21:36:11.392Z  2020-01-21T21:10:12Z   \n",
       "3  session_322  search_270  2020-01-21T21:16:07.685Z  2020-01-21T21:10:12Z   \n",
       "4  session_322  search_905  2020-01-21T21:34:55.673Z  2020-01-21T21:10:12Z   \n",
       "\n",
       "  booking_id  \n",
       "0        NaN  \n",
       "1        NaN  \n",
       "2        NaN  \n",
       "3        NaN  \n",
       "4        NaN  "
      ]
     },
     "execution_count": 5,
     "metadata": {},
     "output_type": "execute_result"
    }
   ],
   "source": [
    "import pandas as pd\n",
    "\n",
    "df = pd.read_csv('Sessions.csv')\n",
    "df.head()"
   ]
  },
  {
   "cell_type": "code",
   "execution_count": 7,
   "id": "7319cf63-0511-449c-8957-76689b7a0280",
   "metadata": {},
   "outputs": [],
   "source": [
    "num_distinct_sessions = df['session_id'].nunique()"
   ]
  },
  {
   "cell_type": "code",
   "execution_count": 9,
   "id": "a0ea0f5b-3e4f-4381-a1d5-9895ac6fd890",
   "metadata": {},
   "outputs": [
    {
     "name": "stdout",
     "output_type": "stream",
     "text": [
      "this is mukut May Dutta printing your data frame: 331\n"
     ]
    }
   ],
   "source": [
    "print(\"this is mukut May Dutta printing your data frame:\",num_distinct_sessions)"
   ]
  },
  {
   "cell_type": "code",
   "execution_count": 11,
   "id": "49dbed0a-830a-48ea-be2d-41dc25b90947",
   "metadata": {},
   "outputs": [
    {
     "data": {
      "text/html": [
       "<div>\n",
       "<style scoped>\n",
       "    .dataframe tbody tr th:only-of-type {\n",
       "        vertical-align: middle;\n",
       "    }\n",
       "\n",
       "    .dataframe tbody tr th {\n",
       "        vertical-align: top;\n",
       "    }\n",
       "\n",
       "    .dataframe thead th {\n",
       "        text-align: right;\n",
       "    }\n",
       "</style>\n",
       "<table border=\"1\" class=\"dataframe\">\n",
       "  <thead>\n",
       "    <tr style=\"text-align: right;\">\n",
       "      <th></th>\n",
       "      <th>session_id</th>\n",
       "      <th>search_id</th>\n",
       "      <th>search_time</th>\n",
       "      <th>session_starting_time</th>\n",
       "      <th>booking_id</th>\n",
       "    </tr>\n",
       "  </thead>\n",
       "  <tbody>\n",
       "    <tr>\n",
       "      <th>0</th>\n",
       "      <td>session_322</td>\n",
       "      <td>search_784</td>\n",
       "      <td>2020-01-21T21:35:38.910Z</td>\n",
       "      <td>2020-01-21T21:10:12Z</td>\n",
       "      <td>NaN</td>\n",
       "    </tr>\n",
       "    <tr>\n",
       "      <th>1</th>\n",
       "      <td>session_322</td>\n",
       "      <td>search_776</td>\n",
       "      <td>2020-01-21T21:37:37.697Z</td>\n",
       "      <td>2020-01-21T21:10:12Z</td>\n",
       "      <td>NaN</td>\n",
       "    </tr>\n",
       "    <tr>\n",
       "      <th>2</th>\n",
       "      <td>session_322</td>\n",
       "      <td>search_623</td>\n",
       "      <td>2020-01-21T21:36:11.392Z</td>\n",
       "      <td>2020-01-21T21:10:12Z</td>\n",
       "      <td>NaN</td>\n",
       "    </tr>\n",
       "    <tr>\n",
       "      <th>3</th>\n",
       "      <td>session_322</td>\n",
       "      <td>search_270</td>\n",
       "      <td>2020-01-21T21:16:07.685Z</td>\n",
       "      <td>2020-01-21T21:10:12Z</td>\n",
       "      <td>NaN</td>\n",
       "    </tr>\n",
       "    <tr>\n",
       "      <th>4</th>\n",
       "      <td>session_322</td>\n",
       "      <td>search_905</td>\n",
       "      <td>2020-01-21T21:34:55.673Z</td>\n",
       "      <td>2020-01-21T21:10:12Z</td>\n",
       "      <td>NaN</td>\n",
       "    </tr>\n",
       "  </tbody>\n",
       "</table>\n",
       "</div>"
      ],
      "text/plain": [
       "    session_id   search_id               search_time session_starting_time  \\\n",
       "0  session_322  search_784  2020-01-21T21:35:38.910Z  2020-01-21T21:10:12Z   \n",
       "1  session_322  search_776  2020-01-21T21:37:37.697Z  2020-01-21T21:10:12Z   \n",
       "2  session_322  search_623  2020-01-21T21:36:11.392Z  2020-01-21T21:10:12Z   \n",
       "3  session_322  search_270  2020-01-21T21:16:07.685Z  2020-01-21T21:10:12Z   \n",
       "4  session_322  search_905  2020-01-21T21:34:55.673Z  2020-01-21T21:10:12Z   \n",
       "\n",
       "  booking_id  \n",
       "0        NaN  \n",
       "1        NaN  \n",
       "2        NaN  \n",
       "3        NaN  \n",
       "4        NaN  "
      ]
     },
     "execution_count": 11,
     "metadata": {},
     "output_type": "execute_result"
    }
   ],
   "source": [
    "number_of_session = pd.read_csv('Sessions.csv')\n",
    "df.head()\n"
   ]
  },
  {
   "cell_type": "code",
   "execution_count": 13,
   "id": "c7ef99be-757b-4b14-be0c-055dfff350ef",
   "metadata": {},
   "outputs": [
    {
     "data": {
      "text/plain": [
       "search_id\n",
       "search_569     8\n",
       "search_169     5\n",
       "search_826     4\n",
       "search_226     4\n",
       "search_75      3\n",
       "              ..\n",
       "search_174     1\n",
       "search_48      1\n",
       "search_1294    1\n",
       "search_35      1\n",
       "search_1180    1\n",
       "Name: count, Length: 1360, dtype: int64"
      ]
     },
     "execution_count": 13,
     "metadata": {},
     "output_type": "execute_result"
    }
   ],
   "source": [
    "number_of_session['search_id'].value_counts()"
   ]
  },
  {
   "cell_type": "code",
   "execution_count": 15,
   "id": "faa07b4f-2842-465f-a79d-2fe180292577",
   "metadata": {},
   "outputs": [
    {
     "data": {
      "text/plain": [
       "(1497, 5)"
      ]
     },
     "execution_count": 15,
     "metadata": {},
     "output_type": "execute_result"
    }
   ],
   "source": [
    "number_of_session.shape"
   ]
  },
  {
   "cell_type": "code",
   "execution_count": 17,
   "id": "ef6f85c4-5e7b-49d7-9987-0c74da0874db",
   "metadata": {},
   "outputs": [
    {
     "data": {
      "text/plain": [
       "dtype('O')"
      ]
     },
     "execution_count": 17,
     "metadata": {},
     "output_type": "execute_result"
    }
   ],
   "source": [
    "number_of_session['search_id'].dtype"
   ]
  },
  {
   "cell_type": "code",
   "execution_count": 19,
   "id": "433cd1cb-5fad-4809-be88-10e4272d692e",
   "metadata": {},
   "outputs": [
    {
     "data": {
      "text/plain": [
       "331"
      ]
     },
     "execution_count": 19,
     "metadata": {},
     "output_type": "execute_result"
    }
   ],
   "source": [
    "num_distinct_sessions = number_of_session['session_id'].nunique()\n",
    "num_distinct_sessions"
   ]
  },
  {
   "cell_type": "code",
   "execution_count": 21,
   "id": "9a34680f-4d8a-4a77-872e-cca4ae69a68a",
   "metadata": {},
   "outputs": [
    {
     "data": {
      "text/plain": [
       "1360"
      ]
     },
     "execution_count": 21,
     "metadata": {},
     "output_type": "execute_result"
    }
   ],
   "source": [
    "num_distinct_sessions1 = number_of_session['search_id'].nunique()\n",
    "num_distinct_sessions1"
   ]
  },
  {
   "cell_type": "markdown",
   "id": "44bd48dc-6b10-4123-8584-9976cd5f0982",
   "metadata": {},
   "source": [
    "#### Reading the booking data frame"
   ]
  },
  {
   "cell_type": "code",
   "execution_count": 24,
   "id": "2779066a-9708-469c-a68d-37e1f81cca5b",
   "metadata": {},
   "outputs": [
    {
     "data": {
      "text/html": [
       "<div>\n",
       "<style scoped>\n",
       "    .dataframe tbody tr th:only-of-type {\n",
       "        vertical-align: middle;\n",
       "    }\n",
       "\n",
       "    .dataframe tbody tr th {\n",
       "        vertical-align: top;\n",
       "    }\n",
       "\n",
       "    .dataframe thead th {\n",
       "        text-align: right;\n",
       "    }\n",
       "</style>\n",
       "<table border=\"1\" class=\"dataframe\">\n",
       "  <thead>\n",
       "    <tr style=\"text-align: right;\">\n",
       "      <th></th>\n",
       "      <th>customer_id</th>\n",
       "      <th>booking_id</th>\n",
       "      <th>from_city</th>\n",
       "      <th>from_country</th>\n",
       "      <th>to_city</th>\n",
       "      <th>to_country</th>\n",
       "      <th>booking_time</th>\n",
       "      <th>device_type_used</th>\n",
       "      <th>INR_Amount</th>\n",
       "      <th>service_name</th>\n",
       "      <th>no_of_passengers</th>\n",
       "      <th>days_to_departure</th>\n",
       "      <th>distance_km</th>\n",
       "    </tr>\n",
       "  </thead>\n",
       "  <tbody>\n",
       "    <tr>\n",
       "      <th>0</th>\n",
       "      <td>customer_259</td>\n",
       "      <td>booking_82</td>\n",
       "      <td>Gurgaon</td>\n",
       "      <td>India</td>\n",
       "      <td>Ahmedabad</td>\n",
       "      <td>India</td>\n",
       "      <td>2020-02-05T16:12:08Z</td>\n",
       "      <td>Desktop</td>\n",
       "      <td>2565.28</td>\n",
       "      <td>MMT</td>\n",
       "      <td>1.0</td>\n",
       "      <td>10.0</td>\n",
       "      <td>747.8</td>\n",
       "    </tr>\n",
       "    <tr>\n",
       "      <th>1</th>\n",
       "      <td>customer_303</td>\n",
       "      <td>booking_156</td>\n",
       "      <td>Delhi</td>\n",
       "      <td>India</td>\n",
       "      <td>Brussels</td>\n",
       "      <td>Belgium</td>\n",
       "      <td>2018-11-21T08:21:47Z</td>\n",
       "      <td>Android</td>\n",
       "      <td>23120.00</td>\n",
       "      <td>YATRA</td>\n",
       "      <td>1.0</td>\n",
       "      <td>1.0</td>\n",
       "      <td>6701.5</td>\n",
       "    </tr>\n",
       "  </tbody>\n",
       "</table>\n",
       "</div>"
      ],
      "text/plain": [
       "    customer_id   booking_id from_city from_country    to_city to_country  \\\n",
       "0  customer_259   booking_82   Gurgaon        India  Ahmedabad      India   \n",
       "1  customer_303  booking_156     Delhi        India   Brussels    Belgium   \n",
       "\n",
       "           booking_time device_type_used  INR_Amount service_name  \\\n",
       "0  2020-02-05T16:12:08Z          Desktop     2565.28          MMT   \n",
       "1  2018-11-21T08:21:47Z          Android    23120.00        YATRA   \n",
       "\n",
       "   no_of_passengers  days_to_departure  distance_km  \n",
       "0               1.0               10.0        747.8  \n",
       "1               1.0                1.0       6701.5  "
      ]
     },
     "execution_count": 24,
     "metadata": {},
     "output_type": "execute_result"
    }
   ],
   "source": [
    "data = pd.read_csv('Bookings.csv')\n",
    "data.head(2)"
   ]
  },
  {
   "cell_type": "code",
   "execution_count": 26,
   "id": "60cf0cb4-16df-4017-9e5c-a99431b29ecc",
   "metadata": {},
   "outputs": [],
   "source": [
    "Day_of_booking = data.copy()"
   ]
  },
  {
   "cell_type": "code",
   "execution_count": 28,
   "id": "ec02d485-7eb0-4237-8be2-3318b02da2ea",
   "metadata": {},
   "outputs": [
    {
     "data": {
      "text/plain": [
       "dtype('O')"
      ]
     },
     "execution_count": 28,
     "metadata": {},
     "output_type": "execute_result"
    }
   ],
   "source": [
    "Day_of_booking['booking_time'].dtype"
   ]
  },
  {
   "cell_type": "code",
   "execution_count": 30,
   "id": "6104eb02-1c63-443a-84ed-5c0169944326",
   "metadata": {},
   "outputs": [
    {
     "data": {
      "text/html": [
       "<div>\n",
       "<style scoped>\n",
       "    .dataframe tbody tr th:only-of-type {\n",
       "        vertical-align: middle;\n",
       "    }\n",
       "\n",
       "    .dataframe tbody tr th {\n",
       "        vertical-align: top;\n",
       "    }\n",
       "\n",
       "    .dataframe thead th {\n",
       "        text-align: right;\n",
       "    }\n",
       "</style>\n",
       "<table border=\"1\" class=\"dataframe\">\n",
       "  <thead>\n",
       "    <tr style=\"text-align: right;\">\n",
       "      <th></th>\n",
       "      <th>customer_id</th>\n",
       "      <th>booking_id</th>\n",
       "      <th>from_city</th>\n",
       "      <th>from_country</th>\n",
       "      <th>to_city</th>\n",
       "      <th>to_country</th>\n",
       "      <th>booking_time</th>\n",
       "      <th>device_type_used</th>\n",
       "      <th>INR_Amount</th>\n",
       "      <th>service_name</th>\n",
       "      <th>no_of_passengers</th>\n",
       "      <th>days_to_departure</th>\n",
       "      <th>distance_km</th>\n",
       "      <th>year</th>\n",
       "      <th>month</th>\n",
       "      <th>day</th>\n",
       "    </tr>\n",
       "  </thead>\n",
       "  <tbody>\n",
       "    <tr>\n",
       "      <th>0</th>\n",
       "      <td>customer_259</td>\n",
       "      <td>booking_82</td>\n",
       "      <td>Gurgaon</td>\n",
       "      <td>India</td>\n",
       "      <td>Ahmedabad</td>\n",
       "      <td>India</td>\n",
       "      <td>2020-02-05 16:12:08</td>\n",
       "      <td>Desktop</td>\n",
       "      <td>2565.28</td>\n",
       "      <td>MMT</td>\n",
       "      <td>1.0</td>\n",
       "      <td>10.0</td>\n",
       "      <td>747.8</td>\n",
       "      <td>2020</td>\n",
       "      <td>2</td>\n",
       "      <td>5</td>\n",
       "    </tr>\n",
       "    <tr>\n",
       "      <th>1</th>\n",
       "      <td>customer_303</td>\n",
       "      <td>booking_156</td>\n",
       "      <td>Delhi</td>\n",
       "      <td>India</td>\n",
       "      <td>Brussels</td>\n",
       "      <td>Belgium</td>\n",
       "      <td>2018-11-21 08:21:47</td>\n",
       "      <td>Android</td>\n",
       "      <td>23120.00</td>\n",
       "      <td>YATRA</td>\n",
       "      <td>1.0</td>\n",
       "      <td>1.0</td>\n",
       "      <td>6701.5</td>\n",
       "      <td>2018</td>\n",
       "      <td>11</td>\n",
       "      <td>21</td>\n",
       "    </tr>\n",
       "    <tr>\n",
       "      <th>2</th>\n",
       "      <td>customer_203</td>\n",
       "      <td>booking_99</td>\n",
       "      <td>Devanhalli</td>\n",
       "      <td>India</td>\n",
       "      <td>Frankfurt am Main</td>\n",
       "      <td>Germany</td>\n",
       "      <td>2019-12-16 22:54:58</td>\n",
       "      <td>Android</td>\n",
       "      <td>25717.60</td>\n",
       "      <td>YATRA</td>\n",
       "      <td>1.0</td>\n",
       "      <td>32.0</td>\n",
       "      <td>7712.0</td>\n",
       "      <td>2019</td>\n",
       "      <td>12</td>\n",
       "      <td>16</td>\n",
       "    </tr>\n",
       "    <tr>\n",
       "      <th>3</th>\n",
       "      <td>customer_211</td>\n",
       "      <td>booking_319</td>\n",
       "      <td>Gurgaon</td>\n",
       "      <td>India</td>\n",
       "      <td>Frankfurt am Main</td>\n",
       "      <td>Germany</td>\n",
       "      <td>2021-10-29 12:25:38</td>\n",
       "      <td>Desktop</td>\n",
       "      <td>135969.60</td>\n",
       "      <td>GOIBIBO</td>\n",
       "      <td>2.0</td>\n",
       "      <td>69.0</td>\n",
       "      <td>6112.5</td>\n",
       "      <td>2021</td>\n",
       "      <td>10</td>\n",
       "      <td>29</td>\n",
       "    </tr>\n",
       "    <tr>\n",
       "      <th>4</th>\n",
       "      <td>customer_287</td>\n",
       "      <td>booking_222</td>\n",
       "      <td>Gurgaon</td>\n",
       "      <td>India</td>\n",
       "      <td>Roissy-en-France</td>\n",
       "      <td>France</td>\n",
       "      <td>2020-08-11 16:09:10</td>\n",
       "      <td>Android</td>\n",
       "      <td>31791.20</td>\n",
       "      <td>GOIBIBO</td>\n",
       "      <td>1.0</td>\n",
       "      <td>3.0</td>\n",
       "      <td>6570.4</td>\n",
       "      <td>2020</td>\n",
       "      <td>8</td>\n",
       "      <td>11</td>\n",
       "    </tr>\n",
       "    <tr>\n",
       "      <th>...</th>\n",
       "      <td>...</td>\n",
       "      <td>...</td>\n",
       "      <td>...</td>\n",
       "      <td>...</td>\n",
       "      <td>...</td>\n",
       "      <td>...</td>\n",
       "      <td>...</td>\n",
       "      <td>...</td>\n",
       "      <td>...</td>\n",
       "      <td>...</td>\n",
       "      <td>...</td>\n",
       "      <td>...</td>\n",
       "      <td>...</td>\n",
       "      <td>...</td>\n",
       "      <td>...</td>\n",
       "      <td>...</td>\n",
       "    </tr>\n",
       "    <tr>\n",
       "      <th>334</th>\n",
       "      <td>customer_133</td>\n",
       "      <td>booking_238</td>\n",
       "      <td>Gurgaon</td>\n",
       "      <td>India</td>\n",
       "      <td>Rāja Sānsi</td>\n",
       "      <td>India</td>\n",
       "      <td>2020-02-14 14:20:20</td>\n",
       "      <td>IOS</td>\n",
       "      <td>2721.60</td>\n",
       "      <td>YATRA</td>\n",
       "      <td>1.0</td>\n",
       "      <td>26.0</td>\n",
       "      <td>421.0</td>\n",
       "      <td>2020</td>\n",
       "      <td>2</td>\n",
       "      <td>14</td>\n",
       "    </tr>\n",
       "    <tr>\n",
       "      <th>335</th>\n",
       "      <td>customer_235</td>\n",
       "      <td>booking_37</td>\n",
       "      <td>Gurgaon</td>\n",
       "      <td>India</td>\n",
       "      <td>Bhubaneswar</td>\n",
       "      <td>India</td>\n",
       "      <td>2020-03-21 06:40:56</td>\n",
       "      <td>Android</td>\n",
       "      <td>6552.00</td>\n",
       "      <td>GOIBIBO</td>\n",
       "      <td>1.0</td>\n",
       "      <td>0.0</td>\n",
       "      <td>1274.7</td>\n",
       "      <td>2020</td>\n",
       "      <td>3</td>\n",
       "      <td>21</td>\n",
       "    </tr>\n",
       "    <tr>\n",
       "      <th>336</th>\n",
       "      <td>customer_62</td>\n",
       "      <td>booking_239</td>\n",
       "      <td>Gurgaon</td>\n",
       "      <td>India</td>\n",
       "      <td>Birmingham</td>\n",
       "      <td>United Kingdom</td>\n",
       "      <td>2020-01-31 20:35:35</td>\n",
       "      <td>Desktop</td>\n",
       "      <td>126502.46</td>\n",
       "      <td>GOIBIBO</td>\n",
       "      <td>2.0</td>\n",
       "      <td>109.0</td>\n",
       "      <td>7190.9</td>\n",
       "      <td>2020</td>\n",
       "      <td>1</td>\n",
       "      <td>31</td>\n",
       "    </tr>\n",
       "    <tr>\n",
       "      <th>337</th>\n",
       "      <td>customer_5</td>\n",
       "      <td>booking_131</td>\n",
       "      <td>Mumbai</td>\n",
       "      <td>India</td>\n",
       "      <td>Kloten</td>\n",
       "      <td>Switzerland</td>\n",
       "      <td>2018-10-11 14:31:28</td>\n",
       "      <td>Desktop</td>\n",
       "      <td>55152.80</td>\n",
       "      <td>YATRA</td>\n",
       "      <td>2.0</td>\n",
       "      <td>22.0</td>\n",
       "      <td>6760.0</td>\n",
       "      <td>2018</td>\n",
       "      <td>10</td>\n",
       "      <td>11</td>\n",
       "    </tr>\n",
       "    <tr>\n",
       "      <th>338</th>\n",
       "      <td>customer_241</td>\n",
       "      <td>booking_336</td>\n",
       "      <td>Gurgaon</td>\n",
       "      <td>India</td>\n",
       "      <td>Amsterdam</td>\n",
       "      <td>Netherlands</td>\n",
       "      <td>2022-07-11 18:46:59</td>\n",
       "      <td>Desktop</td>\n",
       "      <td>41117.60</td>\n",
       "      <td>GOIBIBO</td>\n",
       "      <td>1.0</td>\n",
       "      <td>20.0</td>\n",
       "      <td>6354.9</td>\n",
       "      <td>2022</td>\n",
       "      <td>7</td>\n",
       "      <td>11</td>\n",
       "    </tr>\n",
       "  </tbody>\n",
       "</table>\n",
       "<p>339 rows × 16 columns</p>\n",
       "</div>"
      ],
      "text/plain": [
       "      customer_id   booking_id   from_city from_country            to_city  \\\n",
       "0    customer_259   booking_82     Gurgaon        India          Ahmedabad   \n",
       "1    customer_303  booking_156       Delhi        India           Brussels   \n",
       "2    customer_203   booking_99  Devanhalli        India  Frankfurt am Main   \n",
       "3    customer_211  booking_319     Gurgaon        India  Frankfurt am Main   \n",
       "4    customer_287  booking_222     Gurgaon        India   Roissy-en-France   \n",
       "..            ...          ...         ...          ...                ...   \n",
       "334  customer_133  booking_238     Gurgaon        India         Rāja Sānsi   \n",
       "335  customer_235   booking_37     Gurgaon        India        Bhubaneswar   \n",
       "336   customer_62  booking_239     Gurgaon        India         Birmingham   \n",
       "337    customer_5  booking_131      Mumbai        India             Kloten   \n",
       "338  customer_241  booking_336     Gurgaon        India          Amsterdam   \n",
       "\n",
       "         to_country        booking_time device_type_used  INR_Amount  \\\n",
       "0             India 2020-02-05 16:12:08          Desktop     2565.28   \n",
       "1           Belgium 2018-11-21 08:21:47          Android    23120.00   \n",
       "2           Germany 2019-12-16 22:54:58          Android    25717.60   \n",
       "3           Germany 2021-10-29 12:25:38          Desktop   135969.60   \n",
       "4            France 2020-08-11 16:09:10          Android    31791.20   \n",
       "..              ...                 ...              ...         ...   \n",
       "334           India 2020-02-14 14:20:20              IOS     2721.60   \n",
       "335           India 2020-03-21 06:40:56          Android     6552.00   \n",
       "336  United Kingdom 2020-01-31 20:35:35          Desktop   126502.46   \n",
       "337     Switzerland 2018-10-11 14:31:28          Desktop    55152.80   \n",
       "338     Netherlands 2022-07-11 18:46:59          Desktop    41117.60   \n",
       "\n",
       "    service_name  no_of_passengers  days_to_departure  distance_km  year  \\\n",
       "0            MMT               1.0               10.0        747.8  2020   \n",
       "1          YATRA               1.0                1.0       6701.5  2018   \n",
       "2          YATRA               1.0               32.0       7712.0  2019   \n",
       "3        GOIBIBO               2.0               69.0       6112.5  2021   \n",
       "4        GOIBIBO               1.0                3.0       6570.4  2020   \n",
       "..           ...               ...                ...          ...   ...   \n",
       "334        YATRA               1.0               26.0        421.0  2020   \n",
       "335      GOIBIBO               1.0                0.0       1274.7  2020   \n",
       "336      GOIBIBO               2.0              109.0       7190.9  2020   \n",
       "337        YATRA               2.0               22.0       6760.0  2018   \n",
       "338      GOIBIBO               1.0               20.0       6354.9  2022   \n",
       "\n",
       "     month  day  \n",
       "0        2    5  \n",
       "1       11   21  \n",
       "2       12   16  \n",
       "3       10   29  \n",
       "4        8   11  \n",
       "..     ...  ...  \n",
       "334      2   14  \n",
       "335      3   21  \n",
       "336      1   31  \n",
       "337     10   11  \n",
       "338      7   11  \n",
       "\n",
       "[339 rows x 16 columns]"
      ]
     },
     "execution_count": 30,
     "metadata": {},
     "output_type": "execute_result"
    }
   ],
   "source": [
    "Day_of_booking['booking_time'] = pd.to_datetime(Day_of_booking['booking_time'], format='%Y-%m-%dT%H:%M:%SZ')\n",
    "Day_of_booking['year'] = Day_of_booking['booking_time'].dt.year\n",
    "Day_of_booking['month'] = Day_of_booking['booking_time'].dt.month\n",
    "Day_of_booking['day'] = Day_of_booking['booking_time'].dt.day\n",
    "Day_of_booking"
   ]
  },
  {
   "cell_type": "code",
   "execution_count": 32,
   "id": "17263422-106d-45ea-9a5e-773a88ddc74a",
   "metadata": {},
   "outputs": [
    {
     "data": {
      "text/html": [
       "<div>\n",
       "<style scoped>\n",
       "    .dataframe tbody tr th:only-of-type {\n",
       "        vertical-align: middle;\n",
       "    }\n",
       "\n",
       "    .dataframe tbody tr th {\n",
       "        vertical-align: top;\n",
       "    }\n",
       "\n",
       "    .dataframe thead th {\n",
       "        text-align: right;\n",
       "    }\n",
       "</style>\n",
       "<table border=\"1\" class=\"dataframe\">\n",
       "  <thead>\n",
       "    <tr style=\"text-align: right;\">\n",
       "      <th></th>\n",
       "      <th>customer_id</th>\n",
       "      <th>booking_id</th>\n",
       "      <th>from_city</th>\n",
       "      <th>from_country</th>\n",
       "      <th>to_city</th>\n",
       "      <th>to_country</th>\n",
       "      <th>booking_time</th>\n",
       "      <th>device_type_used</th>\n",
       "      <th>INR_Amount</th>\n",
       "      <th>service_name</th>\n",
       "      <th>no_of_passengers</th>\n",
       "      <th>days_to_departure</th>\n",
       "      <th>distance_km</th>\n",
       "      <th>year</th>\n",
       "      <th>month</th>\n",
       "      <th>day</th>\n",
       "    </tr>\n",
       "  </thead>\n",
       "  <tbody>\n",
       "    <tr>\n",
       "      <th>0</th>\n",
       "      <td>customer_259</td>\n",
       "      <td>booking_82</td>\n",
       "      <td>Gurgaon</td>\n",
       "      <td>India</td>\n",
       "      <td>Ahmedabad</td>\n",
       "      <td>India</td>\n",
       "      <td>2020-02-05 16:12:08</td>\n",
       "      <td>Desktop</td>\n",
       "      <td>2565.28</td>\n",
       "      <td>MMT</td>\n",
       "      <td>1.0</td>\n",
       "      <td>10.0</td>\n",
       "      <td>747.8</td>\n",
       "      <td>2020</td>\n",
       "      <td>2</td>\n",
       "      <td>5</td>\n",
       "    </tr>\n",
       "    <tr>\n",
       "      <th>1</th>\n",
       "      <td>customer_303</td>\n",
       "      <td>booking_156</td>\n",
       "      <td>Delhi</td>\n",
       "      <td>India</td>\n",
       "      <td>Brussels</td>\n",
       "      <td>Belgium</td>\n",
       "      <td>2018-11-21 08:21:47</td>\n",
       "      <td>Android</td>\n",
       "      <td>23120.00</td>\n",
       "      <td>YATRA</td>\n",
       "      <td>1.0</td>\n",
       "      <td>1.0</td>\n",
       "      <td>6701.5</td>\n",
       "      <td>2018</td>\n",
       "      <td>11</td>\n",
       "      <td>21</td>\n",
       "    </tr>\n",
       "  </tbody>\n",
       "</table>\n",
       "</div>"
      ],
      "text/plain": [
       "    customer_id   booking_id from_city from_country    to_city to_country  \\\n",
       "0  customer_259   booking_82   Gurgaon        India  Ahmedabad      India   \n",
       "1  customer_303  booking_156     Delhi        India   Brussels    Belgium   \n",
       "\n",
       "         booking_time device_type_used  INR_Amount service_name  \\\n",
       "0 2020-02-05 16:12:08          Desktop     2565.28          MMT   \n",
       "1 2018-11-21 08:21:47          Android    23120.00        YATRA   \n",
       "\n",
       "   no_of_passengers  days_to_departure  distance_km  year  month  day  \n",
       "0               1.0               10.0        747.8  2020      2    5  \n",
       "1               1.0                1.0       6701.5  2018     11   21  "
      ]
     },
     "execution_count": 32,
     "metadata": {},
     "output_type": "execute_result"
    }
   ],
   "source": [
    "Day_of_booking.head(2)"
   ]
  },
  {
   "cell_type": "code",
   "execution_count": 34,
   "id": "773e6c5c-9687-45c0-9f9d-33cbe80c6031",
   "metadata": {},
   "outputs": [
    {
     "data": {
      "text/plain": [
       "Index(['customer_id', 'booking_id', 'from_city', 'from_country', 'to_city',\n",
       "       'to_country', 'booking_time', 'device_type_used', 'INR_Amount',\n",
       "       'service_name', 'no_of_passengers', 'days_to_departure', 'distance_km',\n",
       "       'year', 'month', 'day'],\n",
       "      dtype='object')"
      ]
     },
     "execution_count": 34,
     "metadata": {},
     "output_type": "execute_result"
    }
   ],
   "source": [
    "column_names = Day_of_booking.columns\n",
    "column_names"
   ]
  },
  {
   "cell_type": "code",
   "execution_count": 36,
   "id": "fe99546c-18d7-4c20-bed4-0c653b46176e",
   "metadata": {},
   "outputs": [
    {
     "data": {
      "text/plain": [
       "['customer_id',\n",
       " 'booking_id',\n",
       " 'from_city',\n",
       " 'from_country',\n",
       " 'to_city',\n",
       " 'to_country',\n",
       " 'booking_time',\n",
       " 'device_type_used',\n",
       " 'INR_Amount',\n",
       " 'service_name',\n",
       " 'no_of_passengers',\n",
       " 'days_to_departure',\n",
       " 'distance_km']"
      ]
     },
     "execution_count": 36,
     "metadata": {},
     "output_type": "execute_result"
    }
   ],
   "source": [
    "checking_col = data.columns.to_list()\n",
    "checking_col"
   ]
  },
  {
   "cell_type": "code",
   "execution_count": 38,
   "id": "7e37d2ce-003d-4190-bab4-d2f94b5b6fbd",
   "metadata": {},
   "outputs": [
    {
     "data": {
      "text/plain": [
       "339"
      ]
     },
     "execution_count": 38,
     "metadata": {},
     "output_type": "execute_result"
    }
   ],
   "source": [
    "booking_count = data['booking_id'].nunique()\n",
    "booking_count"
   ]
  },
  {
   "cell_type": "markdown",
   "id": "d7db54f0-4260-4cdb-8746-984e598b66ff",
   "metadata": {},
   "source": [
    "#### (Question- 02) How many sessions have more than one booking"
   ]
  },
  {
   "cell_type": "code",
   "execution_count": 41,
   "id": "6d518757-2dd3-4534-92f9-ad6541e4e048",
   "metadata": {},
   "outputs": [
    {
     "data": {
      "text/html": [
       "<div>\n",
       "<style scoped>\n",
       "    .dataframe tbody tr th:only-of-type {\n",
       "        vertical-align: middle;\n",
       "    }\n",
       "\n",
       "    .dataframe tbody tr th {\n",
       "        vertical-align: top;\n",
       "    }\n",
       "\n",
       "    .dataframe thead th {\n",
       "        text-align: right;\n",
       "    }\n",
       "</style>\n",
       "<table border=\"1\" class=\"dataframe\">\n",
       "  <thead>\n",
       "    <tr style=\"text-align: right;\">\n",
       "      <th></th>\n",
       "      <th>session_id</th>\n",
       "      <th>search_id</th>\n",
       "      <th>search_time</th>\n",
       "      <th>session_starting_time</th>\n",
       "      <th>booking_id</th>\n",
       "    </tr>\n",
       "  </thead>\n",
       "  <tbody>\n",
       "    <tr>\n",
       "      <th>0</th>\n",
       "      <td>session_322</td>\n",
       "      <td>search_784</td>\n",
       "      <td>2020-01-21T21:35:38.910Z</td>\n",
       "      <td>2020-01-21T21:10:12Z</td>\n",
       "      <td>NaN</td>\n",
       "    </tr>\n",
       "    <tr>\n",
       "      <th>1</th>\n",
       "      <td>session_322</td>\n",
       "      <td>search_776</td>\n",
       "      <td>2020-01-21T21:37:37.697Z</td>\n",
       "      <td>2020-01-21T21:10:12Z</td>\n",
       "      <td>NaN</td>\n",
       "    </tr>\n",
       "    <tr>\n",
       "      <th>2</th>\n",
       "      <td>session_322</td>\n",
       "      <td>search_623</td>\n",
       "      <td>2020-01-21T21:36:11.392Z</td>\n",
       "      <td>2020-01-21T21:10:12Z</td>\n",
       "      <td>NaN</td>\n",
       "    </tr>\n",
       "    <tr>\n",
       "      <th>3</th>\n",
       "      <td>session_322</td>\n",
       "      <td>search_270</td>\n",
       "      <td>2020-01-21T21:16:07.685Z</td>\n",
       "      <td>2020-01-21T21:10:12Z</td>\n",
       "      <td>NaN</td>\n",
       "    </tr>\n",
       "    <tr>\n",
       "      <th>4</th>\n",
       "      <td>session_322</td>\n",
       "      <td>search_905</td>\n",
       "      <td>2020-01-21T21:34:55.673Z</td>\n",
       "      <td>2020-01-21T21:10:12Z</td>\n",
       "      <td>NaN</td>\n",
       "    </tr>\n",
       "  </tbody>\n",
       "</table>\n",
       "</div>"
      ],
      "text/plain": [
       "    session_id   search_id               search_time session_starting_time  \\\n",
       "0  session_322  search_784  2020-01-21T21:35:38.910Z  2020-01-21T21:10:12Z   \n",
       "1  session_322  search_776  2020-01-21T21:37:37.697Z  2020-01-21T21:10:12Z   \n",
       "2  session_322  search_623  2020-01-21T21:36:11.392Z  2020-01-21T21:10:12Z   \n",
       "3  session_322  search_270  2020-01-21T21:16:07.685Z  2020-01-21T21:10:12Z   \n",
       "4  session_322  search_905  2020-01-21T21:34:55.673Z  2020-01-21T21:10:12Z   \n",
       "\n",
       "  booking_id  \n",
       "0        NaN  \n",
       "1        NaN  \n",
       "2        NaN  \n",
       "3        NaN  \n",
       "4        NaN  "
      ]
     },
     "execution_count": 41,
     "metadata": {},
     "output_type": "execute_result"
    }
   ],
   "source": [
    "number_of_session = pd.read_csv('Sessions.csv')\n",
    "number_of_session.head()"
   ]
  },
  {
   "cell_type": "code",
   "execution_count": 43,
   "id": "10b2b20b-44b8-4129-860e-715445611d48",
   "metadata": {},
   "outputs": [
    {
     "data": {
      "text/plain": [
       "237"
      ]
     },
     "execution_count": 43,
     "metadata": {},
     "output_type": "execute_result"
    }
   ],
   "source": [
    "session_booking_counts = number_of_session.groupby('session_id').size()\n",
    "\n",
    "# sessions which have more than one booking\n",
    "sessions_with_multiple_bookings = session_booking_counts[session_booking_counts > 1]\n",
    "\n",
    "# Count of how many sessions have more than one booking\n",
    "num_sessions_with_multiple_bookings = len(sessions_with_multiple_bookings)\n",
    "num_sessions_with_multiple_bookings"
   ]
  },
  {
   "cell_type": "code",
   "execution_count": 45,
   "id": "80b795bf-74ec-46cd-98bc-d5b306f08b40",
   "metadata": {},
   "outputs": [
    {
     "data": {
      "text/plain": [
       "331"
      ]
     },
     "execution_count": 45,
     "metadata": {},
     "output_type": "execute_result"
    }
   ],
   "source": [
    "u = number_of_session['session_id'].nunique()\n",
    "u"
   ]
  },
  {
   "cell_type": "code",
   "execution_count": 47,
   "id": "d42f5a67-6bbf-4778-a52a-f8275a6ff160",
   "metadata": {},
   "outputs": [
    {
     "ename": "SyntaxError",
     "evalue": "closing parenthesis ')' does not match opening parenthesis '[' (319546874.py, line 1)",
     "output_type": "error",
     "traceback": [
      "\u001b[1;36m  Cell \u001b[1;32mIn[47], line 1\u001b[1;36m\u001b[0m\n\u001b[1;33m    seesion_cont = flt[(flt['session_id'] >1) & flt['booking_id'] > 2)]\u001b[0m\n\u001b[1;37m                                                                     ^\u001b[0m\n\u001b[1;31mSyntaxError\u001b[0m\u001b[1;31m:\u001b[0m closing parenthesis ')' does not match opening parenthesis '['\n"
     ]
    }
   ],
   "source": [
    "seesion_cont = flt[(flt['session_id'] >1) & flt['booking_id'] > 2)] "
   ]
  },
  {
   "cell_type": "code",
   "execution_count": 49,
   "id": "0b9c8f88-abed-4a21-b50a-23ed4d23f885",
   "metadata": {},
   "outputs": [
    {
     "data": {
      "text/plain": [
       "count\n",
       "False    310\n",
       "True      28\n",
       "Name: count, dtype: int64"
      ]
     },
     "execution_count": 49,
     "metadata": {},
     "output_type": "execute_result"
    }
   ],
   "source": [
    "check = number_of_session['booking_id'].value_counts()>1\n",
    "check\n",
    "\n",
    "tr = check.value_counts()\n",
    "tr"
   ]
  },
  {
   "cell_type": "markdown",
   "id": "57d0d36d-bf96-4b28-82f6-a2b1b5a9822d",
   "metadata": {},
   "source": [
    "#### (Question -3) Which days of the week have the highest number of bookings? Also, draw a pie chart to \n",
    "show the distribution for all days of the week"
   ]
  },
  {
   "cell_type": "code",
   "execution_count": 52,
   "id": "697be791-4157-40c3-9bae-97d0e19172d9",
   "metadata": {},
   "outputs": [
    {
     "data": {
      "text/plain": [
       "day_of_week\n",
       "Thursday     65\n",
       "Tuesday      59\n",
       "Monday       51\n",
       "Friday       51\n",
       "Saturday     44\n",
       "Sunday       35\n",
       "Wednesday    34\n",
       "Name: count, dtype: int64"
      ]
     },
     "execution_count": 52,
     "metadata": {},
     "output_type": "execute_result"
    }
   ],
   "source": [
    "import pandas as pd\n",
    "import matplotlib.pyplot as plt\n",
    "\n",
    "# Combine the year, month, and day columns to create a ('datetime') object\n",
    "Day_of_booking['booking_date_new'] = pd.to_datetime(Day_of_booking[['year', 'month', 'day']])\n",
    "\n",
    "# Extract day of the week (monday to sunday)\n",
    "Day_of_booking['day_of_week'] = Day_of_booking['booking_date_new'].dt.day_name()\n",
    "\n",
    "# Count the number of bookings for each day of the week\n",
    "bookings_by_day = Day_of_booking['day_of_week'].value_counts()\n",
    "bookings_by_day"
   ]
  },
  {
   "cell_type": "code",
   "execution_count": 54,
   "id": "3b26a1b1-19c8-4911-b0c5-cfad01ea8427",
   "metadata": {},
   "outputs": [
    {
     "data": {
      "image/png": "[encoded data removed]",
      "text/plain": [
       "<Figure size 700x700 with 1 Axes>"
      ]
     },
     "metadata": {},
     "output_type": "display_data"
    }
   ],
   "source": [
    "plt.figure(figsize=(7, 7))\n",
    "bookings_by_day.plot.pie(autopct='%1.1f%%', startangle=90, cmap='Set3')\n",
    "plt.title('Bookings Distribution by Day of the Week')\n",
    "plt.ylabel('')  # Removing the y-level for more clarity on the pie-chart\n",
    "plt.axis('equal')  # To ensures the pie chart is circular\n",
    "plt.show()"
   ]
  },
  {
   "cell_type": "code",
   "execution_count": 56,
   "id": "ef48084a-bc3e-44d8-91ab-f524a95ea0f2",
   "metadata": {},
   "outputs": [
    {
     "data": {
      "text/html": [
       "<div>\n",
       "<style scoped>\n",
       "    .dataframe tbody tr th:only-of-type {\n",
       "        vertical-align: middle;\n",
       "    }\n",
       "\n",
       "    .dataframe tbody tr th {\n",
       "        vertical-align: top;\n",
       "    }\n",
       "\n",
       "    .dataframe thead th {\n",
       "        text-align: right;\n",
       "    }\n",
       "</style>\n",
       "<table border=\"1\" class=\"dataframe\">\n",
       "  <thead>\n",
       "    <tr style=\"text-align: right;\">\n",
       "      <th></th>\n",
       "      <th>customer_id</th>\n",
       "      <th>booking_id</th>\n",
       "      <th>from_city</th>\n",
       "      <th>from_country</th>\n",
       "      <th>to_city</th>\n",
       "      <th>to_country</th>\n",
       "      <th>booking_time</th>\n",
       "      <th>device_type_used</th>\n",
       "      <th>INR_Amount</th>\n",
       "      <th>service_name</th>\n",
       "      <th>no_of_passengers</th>\n",
       "      <th>days_to_departure</th>\n",
       "      <th>distance_km</th>\n",
       "      <th>year</th>\n",
       "      <th>month</th>\n",
       "      <th>day</th>\n",
       "      <th>booking_date_new</th>\n",
       "      <th>day_of_week</th>\n",
       "    </tr>\n",
       "  </thead>\n",
       "  <tbody>\n",
       "    <tr>\n",
       "      <th>0</th>\n",
       "      <td>customer_259</td>\n",
       "      <td>booking_82</td>\n",
       "      <td>Gurgaon</td>\n",
       "      <td>India</td>\n",
       "      <td>Ahmedabad</td>\n",
       "      <td>India</td>\n",
       "      <td>2020-02-05 16:12:08</td>\n",
       "      <td>Desktop</td>\n",
       "      <td>2565.28</td>\n",
       "      <td>MMT</td>\n",
       "      <td>1.0</td>\n",
       "      <td>10.0</td>\n",
       "      <td>747.8</td>\n",
       "      <td>2020</td>\n",
       "      <td>2</td>\n",
       "      <td>5</td>\n",
       "      <td>2020-02-05</td>\n",
       "      <td>Wednesday</td>\n",
       "    </tr>\n",
       "    <tr>\n",
       "      <th>1</th>\n",
       "      <td>customer_303</td>\n",
       "      <td>booking_156</td>\n",
       "      <td>Delhi</td>\n",
       "      <td>India</td>\n",
       "      <td>Brussels</td>\n",
       "      <td>Belgium</td>\n",
       "      <td>2018-11-21 08:21:47</td>\n",
       "      <td>Android</td>\n",
       "      <td>23120.00</td>\n",
       "      <td>YATRA</td>\n",
       "      <td>1.0</td>\n",
       "      <td>1.0</td>\n",
       "      <td>6701.5</td>\n",
       "      <td>2018</td>\n",
       "      <td>11</td>\n",
       "      <td>21</td>\n",
       "      <td>2018-11-21</td>\n",
       "      <td>Wednesday</td>\n",
       "    </tr>\n",
       "  </tbody>\n",
       "</table>\n",
       "</div>"
      ],
      "text/plain": [
       "    customer_id   booking_id from_city from_country    to_city to_country  \\\n",
       "0  customer_259   booking_82   Gurgaon        India  Ahmedabad      India   \n",
       "1  customer_303  booking_156     Delhi        India   Brussels    Belgium   \n",
       "\n",
       "         booking_time device_type_used  INR_Amount service_name  \\\n",
       "0 2020-02-05 16:12:08          Desktop     2565.28          MMT   \n",
       "1 2018-11-21 08:21:47          Android    23120.00        YATRA   \n",
       "\n",
       "   no_of_passengers  days_to_departure  distance_km  year  month  day  \\\n",
       "0               1.0               10.0        747.8  2020      2    5   \n",
       "1               1.0                1.0       6701.5  2018     11   21   \n",
       "\n",
       "  booking_date_new day_of_week  \n",
       "0       2020-02-05   Wednesday  \n",
       "1       2018-11-21   Wednesday  "
      ]
     },
     "execution_count": 56,
     "metadata": {},
     "output_type": "execute_result"
    }
   ],
   "source": [
    "Day_of_booking.head(2)"
   ]
  },
  {
   "cell_type": "code",
   "execution_count": 58,
   "id": "ecbb0483-2657-4279-91e1-45d10058c138",
   "metadata": {},
   "outputs": [
    {
     "data": {
      "text/plain": [
       "dtype('O')"
      ]
     },
     "execution_count": 58,
     "metadata": {},
     "output_type": "execute_result"
    }
   ],
   "source": [
    "Day_of_booking['service_name'].dtype"
   ]
  },
  {
   "cell_type": "code",
   "execution_count": 60,
   "id": "a0067fdd-5030-4819-8a3b-b65c9f91d5bf",
   "metadata": {},
   "outputs": [
    {
     "data": {
      "text/plain": [
       "dtype('float64')"
      ]
     },
     "execution_count": 60,
     "metadata": {},
     "output_type": "execute_result"
    }
   ],
   "source": [
    "Day_of_booking['INR_Amount'].dtype"
   ]
  },
  {
   "cell_type": "code",
   "execution_count": 62,
   "id": "b26fff4d-2ab1-41d6-b992-3d92938cb57a",
   "metadata": {},
   "outputs": [
    {
     "data": {
      "text/plain": [
       "dtype('O')"
      ]
     },
     "execution_count": 62,
     "metadata": {},
     "output_type": "execute_result"
    }
   ],
   "source": [
    "Day_of_booking['customer_id'].dtype"
   ]
  },
  {
   "cell_type": "markdown",
   "id": "d332a101-c80f-4462-9dd1-99909408eb98",
   "metadata": {},
   "source": [
    "### (Question -04) For each of the service names, display the total number of bookings and the total Gross \n",
    "Booking Value in INR"
   ]
  },
  {
   "cell_type": "code",
   "execution_count": 65,
   "id": "6278c750-2186-4e19-93d1-164a952fd17b",
   "metadata": {},
   "outputs": [
    {
     "name": "stdout",
     "output_type": "stream",
     "text": [
      "  service_name  total_bookings  total_booking_INR\n",
      "0      GOIBIBO             186         5897637.97\n",
      "1          MMT              48          665669.08\n",
      "2        YATRA             105         3378702.13\n"
     ]
    }
   ],
   "source": [
    "import pandas as pd\n",
    "\n",
    "# Group by service_name, and aggregate to find total bookings and total Gross Booking Value\n",
    "result = Day_of_booking.groupby('service_name').agg(\n",
    "    total_bookings=('service_name', 'size'),  # Talking count of the booking\n",
    "    total_booking_INR=('INR_Amount', 'sum')  # Sum of Gross Booking Value in india currency\n",
    ").reset_index()\n",
    "\n",
    "print(result)\n"
   ]
  },
  {
   "cell_type": "code",
   "execution_count": 67,
   "id": "f58c7e8a-075d-480e-944d-e2ac92c4e91b",
   "metadata": {},
   "outputs": [
    {
     "data": {
      "text/plain": [
       "Index(['customer_120', 'customer_137', 'customer_144', 'customer_155',\n",
       "       'customer_160', 'customer_176', 'customer_179', 'customer_200',\n",
       "       'customer_217', 'customer_230', 'customer_235', 'customer_237',\n",
       "       'customer_245', 'customer_246', 'customer_247', 'customer_255',\n",
       "       'customer_265', 'customer_28', 'customer_282', 'customer_297',\n",
       "       'customer_33', 'customer_44', 'customer_49', 'customer_67',\n",
       "       'customer_93', 'customer_97'],\n",
       "      dtype='object', name='customer_id')"
      ]
     },
     "execution_count": 67,
     "metadata": {},
     "output_type": "execute_result"
    }
   ],
   "source": [
    "# Find the customers who have more than 1 booking\n",
    "customer_booking_counts = Day_of_booking.groupby('customer_id').size()\n",
    "customers_with_multiple_bookings = customer_booking_counts[customer_booking_counts > 1].index\n",
    "customer_booking_counts\n",
    "customers_with_multiple_bookings\n",
    "# Step 2: Filter data for those customers\n",
    "# df_filtered = customer_booking_counts[customer_booking_counts['customer_id'].isin(customers_with_multiple_bookings)]\n",
    "# df_filtered()"
   ]
  },
  {
   "cell_type": "code",
   "execution_count": 69,
   "id": "2ea10bf6-7fae-4953-9187-be8ea2ab6031",
   "metadata": {},
   "outputs": [
    {
     "name": "stdout",
     "output_type": "stream",
     "text": [
      "printing customer booking counts customer_id\n",
      "customer_0      1\n",
      "customer_1      1\n",
      "customer_10     1\n",
      "customer_100    1\n",
      "customer_101    1\n",
      "               ..\n",
      "customer_95     1\n",
      "customer_96     1\n",
      "customer_97     4\n",
      "customer_98     1\n",
      "customer_99     1\n",
      "Length: 306, dtype: int64\n"
     ]
    }
   ],
   "source": [
    "print(\"printing customer booking counts\",customer_booking_counts)"
   ]
  },
  {
   "cell_type": "markdown",
   "id": "3bd59ba7-e27a-4457-8e9c-a38728f07458",
   "metadata": {},
   "source": [
    "### (Question - 05) For customers who have more than 1 booking, which is the most booked route\r\n",
    "(from_city to to_city)?\r"
   ]
  },
  {
   "cell_type": "code",
   "execution_count": 72,
   "id": "c70ce90d-5237-4bb5-b54c-25e2622a847b",
   "metadata": {},
   "outputs": [
    {
     "name": "stdout",
     "output_type": "stream",
     "text": [
      "customers with multiple bookings Index(['customer_120', 'customer_137', 'customer_144', 'customer_155',\n",
      "       'customer_160', 'customer_176', 'customer_179', 'customer_200',\n",
      "       'customer_217', 'customer_230', 'customer_235', 'customer_237',\n",
      "       'customer_245', 'customer_246', 'customer_247', 'customer_255',\n",
      "       'customer_265', 'customer_28', 'customer_282', 'customer_297',\n",
      "       'customer_33', 'customer_44', 'customer_49', 'customer_67',\n",
      "       'customer_93', 'customer_97'],\n",
      "      dtype='object', name='customer_id')\n"
     ]
    }
   ],
   "source": [
    "print(\"customers with multiple bookings\",customers_with_multiple_bookings)"
   ]
  },
  {
   "cell_type": "code",
   "execution_count": 74,
   "id": "125b11fe-8c85-42e5-86d3-bd745c095cf4",
   "metadata": {},
   "outputs": [],
   "source": [
    "# Filter bookings for customers with more than 1 booking\n",
    "df_filtered = Day_of_booking[Day_of_booking['customer_id'].isin(customers_with_multiple_bookings)].copy()\n",
    "\n",
    "#  Create a 'route' column by concatenating 'from_city' and 'to_city'\n",
    "df_filtered.loc[:, 'route'] = df_filtered['from_city'] + ' -> ' + df_filtered['to_city']\n",
    "\n",
    "#  Count the occurrences of each route\n",
    "route_counts = df_filtered['route'].value_counts()\n",
    "\n",
    "#  Get the most booked route\n",
    "most_booked_route = route_counts.idxmax()\n",
    "most_booked_route_count = route_counts.max()\n"
   ]
  },
  {
   "cell_type": "code",
   "execution_count": 76,
   "id": "d2adc3cd-ebbe-44c4-a87e-a8f8a15d6142",
   "metadata": {},
   "outputs": [
    {
     "name": "stdout",
     "output_type": "stream",
     "text": [
      "Most booked route: Gurgaon -> Roissy-en-France (Booked 5 times)\n",
      "Customers who booked the route 'Gurgaon -> Roissy-en-France': ['customer_49', 'customer_265', 'customer_246']\n"
     ]
    }
   ],
   "source": [
    "# Display the most booked route and its count\n",
    "print(f\"Most booked route: {most_booked_route} (Booked {most_booked_route_count} times)\")\n",
    "\n",
    "#  Find the customers who booked the most booked route\n",
    "customers_for_most_booked_route = df_filtered[df_filtered['route'] == most_booked_route]['customer_id'].unique()\n",
    "\n",
    "# Display the customers (customer ID) who booked the most booked route\n",
    "print(f\"Customers who booked the route '{most_booked_route}': {list(customers_for_most_booked_route)}\")"
   ]
  },
  {
   "cell_type": "markdown",
   "id": "80d7b04a-2519-4897-8641-b8ab43b68703",
   "metadata": {},
   "source": [
    "### (Question - 06) Which are the top 3 departure cities from where customers book mostly in advance,\r\n",
    "provided that there have been at least 5 departures from that city?"
   ]
  },
  {
   "cell_type": "code",
   "execution_count": 79,
   "id": "c48daf2c-938b-402e-a239-f1ba43af1c8e",
   "metadata": {},
   "outputs": [
    {
     "data": {
      "text/html": [
       "<div>\n",
       "<style scoped>\n",
       "    .dataframe tbody tr th:only-of-type {\n",
       "        vertical-align: middle;\n",
       "    }\n",
       "\n",
       "    .dataframe tbody tr th {\n",
       "        vertical-align: top;\n",
       "    }\n",
       "\n",
       "    .dataframe thead th {\n",
       "        text-align: right;\n",
       "    }\n",
       "</style>\n",
       "<table border=\"1\" class=\"dataframe\">\n",
       "  <thead>\n",
       "    <tr style=\"text-align: right;\">\n",
       "      <th></th>\n",
       "      <th>customer_id</th>\n",
       "      <th>booking_id</th>\n",
       "      <th>from_city</th>\n",
       "      <th>from_country</th>\n",
       "      <th>to_city</th>\n",
       "      <th>to_country</th>\n",
       "      <th>booking_time</th>\n",
       "      <th>device_type_used</th>\n",
       "      <th>INR_Amount</th>\n",
       "      <th>service_name</th>\n",
       "      <th>no_of_passengers</th>\n",
       "      <th>days_to_departure</th>\n",
       "      <th>distance_km</th>\n",
       "    </tr>\n",
       "  </thead>\n",
       "  <tbody>\n",
       "    <tr>\n",
       "      <th>0</th>\n",
       "      <td>customer_259</td>\n",
       "      <td>booking_82</td>\n",
       "      <td>Gurgaon</td>\n",
       "      <td>India</td>\n",
       "      <td>Ahmedabad</td>\n",
       "      <td>India</td>\n",
       "      <td>2020-02-05T16:12:08Z</td>\n",
       "      <td>Desktop</td>\n",
       "      <td>2565.28</td>\n",
       "      <td>MMT</td>\n",
       "      <td>1.0</td>\n",
       "      <td>10.0</td>\n",
       "      <td>747.8</td>\n",
       "    </tr>\n",
       "    <tr>\n",
       "      <th>1</th>\n",
       "      <td>customer_303</td>\n",
       "      <td>booking_156</td>\n",
       "      <td>Delhi</td>\n",
       "      <td>India</td>\n",
       "      <td>Brussels</td>\n",
       "      <td>Belgium</td>\n",
       "      <td>2018-11-21T08:21:47Z</td>\n",
       "      <td>Android</td>\n",
       "      <td>23120.00</td>\n",
       "      <td>YATRA</td>\n",
       "      <td>1.0</td>\n",
       "      <td>1.0</td>\n",
       "      <td>6701.5</td>\n",
       "    </tr>\n",
       "  </tbody>\n",
       "</table>\n",
       "</div>"
      ],
      "text/plain": [
       "    customer_id   booking_id from_city from_country    to_city to_country  \\\n",
       "0  customer_259   booking_82   Gurgaon        India  Ahmedabad      India   \n",
       "1  customer_303  booking_156     Delhi        India   Brussels    Belgium   \n",
       "\n",
       "           booking_time device_type_used  INR_Amount service_name  \\\n",
       "0  2020-02-05T16:12:08Z          Desktop     2565.28          MMT   \n",
       "1  2018-11-21T08:21:47Z          Android    23120.00        YATRA   \n",
       "\n",
       "   no_of_passengers  days_to_departure  distance_km  \n",
       "0               1.0               10.0        747.8  \n",
       "1               1.0                1.0       6701.5  "
      ]
     },
     "execution_count": 79,
     "metadata": {},
     "output_type": "execute_result"
    }
   ],
   "source": [
    "import pandas as pd\n",
    "\n",
    "Day_of_booking = pd.read_csv('Bookings.csv')\n",
    "data.head(2)"
   ]
  },
  {
   "cell_type": "code",
   "execution_count": 81,
   "id": "ff292925-cc4f-4cc0-a069-43c8a0ae899e",
   "metadata": {},
   "outputs": [
    {
     "name": "stdout",
     "output_type": "stream",
     "text": [
      "Top 3 departure cities with most advance bookings:\n",
      "    from_city  days_in_advance\n",
      "1     Bālāpur        46.166667\n",
      "4  Devanhalli        29.583333\n",
      "2     Chennai        26.187500\n"
     ]
    }
   ],
   "source": [
    "# Calculate days in advance for booking\n",
    "Day_of_booking['days_in_advance'] = Day_of_booking['days_to_departure']\n",
    "\n",
    "# Group by 'from_city' and filter cities with at least 5 departures\n",
    "city_counts = Day_of_booking['from_city'].value_counts()\n",
    "valid_cities = city_counts[city_counts >= 5].index\n",
    "\n",
    "#  Calculate average days in advance for valid cities\n",
    "average_lead_time = Day_of_booking[Day_of_booking['from_city'].isin(valid_cities)].groupby('from_city')['days_in_advance'].mean().reset_index()\n",
    "\n",
    "#  Sort and select top 3 cities based on average days booked in advance\n",
    "top_3_cities = average_lead_time.sort_values(by='days_in_advance', ascending=False).head(3)\n",
    "\n",
    "# Display the result\n",
    "print(\"Top 3 departure cities with most advance bookings:\")\n",
    "print(top_3_cities)"
   ]
  },
  {
   "cell_type": "markdown",
   "id": "4ad69c4d-8436-45cd-a593-c20933aa6e4e",
   "metadata": {},
   "source": [
    "### (Question - 07) Plot a heatmap displaying correlations of the numerical column and report which pair\r\n",
    "of numerical columns in the bookings dataset, have the maximum correlation?"
   ]
  },
  {
   "cell_type": "code",
   "execution_count": 84,
   "id": "e2d26769-c7ed-4ba8-a8fa-080bede123fc",
   "metadata": {},
   "outputs": [
    {
     "data": {
      "text/html": [
       "<div>\n",
       "<style scoped>\n",
       "    .dataframe tbody tr th:only-of-type {\n",
       "        vertical-align: middle;\n",
       "    }\n",
       "\n",
       "    .dataframe tbody tr th {\n",
       "        vertical-align: top;\n",
       "    }\n",
       "\n",
       "    .dataframe thead th {\n",
       "        text-align: right;\n",
       "    }\n",
       "</style>\n",
       "<table border=\"1\" class=\"dataframe\">\n",
       "  <thead>\n",
       "    <tr style=\"text-align: right;\">\n",
       "      <th></th>\n",
       "      <th>INR_Amount</th>\n",
       "      <th>no_of_passengers</th>\n",
       "      <th>days_to_departure</th>\n",
       "      <th>distance_km</th>\n",
       "      <th>days_in_advance</th>\n",
       "    </tr>\n",
       "  </thead>\n",
       "  <tbody>\n",
       "    <tr>\n",
       "      <th>INR_Amount</th>\n",
       "      <td>1.000000</td>\n",
       "      <td>0.397229</td>\n",
       "      <td>0.284534</td>\n",
       "      <td>0.623565</td>\n",
       "      <td>0.284534</td>\n",
       "    </tr>\n",
       "    <tr>\n",
       "      <th>no_of_passengers</th>\n",
       "      <td>0.397229</td>\n",
       "      <td>1.000000</td>\n",
       "      <td>0.187128</td>\n",
       "      <td>0.001698</td>\n",
       "      <td>0.187128</td>\n",
       "    </tr>\n",
       "    <tr>\n",
       "      <th>days_to_departure</th>\n",
       "      <td>0.284534</td>\n",
       "      <td>0.187128</td>\n",
       "      <td>1.000000</td>\n",
       "      <td>0.216972</td>\n",
       "      <td>1.000000</td>\n",
       "    </tr>\n",
       "    <tr>\n",
       "      <th>distance_km</th>\n",
       "      <td>0.623565</td>\n",
       "      <td>0.001698</td>\n",
       "      <td>0.216972</td>\n",
       "      <td>1.000000</td>\n",
       "      <td>0.216972</td>\n",
       "    </tr>\n",
       "    <tr>\n",
       "      <th>days_in_advance</th>\n",
       "      <td>0.284534</td>\n",
       "      <td>0.187128</td>\n",
       "      <td>1.000000</td>\n",
       "      <td>0.216972</td>\n",
       "      <td>1.000000</td>\n",
       "    </tr>\n",
       "  </tbody>\n",
       "</table>\n",
       "</div>"
      ],
      "text/plain": [
       "                   INR_Amount  no_of_passengers  days_to_departure  \\\n",
       "INR_Amount           1.000000          0.397229           0.284534   \n",
       "no_of_passengers     0.397229          1.000000           0.187128   \n",
       "days_to_departure    0.284534          0.187128           1.000000   \n",
       "distance_km          0.623565          0.001698           0.216972   \n",
       "days_in_advance      0.284534          0.187128           1.000000   \n",
       "\n",
       "                   distance_km  days_in_advance  \n",
       "INR_Amount            0.623565         0.284534  \n",
       "no_of_passengers      0.001698         0.187128  \n",
       "days_to_departure     0.216972         1.000000  \n",
       "distance_km           1.000000         0.216972  \n",
       "days_in_advance       0.216972         1.000000  "
      ]
     },
     "execution_count": 84,
     "metadata": {},
     "output_type": "execute_result"
    }
   ],
   "source": [
    "import pandas as pd\n",
    "import seaborn as sns\n",
    "import matplotlib.pyplot as plt\n",
    "\n",
    "# Select only the numerical columns\n",
    "numerical_df = Day_of_booking.select_dtypes(include=['float64', 'int64'])\n",
    "\n",
    "# Calculate the correlation matrix\n",
    "correlation_matrix = numerical_df.corr()\n",
    "correlation_matrix"
   ]
  },
  {
   "cell_type": "code",
   "execution_count": 85,
   "id": "bfc71e99-6235-4c32-8d36-25e322f333a6",
   "metadata": {},
   "outputs": [
    {
     "data": {
      "image/png": "[encoded data removed]",
      "text/plain": [
       "<Figure size 1000x800 with 2 Axes>"
      ]
     },
     "metadata": {},
     "output_type": "display_data"
    }
   ],
   "source": [
    "# Plot the heatmap\n",
    "plt.figure(figsize=(10, 8))\n",
    "sns.heatmap(correlation_matrix, annot=True, cmap='coolwarm', fmt='.2f')\n",
    "plt.title('Correlation Heatmap of Numerical Columns')\n",
    "plt.show()"
   ]
  },
  {
   "cell_type": "code",
   "execution_count": 111,
   "id": "962e15da-be3a-4fad-808e-e794c42b87f6",
   "metadata": {},
   "outputs": [
    {
     "name": "stdout",
     "output_type": "stream",
     "text": [
      "The pair of columns with the maximum correlation is: ('INR_Amount', 'distance_km')\n",
      "The maximum correlation value is: 0.6235653096997817\n"
     ]
    }
   ],
   "source": [
    "# Find the pair of columns with the maximum correlation\n",
    "corr_pairs = correlation_matrix.unstack()\n",
    "\n",
    "# Remove self-correlations by setting diagonal values to NaN\n",
    "corr_pairs = corr_pairs[corr_pairs != 1].dropna()\n",
    "max_corr_pair = corr_pairs.idxmax()\n",
    "max_corr_value = corr_pairs.max()\n",
    "\n",
    "print(f\"The pair of columns with the maximum correlation is: {max_corr_pair}\")\n",
    "print(f\"The maximum correlation value is: {max_corr_value}\")"
   ]
  },
  {
   "cell_type": "markdown",
   "id": "3c5676d5-d6e6-4e70-aa1b-9ce7a5321268",
   "metadata": {},
   "source": [
    "### (Question -08)  For each service, which is the most used device type for making bookings on the\r\n",
    "platform?"
   ]
  },
  {
   "cell_type": "code",
   "execution_count": 114,
   "id": "0e83909f-38ca-4035-ab0f-166976956d2b",
   "metadata": {},
   "outputs": [
    {
     "name": "stdout",
     "output_type": "stream",
     "text": [
      "The dataset does not contain 'service_name' or 'device_type' columns.\n"
     ]
    }
   ],
   "source": [
    "# Group by service, and find the most common ('device_type') for each service\n",
    "most_used_device_by_service = Day_of_booking.groupby('service_name')['device_type_used'].agg(lambda x: x.mode()[0])\n",
    "if most_used_device_by_service.empty:\n",
    "    print(\"Most used device type for each service:\",most_used_device_by_service)\n",
    "else:\n",
    "    print(\"The dataset does not contain 'service_name' or 'device_type' columns.\")"
   ]
  },
  {
   "cell_type": "code",
   "execution_count": 116,
   "id": "9d5f7f49-ba25-41d3-a098-fff8c0626f35",
   "metadata": {},
   "outputs": [
    {
     "name": "stdout",
     "output_type": "stream",
     "text": [
      "Most used device type for each service:\n",
      "service_name\n",
      "GOIBIBO        IOS\n",
      "MMT        Desktop\n",
      "YATRA      Desktop\n",
      "Name: device_type_used, dtype: object\n"
     ]
    }
   ],
   "source": [
    "\n",
    "    # Group by 'service' and find the most common 'device_type' for each service\n",
    "    most_used_device_by_service = Day_of_booking.groupby('service_name')['device_type_used'].agg(lambda x: x.mode()[0])\n",
    "\n",
    "    # Display the result\n",
    "    print(\"Most used device type for each service:\")\n",
    "    print(most_used_device_by_service)\n"
   ]
  },
  {
   "cell_type": "code",
   "execution_count": 118,
   "id": "ebfb15ec-a8ff-4739-a858-a0fdf2d1ca4c",
   "metadata": {},
   "outputs": [
    {
     "ename": "KeyError",
     "evalue": "'booking_time'",
     "output_type": "error",
     "traceback": [
      "\u001b[1;31m---------------------------------------------------------------------------\u001b[0m",
      "\u001b[1;31mKeyError\u001b[0m                                  Traceback (most recent call last)",
      "File \u001b[1;32m~\\anaconda3\\Lib\\site-packages\\pandas\\core\\indexes\\base.py:3805\u001b[0m, in \u001b[0;36mIndex.get_loc\u001b[1;34m(self, key)\u001b[0m\n\u001b[0;32m   3804\u001b[0m \u001b[38;5;28;01mtry\u001b[39;00m:\n\u001b[1;32m-> 3805\u001b[0m     \u001b[38;5;28;01mreturn\u001b[39;00m \u001b[38;5;28mself\u001b[39m\u001b[38;5;241m.\u001b[39m_engine\u001b[38;5;241m.\u001b[39mget_loc(casted_key)\n\u001b[0;32m   3806\u001b[0m \u001b[38;5;28;01mexcept\u001b[39;00m \u001b[38;5;167;01mKeyError\u001b[39;00m \u001b[38;5;28;01mas\u001b[39;00m err:\n",
      "File \u001b[1;32mindex.pyx:167\u001b[0m, in \u001b[0;36mpandas._libs.index.IndexEngine.get_loc\u001b[1;34m()\u001b[0m\n",
      "File \u001b[1;32mindex.pyx:196\u001b[0m, in \u001b[0;36mpandas._libs.index.IndexEngine.get_loc\u001b[1;34m()\u001b[0m\n",
      "File \u001b[1;32mpandas\\\\_libs\\\\hashtable_class_helper.pxi:7081\u001b[0m, in \u001b[0;36mpandas._libs.hashtable.PyObjectHashTable.get_item\u001b[1;34m()\u001b[0m\n",
      "File \u001b[1;32mpandas\\\\_libs\\\\hashtable_class_helper.pxi:7089\u001b[0m, in \u001b[0;36mpandas._libs.hashtable.PyObjectHashTable.get_item\u001b[1;34m()\u001b[0m\n",
      "\u001b[1;31mKeyError\u001b[0m: 'booking_time'",
      "\nThe above exception was the direct cause of the following exception:\n",
      "\u001b[1;31mKeyError\u001b[0m                                  Traceback (most recent call last)",
      "Cell \u001b[1;32mIn[118], line 1\u001b[0m\n\u001b[1;32m----> 1\u001b[0m \u001b[38;5;28mprint\u001b[39m(Day_of_booking[\u001b[38;5;124m'\u001b[39m\u001b[38;5;124mbooking_time\u001b[39m\u001b[38;5;124m'\u001b[39m]\u001b[38;5;241m.\u001b[39mdtype)\n",
      "File \u001b[1;32m~\\anaconda3\\Lib\\site-packages\\pandas\\core\\frame.py:4102\u001b[0m, in \u001b[0;36mDataFrame.__getitem__\u001b[1;34m(self, key)\u001b[0m\n\u001b[0;32m   4100\u001b[0m \u001b[38;5;28;01mif\u001b[39;00m \u001b[38;5;28mself\u001b[39m\u001b[38;5;241m.\u001b[39mcolumns\u001b[38;5;241m.\u001b[39mnlevels \u001b[38;5;241m>\u001b[39m \u001b[38;5;241m1\u001b[39m:\n\u001b[0;32m   4101\u001b[0m     \u001b[38;5;28;01mreturn\u001b[39;00m \u001b[38;5;28mself\u001b[39m\u001b[38;5;241m.\u001b[39m_getitem_multilevel(key)\n\u001b[1;32m-> 4102\u001b[0m indexer \u001b[38;5;241m=\u001b[39m \u001b[38;5;28mself\u001b[39m\u001b[38;5;241m.\u001b[39mcolumns\u001b[38;5;241m.\u001b[39mget_loc(key)\n\u001b[0;32m   4103\u001b[0m \u001b[38;5;28;01mif\u001b[39;00m is_integer(indexer):\n\u001b[0;32m   4104\u001b[0m     indexer \u001b[38;5;241m=\u001b[39m [indexer]\n",
      "File \u001b[1;32m~\\anaconda3\\Lib\\site-packages\\pandas\\core\\indexes\\base.py:3812\u001b[0m, in \u001b[0;36mIndex.get_loc\u001b[1;34m(self, key)\u001b[0m\n\u001b[0;32m   3807\u001b[0m     \u001b[38;5;28;01mif\u001b[39;00m \u001b[38;5;28misinstance\u001b[39m(casted_key, \u001b[38;5;28mslice\u001b[39m) \u001b[38;5;129;01mor\u001b[39;00m (\n\u001b[0;32m   3808\u001b[0m         \u001b[38;5;28misinstance\u001b[39m(casted_key, abc\u001b[38;5;241m.\u001b[39mIterable)\n\u001b[0;32m   3809\u001b[0m         \u001b[38;5;129;01mand\u001b[39;00m \u001b[38;5;28many\u001b[39m(\u001b[38;5;28misinstance\u001b[39m(x, \u001b[38;5;28mslice\u001b[39m) \u001b[38;5;28;01mfor\u001b[39;00m x \u001b[38;5;129;01min\u001b[39;00m casted_key)\n\u001b[0;32m   3810\u001b[0m     ):\n\u001b[0;32m   3811\u001b[0m         \u001b[38;5;28;01mraise\u001b[39;00m InvalidIndexError(key)\n\u001b[1;32m-> 3812\u001b[0m     \u001b[38;5;28;01mraise\u001b[39;00m \u001b[38;5;167;01mKeyError\u001b[39;00m(key) \u001b[38;5;28;01mfrom\u001b[39;00m \u001b[38;5;21;01merr\u001b[39;00m\n\u001b[0;32m   3813\u001b[0m \u001b[38;5;28;01mexcept\u001b[39;00m \u001b[38;5;167;01mTypeError\u001b[39;00m:\n\u001b[0;32m   3814\u001b[0m     \u001b[38;5;66;03m# If we have a listlike key, _check_indexing_error will raise\u001b[39;00m\n\u001b[0;32m   3815\u001b[0m     \u001b[38;5;66;03m#  InvalidIndexError. Otherwise we fall through and re-raise\u001b[39;00m\n\u001b[0;32m   3816\u001b[0m     \u001b[38;5;66;03m#  the TypeError.\u001b[39;00m\n\u001b[0;32m   3817\u001b[0m     \u001b[38;5;28mself\u001b[39m\u001b[38;5;241m.\u001b[39m_check_indexing_error(key)\n",
      "\u001b[1;31mKeyError\u001b[0m: 'booking_time'"
     ]
    }
   ],
   "source": [
    "print(Day_of_booking['booking_time'].dtype)"
   ]
  },
  {
   "cell_type": "markdown",
   "id": "842365ab-0abd-434c-9849-2aa8d7cebc77",
   "metadata": {},
   "source": [
    "### (Question -09) Plot the trends at a quarterly frequency for the number of bookings by each of the\r\n",
    "device types, that is, plot a time series for each year and quarter showing the number\r\n",
    "of bookings performed by each device type"
   ]
  },
  {
   "cell_type": "code",
   "execution_count": 122,
   "id": "78c0faf4-f96b-4162-9421-de47c28f1b49",
   "metadata": {},
   "outputs": [
    {
     "ename": "KeyError",
     "evalue": "'booking_time'",
     "output_type": "error",
     "traceback": [
      "\u001b[1;31m---------------------------------------------------------------------------\u001b[0m",
      "\u001b[1;31mKeyError\u001b[0m                                  Traceback (most recent call last)",
      "File \u001b[1;32m~\\anaconda3\\Lib\\site-packages\\pandas\\core\\indexes\\base.py:3805\u001b[0m, in \u001b[0;36mIndex.get_loc\u001b[1;34m(self, key)\u001b[0m\n\u001b[0;32m   3804\u001b[0m \u001b[38;5;28;01mtry\u001b[39;00m:\n\u001b[1;32m-> 3805\u001b[0m     \u001b[38;5;28;01mreturn\u001b[39;00m \u001b[38;5;28mself\u001b[39m\u001b[38;5;241m.\u001b[39m_engine\u001b[38;5;241m.\u001b[39mget_loc(casted_key)\n\u001b[0;32m   3806\u001b[0m \u001b[38;5;28;01mexcept\u001b[39;00m \u001b[38;5;167;01mKeyError\u001b[39;00m \u001b[38;5;28;01mas\u001b[39;00m err:\n",
      "File \u001b[1;32mindex.pyx:167\u001b[0m, in \u001b[0;36mpandas._libs.index.IndexEngine.get_loc\u001b[1;34m()\u001b[0m\n",
      "File \u001b[1;32mindex.pyx:196\u001b[0m, in \u001b[0;36mpandas._libs.index.IndexEngine.get_loc\u001b[1;34m()\u001b[0m\n",
      "File \u001b[1;32mpandas\\\\_libs\\\\hashtable_class_helper.pxi:7081\u001b[0m, in \u001b[0;36mpandas._libs.hashtable.PyObjectHashTable.get_item\u001b[1;34m()\u001b[0m\n",
      "File \u001b[1;32mpandas\\\\_libs\\\\hashtable_class_helper.pxi:7089\u001b[0m, in \u001b[0;36mpandas._libs.hashtable.PyObjectHashTable.get_item\u001b[1;34m()\u001b[0m\n",
      "\u001b[1;31mKeyError\u001b[0m: 'booking_time'",
      "\nThe above exception was the direct cause of the following exception:\n",
      "\u001b[1;31mKeyError\u001b[0m                                  Traceback (most recent call last)",
      "Cell \u001b[1;32mIn[122], line 5\u001b[0m\n\u001b[0;32m      2\u001b[0m \u001b[38;5;28;01mimport\u001b[39;00m \u001b[38;5;21;01mmatplotlib\u001b[39;00m\u001b[38;5;21;01m.\u001b[39;00m\u001b[38;5;21;01mpyplot\u001b[39;00m \u001b[38;5;28;01mas\u001b[39;00m \u001b[38;5;21;01mplt\u001b[39;00m\n\u001b[0;32m      4\u001b[0m \u001b[38;5;66;03m# Ensure that 'booking_date' is in datetime format\u001b[39;00m\n\u001b[1;32m----> 5\u001b[0m Day_of_booking[\u001b[38;5;124m'\u001b[39m\u001b[38;5;124mbooking_time\u001b[39m\u001b[38;5;124m'\u001b[39m] \u001b[38;5;241m=\u001b[39m pd\u001b[38;5;241m.\u001b[39mto_datetime(Day_of_booking[\u001b[38;5;124m'\u001b[39m\u001b[38;5;124mbooking_time\u001b[39m\u001b[38;5;124m'\u001b[39m])\n\u001b[0;32m      7\u001b[0m \u001b[38;5;66;03m# Set 'booking_date' as the index (optional, but useful for time-series)\u001b[39;00m\n\u001b[0;32m      8\u001b[0m Day_of_booking\u001b[38;5;241m.\u001b[39mset_index(\u001b[38;5;124m'\u001b[39m\u001b[38;5;124mbooking_time\u001b[39m\u001b[38;5;124m'\u001b[39m, inplace\u001b[38;5;241m=\u001b[39m\u001b[38;5;28;01mTrue\u001b[39;00m)\n",
      "File \u001b[1;32m~\\anaconda3\\Lib\\site-packages\\pandas\\core\\frame.py:4102\u001b[0m, in \u001b[0;36mDataFrame.__getitem__\u001b[1;34m(self, key)\u001b[0m\n\u001b[0;32m   4100\u001b[0m \u001b[38;5;28;01mif\u001b[39;00m \u001b[38;5;28mself\u001b[39m\u001b[38;5;241m.\u001b[39mcolumns\u001b[38;5;241m.\u001b[39mnlevels \u001b[38;5;241m>\u001b[39m \u001b[38;5;241m1\u001b[39m:\n\u001b[0;32m   4101\u001b[0m     \u001b[38;5;28;01mreturn\u001b[39;00m \u001b[38;5;28mself\u001b[39m\u001b[38;5;241m.\u001b[39m_getitem_multilevel(key)\n\u001b[1;32m-> 4102\u001b[0m indexer \u001b[38;5;241m=\u001b[39m \u001b[38;5;28mself\u001b[39m\u001b[38;5;241m.\u001b[39mcolumns\u001b[38;5;241m.\u001b[39mget_loc(key)\n\u001b[0;32m   4103\u001b[0m \u001b[38;5;28;01mif\u001b[39;00m is_integer(indexer):\n\u001b[0;32m   4104\u001b[0m     indexer \u001b[38;5;241m=\u001b[39m [indexer]\n",
      "File \u001b[1;32m~\\anaconda3\\Lib\\site-packages\\pandas\\core\\indexes\\base.py:3812\u001b[0m, in \u001b[0;36mIndex.get_loc\u001b[1;34m(self, key)\u001b[0m\n\u001b[0;32m   3807\u001b[0m     \u001b[38;5;28;01mif\u001b[39;00m \u001b[38;5;28misinstance\u001b[39m(casted_key, \u001b[38;5;28mslice\u001b[39m) \u001b[38;5;129;01mor\u001b[39;00m (\n\u001b[0;32m   3808\u001b[0m         \u001b[38;5;28misinstance\u001b[39m(casted_key, abc\u001b[38;5;241m.\u001b[39mIterable)\n\u001b[0;32m   3809\u001b[0m         \u001b[38;5;129;01mand\u001b[39;00m \u001b[38;5;28many\u001b[39m(\u001b[38;5;28misinstance\u001b[39m(x, \u001b[38;5;28mslice\u001b[39m) \u001b[38;5;28;01mfor\u001b[39;00m x \u001b[38;5;129;01min\u001b[39;00m casted_key)\n\u001b[0;32m   3810\u001b[0m     ):\n\u001b[0;32m   3811\u001b[0m         \u001b[38;5;28;01mraise\u001b[39;00m InvalidIndexError(key)\n\u001b[1;32m-> 3812\u001b[0m     \u001b[38;5;28;01mraise\u001b[39;00m \u001b[38;5;167;01mKeyError\u001b[39;00m(key) \u001b[38;5;28;01mfrom\u001b[39;00m \u001b[38;5;21;01merr\u001b[39;00m\n\u001b[0;32m   3813\u001b[0m \u001b[38;5;28;01mexcept\u001b[39;00m \u001b[38;5;167;01mTypeError\u001b[39;00m:\n\u001b[0;32m   3814\u001b[0m     \u001b[38;5;66;03m# If we have a listlike key, _check_indexing_error will raise\u001b[39;00m\n\u001b[0;32m   3815\u001b[0m     \u001b[38;5;66;03m#  InvalidIndexError. Otherwise we fall through and re-raise\u001b[39;00m\n\u001b[0;32m   3816\u001b[0m     \u001b[38;5;66;03m#  the TypeError.\u001b[39;00m\n\u001b[0;32m   3817\u001b[0m     \u001b[38;5;28mself\u001b[39m\u001b[38;5;241m.\u001b[39m_check_indexing_error(key)\n",
      "\u001b[1;31mKeyError\u001b[0m: 'booking_time'"
     ]
    }
   ],
   "source": [
    "import pandas as pd\n",
    "import matplotlib.pyplot as plt\n",
    "\n",
    "# Ensure that 'booking_date' is in datetime format\n",
    "Day_of_booking['booking_time'] = pd.to_datetime(Day_of_booking['booking_time'])\n",
    "\n",
    "# Set 'booking_date' as the index (optional, but useful for time-series)\n",
    "Day_of_booking.set_index('booking_time', inplace=True)\n",
    "\n",
    "# Resample the data to quarterly frequency, grouping by 'device_type_used' and counting bookings\n",
    "quarterly_bookings = Day_of_booking.groupby('device_type_used').resample('QE').size().unstack()\n",
    "\n",
    "# Plot the time series\n",
    "plt.figure(figsize=(10, 6))\n",
    "for device in quarterly_bookings.index:\n",
    "    plt.plot(quarterly_bookings.columns, quarterly_bookings.loc[device], marker='o', label=device)\n",
    "\n",
    "plt.title('Quarterly Bookings by Device Type')\n",
    "plt.xlabel('Year-Quarter')\n",
    "plt.ylabel('Number of Bookings')\n",
    "plt.legend(title='Device Type')\n",
    "plt.grid(True)\n",
    "plt.xticks(rotation=45)\n",
    "plt.tight_layout()\n",
    "plt.show()\n"
   ]
  },
  {
   "cell_type": "markdown",
   "id": "567b1a08-a539-4a6c-a538-ba18bc36e1d6",
   "metadata": {},
   "source": [
    "### (Question-10.1) What is the average oBSR for each month of the  dates. (Consider the below conditions)\n",
    "Consider the following example: 12 customers performed a total of 100 searches but\r\n",
    "only a few of them performed 10 bookings in total.\r\n",
    "searches=100 bookings=10 customers=12\r\n",
    "The overall booking to search ratio, Ober, is 10/100 = 0.1 Using the above\r\n",
    "information/context, answer the folngwates."
   ]
  },
  {
   "cell_type": "code",
   "execution_count": 124,
   "id": "2eb97159-7f62-4cb2-bb50-5fc2eec73f17",
   "metadata": {},
   "outputs": [
    {
     "ename": "KeyError",
     "evalue": "'year'",
     "output_type": "error",
     "traceback": [
      "\u001b[1;31m---------------------------------------------------------------------------\u001b[0m",
      "\u001b[1;31mKeyError\u001b[0m                                  Traceback (most recent call last)",
      "Cell \u001b[1;32mIn[124], line 7\u001b[0m\n\u001b[0;32m      4\u001b[0m merged_df \u001b[38;5;241m=\u001b[39m pd\u001b[38;5;241m.\u001b[39mmerge(df, Day_of_booking, on\u001b[38;5;241m=\u001b[39m\u001b[38;5;124m'\u001b[39m\u001b[38;5;124mbooking_id\u001b[39m\u001b[38;5;124m'\u001b[39m, how\u001b[38;5;241m=\u001b[39m\u001b[38;5;124m'\u001b[39m\u001b[38;5;124mright\u001b[39m\u001b[38;5;124m'\u001b[39m)\n\u001b[0;32m      6\u001b[0m \u001b[38;5;66;03m# Group by year and month, and aggregate the number of bookings and searches\u001b[39;00m\n\u001b[1;32m----> 7\u001b[0m monthly_aggregated \u001b[38;5;241m=\u001b[39m merged_df\u001b[38;5;241m.\u001b[39mgroupby([\u001b[38;5;124m'\u001b[39m\u001b[38;5;124myear\u001b[39m\u001b[38;5;124m'\u001b[39m, \u001b[38;5;124m'\u001b[39m\u001b[38;5;124mmonth\u001b[39m\u001b[38;5;124m'\u001b[39m])\u001b[38;5;241m.\u001b[39magg(\n\u001b[0;32m      8\u001b[0m     total_searches\u001b[38;5;241m=\u001b[39m(\u001b[38;5;124m'\u001b[39m\u001b[38;5;124msearch_id\u001b[39m\u001b[38;5;124m'\u001b[39m, \u001b[38;5;124m'\u001b[39m\u001b[38;5;124mcount\u001b[39m\u001b[38;5;124m'\u001b[39m),  \u001b[38;5;66;03m# Count of searches\u001b[39;00m\n\u001b[0;32m      9\u001b[0m     total_bookings\u001b[38;5;241m=\u001b[39m(\u001b[38;5;124m'\u001b[39m\u001b[38;5;124mbooking_id\u001b[39m\u001b[38;5;124m'\u001b[39m, \u001b[38;5;124m'\u001b[39m\u001b[38;5;124mcount\u001b[39m\u001b[38;5;124m'\u001b[39m)  \u001b[38;5;66;03m# Count of bookings\u001b[39;00m\n\u001b[0;32m     10\u001b[0m )\u001b[38;5;241m.\u001b[39mreset_index()\n\u001b[0;32m     12\u001b[0m \u001b[38;5;66;03m# Calculate the booking-to-search ratio (oBSR) for each month\u001b[39;00m\n\u001b[0;32m     13\u001b[0m monthly_aggregated[\u001b[38;5;124m'\u001b[39m\u001b[38;5;124mobsr\u001b[39m\u001b[38;5;124m'\u001b[39m] \u001b[38;5;241m=\u001b[39m monthly_aggregated[\u001b[38;5;124m'\u001b[39m\u001b[38;5;124mtotal_bookings\u001b[39m\u001b[38;5;124m'\u001b[39m] \u001b[38;5;241m/\u001b[39m monthly_aggregated[\u001b[38;5;124m'\u001b[39m\u001b[38;5;124mtotal_searches\u001b[39m\u001b[38;5;124m'\u001b[39m]\n",
      "File \u001b[1;32m~\\anaconda3\\Lib\\site-packages\\pandas\\core\\frame.py:9183\u001b[0m, in \u001b[0;36mDataFrame.groupby\u001b[1;34m(self, by, axis, level, as_index, sort, group_keys, observed, dropna)\u001b[0m\n\u001b[0;32m   9180\u001b[0m \u001b[38;5;28;01mif\u001b[39;00m level \u001b[38;5;129;01mis\u001b[39;00m \u001b[38;5;28;01mNone\u001b[39;00m \u001b[38;5;129;01mand\u001b[39;00m by \u001b[38;5;129;01mis\u001b[39;00m \u001b[38;5;28;01mNone\u001b[39;00m:\n\u001b[0;32m   9181\u001b[0m     \u001b[38;5;28;01mraise\u001b[39;00m \u001b[38;5;167;01mTypeError\u001b[39;00m(\u001b[38;5;124m\"\u001b[39m\u001b[38;5;124mYou have to supply one of \u001b[39m\u001b[38;5;124m'\u001b[39m\u001b[38;5;124mby\u001b[39m\u001b[38;5;124m'\u001b[39m\u001b[38;5;124m and \u001b[39m\u001b[38;5;124m'\u001b[39m\u001b[38;5;124mlevel\u001b[39m\u001b[38;5;124m'\u001b[39m\u001b[38;5;124m\"\u001b[39m)\n\u001b[1;32m-> 9183\u001b[0m \u001b[38;5;28;01mreturn\u001b[39;00m DataFrameGroupBy(\n\u001b[0;32m   9184\u001b[0m     obj\u001b[38;5;241m=\u001b[39m\u001b[38;5;28mself\u001b[39m,\n\u001b[0;32m   9185\u001b[0m     keys\u001b[38;5;241m=\u001b[39mby,\n\u001b[0;32m   9186\u001b[0m     axis\u001b[38;5;241m=\u001b[39maxis,\n\u001b[0;32m   9187\u001b[0m     level\u001b[38;5;241m=\u001b[39mlevel,\n\u001b[0;32m   9188\u001b[0m     as_index\u001b[38;5;241m=\u001b[39mas_index,\n\u001b[0;32m   9189\u001b[0m     sort\u001b[38;5;241m=\u001b[39msort,\n\u001b[0;32m   9190\u001b[0m     group_keys\u001b[38;5;241m=\u001b[39mgroup_keys,\n\u001b[0;32m   9191\u001b[0m     observed\u001b[38;5;241m=\u001b[39mobserved,\n\u001b[0;32m   9192\u001b[0m     dropna\u001b[38;5;241m=\u001b[39mdropna,\n\u001b[0;32m   9193\u001b[0m )\n",
      "File \u001b[1;32m~\\anaconda3\\Lib\\site-packages\\pandas\\core\\groupby\\groupby.py:1329\u001b[0m, in \u001b[0;36mGroupBy.__init__\u001b[1;34m(self, obj, keys, axis, level, grouper, exclusions, selection, as_index, sort, group_keys, observed, dropna)\u001b[0m\n\u001b[0;32m   1326\u001b[0m \u001b[38;5;28mself\u001b[39m\u001b[38;5;241m.\u001b[39mdropna \u001b[38;5;241m=\u001b[39m dropna\n\u001b[0;32m   1328\u001b[0m \u001b[38;5;28;01mif\u001b[39;00m grouper \u001b[38;5;129;01mis\u001b[39;00m \u001b[38;5;28;01mNone\u001b[39;00m:\n\u001b[1;32m-> 1329\u001b[0m     grouper, exclusions, obj \u001b[38;5;241m=\u001b[39m get_grouper(\n\u001b[0;32m   1330\u001b[0m         obj,\n\u001b[0;32m   1331\u001b[0m         keys,\n\u001b[0;32m   1332\u001b[0m         axis\u001b[38;5;241m=\u001b[39maxis,\n\u001b[0;32m   1333\u001b[0m         level\u001b[38;5;241m=\u001b[39mlevel,\n\u001b[0;32m   1334\u001b[0m         sort\u001b[38;5;241m=\u001b[39msort,\n\u001b[0;32m   1335\u001b[0m         observed\u001b[38;5;241m=\u001b[39m\u001b[38;5;28;01mFalse\u001b[39;00m \u001b[38;5;28;01mif\u001b[39;00m observed \u001b[38;5;129;01mis\u001b[39;00m lib\u001b[38;5;241m.\u001b[39mno_default \u001b[38;5;28;01melse\u001b[39;00m observed,\n\u001b[0;32m   1336\u001b[0m         dropna\u001b[38;5;241m=\u001b[39m\u001b[38;5;28mself\u001b[39m\u001b[38;5;241m.\u001b[39mdropna,\n\u001b[0;32m   1337\u001b[0m     )\n\u001b[0;32m   1339\u001b[0m \u001b[38;5;28;01mif\u001b[39;00m observed \u001b[38;5;129;01mis\u001b[39;00m lib\u001b[38;5;241m.\u001b[39mno_default:\n\u001b[0;32m   1340\u001b[0m     \u001b[38;5;28;01mif\u001b[39;00m \u001b[38;5;28many\u001b[39m(ping\u001b[38;5;241m.\u001b[39m_passed_categorical \u001b[38;5;28;01mfor\u001b[39;00m ping \u001b[38;5;129;01min\u001b[39;00m grouper\u001b[38;5;241m.\u001b[39mgroupings):\n",
      "File \u001b[1;32m~\\anaconda3\\Lib\\site-packages\\pandas\\core\\groupby\\grouper.py:1043\u001b[0m, in \u001b[0;36mget_grouper\u001b[1;34m(obj, key, axis, level, sort, observed, validate, dropna)\u001b[0m\n\u001b[0;32m   1041\u001b[0m         in_axis, level, gpr \u001b[38;5;241m=\u001b[39m \u001b[38;5;28;01mFalse\u001b[39;00m, gpr, \u001b[38;5;28;01mNone\u001b[39;00m\n\u001b[0;32m   1042\u001b[0m     \u001b[38;5;28;01melse\u001b[39;00m:\n\u001b[1;32m-> 1043\u001b[0m         \u001b[38;5;28;01mraise\u001b[39;00m \u001b[38;5;167;01mKeyError\u001b[39;00m(gpr)\n\u001b[0;32m   1044\u001b[0m \u001b[38;5;28;01melif\u001b[39;00m \u001b[38;5;28misinstance\u001b[39m(gpr, Grouper) \u001b[38;5;129;01mand\u001b[39;00m gpr\u001b[38;5;241m.\u001b[39mkey \u001b[38;5;129;01mis\u001b[39;00m \u001b[38;5;129;01mnot\u001b[39;00m \u001b[38;5;28;01mNone\u001b[39;00m:\n\u001b[0;32m   1045\u001b[0m     \u001b[38;5;66;03m# Add key to exclusions\u001b[39;00m\n\u001b[0;32m   1046\u001b[0m     exclusions\u001b[38;5;241m.\u001b[39madd(gpr\u001b[38;5;241m.\u001b[39mkey)\n",
      "\u001b[1;31mKeyError\u001b[0m: 'year'"
     ]
    }
   ],
   "source": [
    "import pandas as pd\n",
    "\n",
    "# Merge datasets on booking_id (assuming this field is common between the two datasets)\n",
    "merged_df = pd.merge(df, Day_of_booking, on='booking_id', how='right')\n",
    "\n",
    "# Group by year and month, and aggregate the number of bookings and searches\n",
    "monthly_aggregated = merged_df.groupby(['year', 'month']).agg(\n",
    "    total_searches=('search_id', 'count'),  # Count of searches\n",
    "    total_bookings=('booking_id', 'count')  # Count of bookings\n",
    ").reset_index()\n",
    "\n",
    "# Calculate the booking-to-search ratio (oBSR) for each month\n",
    "monthly_aggregated['obsr'] = monthly_aggregated['total_bookings'] / monthly_aggregated['total_searches']\n",
    "\n",
    "# Display the monthly average oBSR\n",
    "print(\"Average Overall Booking to Search Ratio (oBSR) for Each Month:\")\n",
    "print(monthly_aggregated[['year', 'month', 'obsr']])"
   ]
  },
  {
   "cell_type": "code",
   "execution_count": null,
   "id": "e7f30847-b63e-49c1-be78-700c3175ff88",
   "metadata": {},
   "outputs": [],
   "source": [
    "column_names = Day_of_booking.columns\n",
    "column_names"
   ]
  },
  {
   "cell_type": "code",
   "execution_count": 127,
   "id": "b4d05f43-5e74-4493-9af3-f375b3a7314b",
   "metadata": {},
   "outputs": [
    {
     "ename": "NameError",
     "evalue": "name 'monthly_aggregated' is not defined",
     "output_type": "error",
     "traceback": [
      "\u001b[1;31m---------------------------------------------------------------------------\u001b[0m",
      "\u001b[1;31mNameError\u001b[0m                                 Traceback (most recent call last)",
      "Cell \u001b[1;32mIn[127], line 5\u001b[0m\n\u001b[0;32m      2\u001b[0m \u001b[38;5;28;01mimport\u001b[39;00m \u001b[38;5;21;01mmatplotlib\u001b[39;00m\u001b[38;5;21;01m.\u001b[39;00m\u001b[38;5;21;01mpyplot\u001b[39;00m \u001b[38;5;28;01mas\u001b[39;00m \u001b[38;5;21;01mplt\u001b[39;00m\n\u001b[0;32m      4\u001b[0m plt\u001b[38;5;241m.\u001b[39mfigure(figsize\u001b[38;5;241m=\u001b[39m(\u001b[38;5;241m10\u001b[39m, \u001b[38;5;241m6\u001b[39m))\n\u001b[1;32m----> 5\u001b[0m plt\u001b[38;5;241m.\u001b[39mplot(monthly_aggregated[\u001b[38;5;124m'\u001b[39m\u001b[38;5;124mmonth\u001b[39m\u001b[38;5;124m'\u001b[39m], monthly_aggregated[\u001b[38;5;124m'\u001b[39m\u001b[38;5;124mobsr\u001b[39m\u001b[38;5;124m'\u001b[39m], marker\u001b[38;5;241m=\u001b[39m\u001b[38;5;124m'\u001b[39m\u001b[38;5;124mo\u001b[39m\u001b[38;5;124m'\u001b[39m, linestyle\u001b[38;5;241m=\u001b[39m\u001b[38;5;124m'\u001b[39m\u001b[38;5;124m-\u001b[39m\u001b[38;5;124m'\u001b[39m, color\u001b[38;5;241m=\u001b[39m\u001b[38;5;124m'\u001b[39m\u001b[38;5;124mb\u001b[39m\u001b[38;5;124m'\u001b[39m, label\u001b[38;5;241m=\u001b[39m\u001b[38;5;124m'\u001b[39m\u001b[38;5;124moBSR\u001b[39m\u001b[38;5;124m'\u001b[39m)\n\u001b[0;32m      6\u001b[0m plt\u001b[38;5;241m.\u001b[39mxlabel(\u001b[38;5;124m'\u001b[39m\u001b[38;5;124mMonth\u001b[39m\u001b[38;5;124m'\u001b[39m)\n\u001b[0;32m      7\u001b[0m plt\u001b[38;5;241m.\u001b[39mylabel(\u001b[38;5;124m'\u001b[39m\u001b[38;5;124mOverall Booking to Search Ratio (oBSR)\u001b[39m\u001b[38;5;124m'\u001b[39m)\n",
      "\u001b[1;31mNameError\u001b[0m: name 'monthly_aggregated' is not defined"
     ]
    },
    {
     "data": {
      "text/plain": [
       "<Figure size 1000x600 with 0 Axes>"
      ]
     },
     "metadata": {},
     "output_type": "display_data"
    }
   ],
   "source": [
    "#  Plot the oBSR over time\n",
    "import matplotlib.pyplot as plt\n",
    "\n",
    "plt.figure(figsize=(10, 6))\n",
    "plt.plot(monthly_aggregated['month'], monthly_aggregated['obsr'], marker='o', linestyle='-', color='b', label='oBSR')\n",
    "plt.xlabel('Month')\n",
    "plt.ylabel('Overall Booking to Search Ratio (oBSR)')\n",
    "plt.title('Average Overall Booking to Search Ratio by Month')\n",
    "plt.grid(True)\n",
    "plt.xticks(monthly_aggregated['month'])\n",
    "plt.tight_layout()\n",
    "plt.legend()\n",
    "plt.show()"
   ]
  },
  {
   "cell_type": "markdown",
   "id": "9537b9fa-a80e-4c26-aeb9-ed3d833c2cb0",
   "metadata": {},
   "source": [
    "### (Question 10.2) What is the average oBSR for each day of the week?"
   ]
  },
  {
   "cell_type": "code",
   "execution_count": 130,
   "id": "4932a3c2-15f4-4361-a9f1-82a2955b15ec",
   "metadata": {},
   "outputs": [
    {
     "ename": "KeyError",
     "evalue": "'month'",
     "output_type": "error",
     "traceback": [
      "\u001b[1;31m---------------------------------------------------------------------------\u001b[0m",
      "\u001b[1;31mKeyError\u001b[0m                                  Traceback (most recent call last)",
      "Cell \u001b[1;32mIn[130], line 2\u001b[0m\n\u001b[0;32m      1\u001b[0m \u001b[38;5;66;03m# Group by day and week, and aggregate the number of bookings and searches\u001b[39;00m\n\u001b[1;32m----> 2\u001b[0m weekly_aggregated \u001b[38;5;241m=\u001b[39m merged_df\u001b[38;5;241m.\u001b[39mgroupby([\u001b[38;5;124m'\u001b[39m\u001b[38;5;124mmonth\u001b[39m\u001b[38;5;124m'\u001b[39m, \u001b[38;5;124m'\u001b[39m\u001b[38;5;124mday\u001b[39m\u001b[38;5;124m'\u001b[39m])\u001b[38;5;241m.\u001b[39magg(\n\u001b[0;32m      3\u001b[0m     total_searches\u001b[38;5;241m=\u001b[39m(\u001b[38;5;124m'\u001b[39m\u001b[38;5;124msearch_id\u001b[39m\u001b[38;5;124m'\u001b[39m, \u001b[38;5;124m'\u001b[39m\u001b[38;5;124mcount\u001b[39m\u001b[38;5;124m'\u001b[39m),  \u001b[38;5;66;03m# Count of searches\u001b[39;00m\n\u001b[0;32m      4\u001b[0m     total_bookings\u001b[38;5;241m=\u001b[39m(\u001b[38;5;124m'\u001b[39m\u001b[38;5;124mbooking_id\u001b[39m\u001b[38;5;124m'\u001b[39m, \u001b[38;5;124m'\u001b[39m\u001b[38;5;124mcount\u001b[39m\u001b[38;5;124m'\u001b[39m)  \u001b[38;5;66;03m# Count of bookings\u001b[39;00m\n\u001b[0;32m      5\u001b[0m )\u001b[38;5;241m.\u001b[39mreset_index()\n\u001b[0;32m      7\u001b[0m \u001b[38;5;66;03m# Calculate the booking-to-search ratio (oBSR) for each month\u001b[39;00m\n\u001b[0;32m      8\u001b[0m weekly_aggregated[\u001b[38;5;124m'\u001b[39m\u001b[38;5;124mobsr\u001b[39m\u001b[38;5;124m'\u001b[39m] \u001b[38;5;241m=\u001b[39m weekly_aggregated[\u001b[38;5;124m'\u001b[39m\u001b[38;5;124mtotal_bookings\u001b[39m\u001b[38;5;124m'\u001b[39m] \u001b[38;5;241m/\u001b[39m weekly_aggregated[\u001b[38;5;124m'\u001b[39m\u001b[38;5;124mtotal_searches\u001b[39m\u001b[38;5;124m'\u001b[39m]\n",
      "File \u001b[1;32m~\\anaconda3\\Lib\\site-packages\\pandas\\core\\frame.py:9183\u001b[0m, in \u001b[0;36mDataFrame.groupby\u001b[1;34m(self, by, axis, level, as_index, sort, group_keys, observed, dropna)\u001b[0m\n\u001b[0;32m   9180\u001b[0m \u001b[38;5;28;01mif\u001b[39;00m level \u001b[38;5;129;01mis\u001b[39;00m \u001b[38;5;28;01mNone\u001b[39;00m \u001b[38;5;129;01mand\u001b[39;00m by \u001b[38;5;129;01mis\u001b[39;00m \u001b[38;5;28;01mNone\u001b[39;00m:\n\u001b[0;32m   9181\u001b[0m     \u001b[38;5;28;01mraise\u001b[39;00m \u001b[38;5;167;01mTypeError\u001b[39;00m(\u001b[38;5;124m\"\u001b[39m\u001b[38;5;124mYou have to supply one of \u001b[39m\u001b[38;5;124m'\u001b[39m\u001b[38;5;124mby\u001b[39m\u001b[38;5;124m'\u001b[39m\u001b[38;5;124m and \u001b[39m\u001b[38;5;124m'\u001b[39m\u001b[38;5;124mlevel\u001b[39m\u001b[38;5;124m'\u001b[39m\u001b[38;5;124m\"\u001b[39m)\n\u001b[1;32m-> 9183\u001b[0m \u001b[38;5;28;01mreturn\u001b[39;00m DataFrameGroupBy(\n\u001b[0;32m   9184\u001b[0m     obj\u001b[38;5;241m=\u001b[39m\u001b[38;5;28mself\u001b[39m,\n\u001b[0;32m   9185\u001b[0m     keys\u001b[38;5;241m=\u001b[39mby,\n\u001b[0;32m   9186\u001b[0m     axis\u001b[38;5;241m=\u001b[39maxis,\n\u001b[0;32m   9187\u001b[0m     level\u001b[38;5;241m=\u001b[39mlevel,\n\u001b[0;32m   9188\u001b[0m     as_index\u001b[38;5;241m=\u001b[39mas_index,\n\u001b[0;32m   9189\u001b[0m     sort\u001b[38;5;241m=\u001b[39msort,\n\u001b[0;32m   9190\u001b[0m     group_keys\u001b[38;5;241m=\u001b[39mgroup_keys,\n\u001b[0;32m   9191\u001b[0m     observed\u001b[38;5;241m=\u001b[39mobserved,\n\u001b[0;32m   9192\u001b[0m     dropna\u001b[38;5;241m=\u001b[39mdropna,\n\u001b[0;32m   9193\u001b[0m )\n",
      "File \u001b[1;32m~\\anaconda3\\Lib\\site-packages\\pandas\\core\\groupby\\groupby.py:1329\u001b[0m, in \u001b[0;36mGroupBy.__init__\u001b[1;34m(self, obj, keys, axis, level, grouper, exclusions, selection, as_index, sort, group_keys, observed, dropna)\u001b[0m\n\u001b[0;32m   1326\u001b[0m \u001b[38;5;28mself\u001b[39m\u001b[38;5;241m.\u001b[39mdropna \u001b[38;5;241m=\u001b[39m dropna\n\u001b[0;32m   1328\u001b[0m \u001b[38;5;28;01mif\u001b[39;00m grouper \u001b[38;5;129;01mis\u001b[39;00m \u001b[38;5;28;01mNone\u001b[39;00m:\n\u001b[1;32m-> 1329\u001b[0m     grouper, exclusions, obj \u001b[38;5;241m=\u001b[39m get_grouper(\n\u001b[0;32m   1330\u001b[0m         obj,\n\u001b[0;32m   1331\u001b[0m         keys,\n\u001b[0;32m   1332\u001b[0m         axis\u001b[38;5;241m=\u001b[39maxis,\n\u001b[0;32m   1333\u001b[0m         level\u001b[38;5;241m=\u001b[39mlevel,\n\u001b[0;32m   1334\u001b[0m         sort\u001b[38;5;241m=\u001b[39msort,\n\u001b[0;32m   1335\u001b[0m         observed\u001b[38;5;241m=\u001b[39m\u001b[38;5;28;01mFalse\u001b[39;00m \u001b[38;5;28;01mif\u001b[39;00m observed \u001b[38;5;129;01mis\u001b[39;00m lib\u001b[38;5;241m.\u001b[39mno_default \u001b[38;5;28;01melse\u001b[39;00m observed,\n\u001b[0;32m   1336\u001b[0m         dropna\u001b[38;5;241m=\u001b[39m\u001b[38;5;28mself\u001b[39m\u001b[38;5;241m.\u001b[39mdropna,\n\u001b[0;32m   1337\u001b[0m     )\n\u001b[0;32m   1339\u001b[0m \u001b[38;5;28;01mif\u001b[39;00m observed \u001b[38;5;129;01mis\u001b[39;00m lib\u001b[38;5;241m.\u001b[39mno_default:\n\u001b[0;32m   1340\u001b[0m     \u001b[38;5;28;01mif\u001b[39;00m \u001b[38;5;28many\u001b[39m(ping\u001b[38;5;241m.\u001b[39m_passed_categorical \u001b[38;5;28;01mfor\u001b[39;00m ping \u001b[38;5;129;01min\u001b[39;00m grouper\u001b[38;5;241m.\u001b[39mgroupings):\n",
      "File \u001b[1;32m~\\anaconda3\\Lib\\site-packages\\pandas\\core\\groupby\\grouper.py:1043\u001b[0m, in \u001b[0;36mget_grouper\u001b[1;34m(obj, key, axis, level, sort, observed, validate, dropna)\u001b[0m\n\u001b[0;32m   1041\u001b[0m         in_axis, level, gpr \u001b[38;5;241m=\u001b[39m \u001b[38;5;28;01mFalse\u001b[39;00m, gpr, \u001b[38;5;28;01mNone\u001b[39;00m\n\u001b[0;32m   1042\u001b[0m     \u001b[38;5;28;01melse\u001b[39;00m:\n\u001b[1;32m-> 1043\u001b[0m         \u001b[38;5;28;01mraise\u001b[39;00m \u001b[38;5;167;01mKeyError\u001b[39;00m(gpr)\n\u001b[0;32m   1044\u001b[0m \u001b[38;5;28;01melif\u001b[39;00m \u001b[38;5;28misinstance\u001b[39m(gpr, Grouper) \u001b[38;5;129;01mand\u001b[39;00m gpr\u001b[38;5;241m.\u001b[39mkey \u001b[38;5;129;01mis\u001b[39;00m \u001b[38;5;129;01mnot\u001b[39;00m \u001b[38;5;28;01mNone\u001b[39;00m:\n\u001b[0;32m   1045\u001b[0m     \u001b[38;5;66;03m# Add key to exclusions\u001b[39;00m\n\u001b[0;32m   1046\u001b[0m     exclusions\u001b[38;5;241m.\u001b[39madd(gpr\u001b[38;5;241m.\u001b[39mkey)\n",
      "\u001b[1;31mKeyError\u001b[0m: 'month'"
     ]
    }
   ],
   "source": [
    "# Group by day and week, and aggregate the number of bookings and searches\n",
    "weekly_aggregated = merged_df.groupby(['month', 'day']).agg(\n",
    "    total_searches=('search_id', 'count'),  # Count of searches\n",
    "    total_bookings=('booking_id', 'count')  # Count of bookings\n",
    ").reset_index()\n",
    "\n",
    "# Calculate the booking-to-search ratio (oBSR) for each month\n",
    "weekly_aggregated['obsr'] = weekly_aggregated['total_bookings'] / weekly_aggregated['total_searches']\n",
    "\n",
    "# Display the monthly average oBSR\n",
    "print(\"Average Overall Booking to Search Ratio (oBSR) for Each Month:\")\n",
    "print(weekly_aggregated[['month', 'day', 'obsr']])"
   ]
  },
  {
   "cell_type": "markdown",
   "id": "562757f2-f42d-42c2-a601-bf7cc5b91cdf",
   "metadata": {},
   "source": [
    "### (Question 10.3) Plot a time series of oBSR on all the given dates"
   ]
  },
  {
   "cell_type": "code",
   "execution_count": 107,
   "id": "c1a6c531-4127-4c46-9c2c-86e0523f1b40",
   "metadata": {},
   "outputs": [
    {
     "ename": "NameError",
     "evalue": "name 'monthly_aggregated' is not defined",
     "output_type": "error",
     "traceback": [
      "\u001b[1;31m---------------------------------------------------------------------------\u001b[0m",
      "\u001b[1;31mNameError\u001b[0m                                 Traceback (most recent call last)",
      "Cell \u001b[1;32mIn[107], line 3\u001b[0m\n\u001b[0;32m      1\u001b[0m \u001b[38;5;66;03m# Create a date column for plotting\u001b[39;00m\n\u001b[0;32m      2\u001b[0m \u001b[38;5;66;03m# Combine year and month into a single date column, using the first day of each month\u001b[39;00m\n\u001b[1;32m----> 3\u001b[0m monthly_aggregated[\u001b[38;5;124m'\u001b[39m\u001b[38;5;124mdate\u001b[39m\u001b[38;5;124m'\u001b[39m] \u001b[38;5;241m=\u001b[39m pd\u001b[38;5;241m.\u001b[39mto_datetime(monthly_aggregated[\u001b[38;5;124m'\u001b[39m\u001b[38;5;124myear\u001b[39m\u001b[38;5;124m'\u001b[39m]\u001b[38;5;241m.\u001b[39mastype(\u001b[38;5;28mstr\u001b[39m) \u001b[38;5;241m+\u001b[39m \u001b[38;5;124m'\u001b[39m\u001b[38;5;124m-\u001b[39m\u001b[38;5;124m'\u001b[39m \u001b[38;5;241m+\u001b[39m monthly_aggregated[\u001b[38;5;124m'\u001b[39m\u001b[38;5;124mmonth\u001b[39m\u001b[38;5;124m'\u001b[39m]\u001b[38;5;241m.\u001b[39mastype(\u001b[38;5;28mstr\u001b[39m) \u001b[38;5;241m+\u001b[39m \u001b[38;5;124m'\u001b[39m\u001b[38;5;124m-01\u001b[39m\u001b[38;5;124m'\u001b[39m)\n\u001b[0;32m      5\u001b[0m \u001b[38;5;66;03m# Plotting the time series of oBSR\u001b[39;00m\n\u001b[0;32m      6\u001b[0m plt\u001b[38;5;241m.\u001b[39mfigure(figsize\u001b[38;5;241m=\u001b[39m(\u001b[38;5;241m12\u001b[39m, \u001b[38;5;241m6\u001b[39m))\n",
      "\u001b[1;31mNameError\u001b[0m: name 'monthly_aggregated' is not defined"
     ]
    }
   ],
   "source": [
    "# Create a date column for plotting\n",
    "# Combine year and month into a single date column, using the first day of each month\n",
    "monthly_aggregated['date'] = pd.to_datetime(monthly_aggregated['year'].astype(str) + '-' + monthly_aggregated['month'].astype(str) + '-01')\n",
    "\n",
    "# Plotting the time series of oBSR\n",
    "plt.figure(figsize=(12, 6))\n",
    "plt.plot(monthly_aggregated['date'], monthly_aggregated['obsr'], marker='o', linestyle='-', color='blue')\n",
    "plt.title('Booking to Search Ratio (oBSR) Over Time')\n",
    "plt.xlabel('Date')\n",
    "plt.ylabel('oBSR')\n",
    "plt.xticks(rotation=45)\n",
    "plt.grid()\n",
    "plt.tight_layout()\n",
    "plt.show()"
   ]
  },
  {
   "cell_type": "code",
   "execution_count": 1,
   "id": "1f070a68-2b53-4355-ae1f-7df45bcb89f8",
   "metadata": {},
   "outputs": [
    {
     "name": "stdout",
     "output_type": "stream",
     "text": [
      "C:\\Users\\Dell\n"
     ]
    }
   ],
   "source": [
    "import os\n",
    "print(os.getcwd())  # Get Current Working Directory\n"
   ]
  },
  {
   "cell_type": "code",
   "execution_count": null,
   "id": "2ad3f7e9-9d7c-4d4b-8969-7ef53c9cd0f7",
   "metadata": {},
   "outputs": [],
   "source": []
  },
  {
   "cell_type": "code",
   "execution_count": null,
   "id": "abb88011-835f-4853-b5a4-ff530c11d80d",
   "metadata": {},
   "outputs": [],
   "source": []
  },
  {
   "cell_type": "code",
   "execution_count": null,
   "id": "6402c987-0e16-41d9-b962-30bf5842d812",
   "metadata": {},
   "outputs": [],
   "source": []
  },
  {
   "cell_type": "code",
   "execution_count": null,
   "id": "e9d18b16-4813-460d-bbe7-1d2377f1b4a6",
   "metadata": {},
   "outputs": [],
   "source": []
  },
  {
   "cell_type": "code",
   "execution_count": null,
   "id": "c1c44ce4-2f8f-4b5b-bbb0-f875328f33a3",
   "metadata": {},
   "outputs": [],
   "source": []
  }
 ],
 "metadata": {
  "kernelspec": {
   "display_name": "Python 3 (ipykernel)",
   "language": "python",
   "name": "python3"
  },
  "language_info": {
   "codemirror_mode": {
    "name": "ipython",
    "version": 3
   },
   "file_extension": ".py",
   "mimetype": "text/x-python",
   "name": "python",
   "nbconvert_exporter": "python",
   "pygments_lexer": "ipython3",
   "version": "3.12.4"
  }
 },
 "nbformat": 4,
 "nbformat_minor": 5
}

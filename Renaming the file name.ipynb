{
 "cells": [
  {
   "cell_type": "markdown",
   "id": "c4a4e4e1-6d79-46b2-979d-3502018d66b6",
   "metadata": {},
   "source": [
    "## this code is for rename the file name in bulk (intire folder)"
   ]
  },
  {
   "cell_type": "code",
   "execution_count": null,
   "id": "c93c1b9f-fd13-4ad1-a50b-637e7da196ba",
   "metadata": {},
   "outputs": [],
   "source": [
    "import os\n",
    "\n",
    "# Path to the directory containing the files\n",
    "folder_path = \"Actual file path\"\n",
    "\n",
    "# Loop through all the files in the folder\n",
    "for filename in os.listdir(folder_path):\n",
    "    # Check if the file name contains \"One Direction -\"\n",
    "    if \"word you want to remove\" in filename:\n",
    "        # Get the full path to the current file\n",
    "        file_path = os.path.join(folder_path, filename)\n",
    "        \n",
    "        # Remove \"One Direction -\" from the filename\n",
    "        new_filename = filename.replace(\"word you want to remove\", \"\").strip()\n",
    "        \n",
    "        # Get the full path for the new file name\n",
    "        new_file_path = os.path.join(folder_path, new_filename)\n",
    "        \n",
    "        # Rename the file\n",
    "        os.rename(file_path, new_file_path)\n",
    "        print(f\"Renamed: {filename} -> {new_filename}\")\n",
    "\n",
    "print(\"Renaming completed!\")"
   ]
  }
 ],
 "metadata": {
  "kernelspec": {
   "display_name": "Python 3 (ipykernel)",
   "language": "python",
   "name": "python3"
  },
  "language_info": {
   "codemirror_mode": {
    "name": "ipython",
    "version": 3
   },
   "file_extension": ".py",
   "mimetype": "text/x-python",
   "name": "python",
   "nbconvert_exporter": "python",
   "pygments_lexer": "ipython3",
   "version": "3.12.4"
  }
 },
 "nbformat": 4,
 "nbformat_minor": 5
}

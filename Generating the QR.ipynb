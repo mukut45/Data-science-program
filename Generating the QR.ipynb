{
 "cells": [
  {
   "cell_type": "code",
   "execution_count": 1,
   "id": "a294ec8c-5f73-468c-90d8-f7bdf989aca0",
   "metadata": {},
   "outputs": [
    {
     "name": "stdout",
     "output_type": "stream",
     "text": [
      "Collecting qrcode[pil]\n",
      "  Downloading qrcode-8.0-py3-none-any.whl.metadata (17 kB)\n",
      "Requirement already satisfied: colorama in c:\\users\\dell\\anaconda3\\lib\\site-packages (from qrcode[pil]) (0.4.6)\n",
      "Requirement already satisfied: pillow>=9.1.0 in c:\\users\\dell\\anaconda3\\lib\\site-packages (from qrcode[pil]) (10.3.0)\n",
      "Downloading qrcode-8.0-py3-none-any.whl (45 kB)\n",
      "   ---------------------------------------- 0.0/45.7 kB ? eta -:--:--\n",
      "   -------- ------------------------------- 10.2/45.7 kB ? eta -:--:--\n",
      "   ----------------- ---------------------- 20.5/45.7 kB 217.9 kB/s eta 0:00:01\n",
      "   ----------------------------------- ---- 41.0/45.7 kB 326.8 kB/s eta 0:00:01\n",
      "   ---------------------------------------- 45.7/45.7 kB 251.6 kB/s eta 0:00:00\n",
      "Installing collected packages: qrcode\n",
      "Successfully installed qrcode-8.0\n",
      "Note: you may need to restart the kernel to use updated packages.\n"
     ]
    }
   ],
   "source": [
    "pip install qrcode[pil]\n"
   ]
  },
  {
   "cell_type": "code",
   "execution_count": 3,
   "id": "51769a86-ea6b-4d3d-9451-1d1751b7e140",
   "metadata": {},
   "outputs": [
    {
     "name": "stdout",
     "output_type": "stream",
     "text": [
      "Requirement already satisfied: pillow in c:\\users\\dell\\anaconda3\\lib\\site-packages (10.3.0)\n",
      "Note: you may need to restart the kernel to use updated packages.\n"
     ]
    }
   ],
   "source": [
    "pip install pillow"
   ]
  },
  {
   "cell_type": "markdown",
   "id": "9a5d4df8-f3d7-4d10-adbc-284cafed98b2",
   "metadata": {},
   "source": [
    "# Creating the QR code for my Linkedin Profile"
   ]
  },
  {
   "cell_type": "code",
   "execution_count": 13,
   "id": "c9bed810-eff7-4c65-b96a-b6005ffe03e8",
   "metadata": {},
   "outputs": [],
   "source": [
    "import qrcode # this is the qrcode library, to generate the qrcode in python\n",
    "from PIL import Image # This part installs the necessary dependencies for image creation using the Pillow library (for handling images).\n",
    "\n",
    "# Replace with your LinkedIn profile URL\n",
    "linkedin_url = \"https://www.linkedin.com/in/mukutdutta/\" # this is my linkedin profile url\n",
    "\n",
    "# Generate the QR code\n",
    "qr = qrcode.QRCode(\n",
    "    version=1,\n",
    "    error_correction=qrcode.constants.ERROR_CORRECT_L,\n",
    "    # The error_correction parameter in the qrcode library defines the level of error correction used when generating a QR code. \n",
    "    #QR codes have built-in redundancy, which helps them still be readable even if part of the code is obscured or damaged. \n",
    "    #The error_correction setting controls how much of the QR code is dedicated to this redundancy.\n",
    "    box_size=10,\n",
    "    border=4,\n",
    ")\n",
    "\n",
    "qr.add_data(linkedin_url)\n",
    "qr.make(fit=True)\n",
    "\n",
    "img = qr.make_image(fill='black', back_color='white') # this is for qrcode colour adjustment\n",
    "\n",
    "# Print the image\n",
    "img.show()  # This will open the image in the default viewer, from which you can print\n"
   ]
  },
  {
   "cell_type": "markdown",
   "id": "2e821b81-2d03-4828-84bc-c2d66bb60a11",
   "metadata": {},
   "source": [
    "## This is for the QR code, linkedin logo in the middle"
   ]
  },
  {
   "cell_type": "code",
   "execution_count": 23,
   "id": "c19e5421-f083-4a43-9ef9-f1e5dc5a9076",
   "metadata": {},
   "outputs": [],
   "source": [
    "import qrcode\n",
    "from PIL import Image\n",
    "\n",
    "# Your LinkedIn URL (Replace with your actual LinkedIn URL)\n",
    "linkedin_url = \"https:// url\"\n",
    "\n",
    "# Path to the LinkedIn logo image on your local machine (Replace with the actual path)\n",
    "linkedin_logo_path = \"D:/linkedin logo path\" # Example: \"C:/Users/YourName/Downloads/linkedin_logo.png\"\n",
    "\n",
    "# Create the QR code in RGBA mode (to preserve transparency and colors)\n",
    "qr = qrcode.QRCode(\n",
    "    version=1,\n",
    "    error_correction=qrcode.constants.ERROR_CORRECT_H,  # High error correction to allow for logo\n",
    "    box_size=10,\n",
    "    border=4,\n",
    ")\n",
    "qr.add_data(linkedin_url)\n",
    "qr.make(fit=True)\n",
    "\n",
    "# Generate QR code as an image in RGBA (supports transparency)\n",
    "qr_img = qr.make_image(fill='black', back_color='white').convert(\"RGBA\")\n",
    "\n",
    "# Open the LinkedIn logo from the local machine\n",
    "linkedin_logo = Image.open(linkedin_logo_path)\n",
    "\n",
    "# Ensure the LinkedIn logo has an alpha channel (transparency) and is in RGBA (range is 0 to 255, 0 = total transperent, 255 = total opaque)\n",
    "linkedin_logo = linkedin_logo.convert(\"RGBA\")\n",
    "\n",
    "# Resize the LinkedIn logo to fit in the center of the QR code\n",
    "linkedin_logo = linkedin_logo.resize((50, 50))  # Adjust size as needed\n",
    "\n",
    "# Position to paste the LinkedIn logo in the center of the QR code\n",
    "qr_width, qr_height = qr_img.size\n",
    "logo_position = ((qr_width - 50) // 2, (qr_height - 50) // 2)  # Center the logo\n",
    "\n",
    "# Paste the LinkedIn logo onto the QR code, maintaining its color and transparency (RGBA mode)\n",
    "qr_img.paste(linkedin_logo, logo_position, linkedin_logo)\n",
    "\n",
    "# Show or save the final QR code\n",
    "qr_img.show()  # This will open the image for you to print\n",
    "qr_img.save(\"linkedin_qr_with_logo.png\")  # Optional: save the image\n"
   ]
  },
  {
   "cell_type": "markdown",
   "id": "c229bca4-6535-4fa6-8dae-c2b34fb6a541",
   "metadata": {},
   "source": [
    "# this is to know the current directory"
   ]
  },
  {
   "cell_type": "code",
   "execution_count": 15,
   "id": "fdc3b5e3-1f0a-4839-b8ef-9ebc8b66152c",
   "metadata": {},
   "outputs": [
    {
     "name": "stdout",
     "output_type": "stream",
     "text": [
      "Current Directory: C:\\Users\\Dell\n"
     ]
    }
   ],
   "source": [
    "import os\n",
    "\n",
    "# Get the current working directory\n",
    "current_directory = os.getcwd()\n",
    "\n",
    "print(\"Current Directory:\", current_directory)\n"
   ]
  },
  {
   "cell_type": "code",
   "execution_count": null,
   "id": "778c4701-367a-4dd5-b1e2-da909707a8ed",
   "metadata": {},
   "outputs": [],
   "source": []
  }
 ],
 "metadata": {
  "kernelspec": {
   "display_name": "Python 3 (ipykernel)",
   "language": "python",
   "name": "python3"
  },
  "language_info": {
   "codemirror_mode": {
    "name": "ipython",
    "version": 3
   },
   "file_extension": ".py",
   "mimetype": "text/x-python",
   "name": "python",
   "nbconvert_exporter": "python",
   "pygments_lexer": "ipython3",
   "version": "3.12.4"
  }
 },
 "nbformat": 4,
 "nbformat_minor": 5
}

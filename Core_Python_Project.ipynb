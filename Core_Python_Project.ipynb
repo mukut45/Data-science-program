{
 "cells": [
  {
   "cell_type": "markdown",
   "id": "31ae150c-b3b9-4b1d-a4ba-2a79a5406247",
   "metadata": {},
   "source": [
    "# Core_Python_Practice\n"
   ]
  },
  {
   "cell_type": "code",
   "execution_count": null,
   "id": "3696ca1f-cc3d-4e9b-b014-6335ef4f13b7",
   "metadata": {},
   "outputs": [],
   "source": [
    "# Function to find factors of a given number and check if they are even or odd\n",
    "def find_factors_and_check_parity(number):\n",
    "    print(f\"Factors of {number}:\")\n",
    "    \n",
    "    for i in range(1, number + 1):\n",
    "        if number % i == 0:  # Check if i is a factor\n",
    "            if i % 2 == 0:  # Check if the factor is even\n",
    "                print(f\"{i} is even\")\n",
    "            else:  # Otherwise, the factor is odd\n",
    "                print(f\"{i} is odd\")\n",
    "\n",
    "# Input: Ask the user to enter a number\n",
    "number = int(input(\"Enter a number: \"))\n",
    "\n",
    "# Call the function with the user input\n",
    "find_factors_and_check_parity(number)\n"
   ]
  },
  {
   "cell_type": "code",
   "execution_count": 5,
   "id": "c867adb5-73f6-43f7-b624-28e4da8d57e7",
   "metadata": {},
   "outputs": [
    {
     "name": "stdin",
     "output_type": "stream",
     "text": [
      "Enter a sequence of words:  mukut animesh radha shayam\n"
     ]
    },
    {
     "name": "stdout",
     "output_type": "stream",
     "text": [
      "Sorted words: animesh mukut radha shayam\n"
     ]
    }
   ],
   "source": [
    "# Accept a sequence of words as input\n",
    "input_string = input(\"Enter a sequence of words: \")\n",
    "\n",
    "# Split the input string into a list of words\n",
    "words_list = input_string.split() # split function, split the string into list of words and then its operate any function\n",
    "\n",
    "# Sort the list of words alphabetically\n",
    "words_list.sort() # sort alphabetically\n",
    "\n",
    "# Print the sorted words\n",
    "print(\"Sorted words:\", \" \".join(words_list)) # join the string\n"
   ]
  },
  {
   "cell_type": "code",
   "execution_count": 7,
   "id": "51cf930c-22c3-4227-a25d-4415ab8c2bd5",
   "metadata": {},
   "outputs": [
    {
     "name": "stdout",
     "output_type": "stream",
     "text": [
      "The number of such elements is: 125\n"
     ]
    }
   ],
   "source": [
    "# Function to check if all digits of a number are odd\n",
    "def all_digits_odd(number):\n",
    "    # Convert the number to a string to check each digit\n",
    "    for digit in str(number): \n",
    "        # Check if the digit is even\n",
    "        if int(digit) % 2 == 0:\n",
    "            return False \n",
    "    return True\n",
    "\n",
    "# Find all numbers between 1000 and 3000 where each digit is odd\n",
    "count = 0\n",
    "for number in range(1001, 3000):  # From 1001 to 2999, both excluded\n",
    "    if all_digits_odd(number):\n",
    "        count += 1\n",
    "\n",
    "# Print the count of such numbers\n",
    "print(f\"The number of such elements is: {count}\")\n"
   ]
  },
  {
   "cell_type": "code",
   "execution_count": 9,
   "id": "39ad4749-9296-4349-9bf4-165002f9128d",
   "metadata": {},
   "outputs": [
    {
     "name": "stdin",
     "output_type": "stream",
     "text": [
      "Enter a string:  muku56\n"
     ]
    },
    {
     "name": "stdout",
     "output_type": "stream",
     "text": [
      "LETTERS: - 4\n",
      "DIGITS: - 2\n"
     ]
    }
   ],
   "source": [
    "# Accept a string as input\n",
    "input_string = input(\"Enter a string: \")\n",
    "\n",
    "# Initialize counters for letters and digits\n",
    "letters_count = 0 \n",
    "digits_count = 0 \n",
    "\n",
    "# Loop through each character in the input string\n",
    "for char in input_string:\n",
    "    if char.isalpha():  # Check if the character is a letter\n",
    "        letters_count += 1\n",
    "    elif char.isdigit():  # Check if the character is a digit\n",
    "        digits_count += 1\n",
    "\n",
    "# Print the results\n",
    "print(f\"LETTERS: - {letters_count}\")\n",
    "print(f\"DIGITS: - {digits_count}\")\n"
   ]
  },
  {
   "cell_type": "code",
   "execution_count": 17,
   "id": "9767ad06-8085-4acf-a9c5-59e3d1942ae1",
   "metadata": {},
   "outputs": [
    {
     "name": "stdin",
     "output_type": "stream",
     "text": [
      "Enter a string:  mukut 876\n"
     ]
    },
    {
     "name": "stdout",
     "output_type": "stream",
     "text": [
      "LETTERS: - 5\n",
      "DIGITS: - 3\n"
     ]
    }
   ],
   "source": [
    "# Define a function to count letters and digits, this is the second veriont of the above program\n",
    "def count_letters_and_digits(input_string):\n",
    "    # Initialize counters for letters and digits\n",
    "    letters_count = 0\n",
    "    digits_count = 0\n",
    "\n",
    "    # Loop through each character in the input string\n",
    "    for char in input_string:\n",
    "        if char.isalpha():  # Check if the character is a letter\n",
    "            letters_count += 1\n",
    "        elif char.isdigit():  # Check if the character is a digit\n",
    "            digits_count += 1\n",
    "\n",
    "    # Return the results\n",
    "    return letters_count, digits_count\n",
    "\n",
    "# Accept a string as input\n",
    "input_string = input(\"Enter a string: \")\n",
    "\n",
    "# Call the function and get the counts\n",
    "letters_count, digits_count = count_letters_and_digits(input_string)\n",
    "\n",
    "# Print the results\n",
    "print(f\"LETTERS: - {letters_count}\")\n",
    "print(f\"DIGITS: - {digits_count}\")\n"
   ]
  },
  {
   "cell_type": "code",
   "execution_count": 23,
   "id": "66fc5a5f-9fb1-4327-ad33-30fcae734e2c",
   "metadata": {},
   "outputs": [
    {
     "name": "stdin",
     "output_type": "stream",
     "text": [
      "Enter a number:  111111\n"
     ]
    },
    {
     "name": "stdout",
     "output_type": "stream",
     "text": [
      "111111 is a palindrome number.\n"
     ]
    }
   ],
   "source": [
    "# Function to check if a number is a palindrome\n",
    "def is_palindrome(number):\n",
    "    # Convert the number to a string to easily reverse it\n",
    "    num_str = str(number)\n",
    "    \n",
    "    # Check if the number is equal to its reverse\n",
    "    if num_str == num_str[::-1]: #[::-1] this is to reverse the string or numbers\n",
    "        return True\n",
    "    else:\n",
    "        return False\n",
    "\n",
    "# Accept a number as input\n",
    "num = int(input(\"Enter a number: \"))\n",
    "\n",
    "# Call the function and check if the number is a palindrome\n",
    "if is_palindrome(num):\n",
    "    print(f\"{num} is a palindrome number.\")\n",
    "else:\n",
    "    print(f\"{num} is not a palindrome number.\")\n"
   ]
  },
  {
   "cell_type": "code",
   "execution_count": 21,
   "id": "564cad4b-b959-4cdc-84df-c29ce09e131b",
   "metadata": {},
   "outputs": [
    {
     "name": "stdin",
     "output_type": "stream",
     "text": [
      "Enter your user-id:  mukut\n",
      "Enter your password:  muk76@\n"
     ]
    },
    {
     "name": "stdout",
     "output_type": "stream",
     "text": [
      "Password is valid.\n"
     ]
    }
   ],
   "source": [
    "# Function to validate the password based on the given rules\n",
    "def validate_password(password):\n",
    "    # Rule iv: Check for minimum and maximum length\n",
    "    if len(password) < 5 or len(password) > 10:\n",
    "        return \"Password must be between 5 and 10 characters.\"\n",
    "\n",
    "    # Rule i: Check for at least 1 alphabet\n",
    "    has_alphabet = False\n",
    "    for char in password:\n",
    "        if char.isalpha():\n",
    "            has_alphabet = True\n",
    "            break\n",
    "    if not has_alphabet:\n",
    "        return \"Password must contain at least one alphabet.\"\n",
    "\n",
    "    # Rule ii: Check for at least 1 digit\n",
    "    has_digit = False\n",
    "    for char in password:\n",
    "        if char.isdigit():\n",
    "            has_digit = True\n",
    "            break\n",
    "    if not has_digit:\n",
    "        return \"Password must contain at least one digit.\"\n",
    "\n",
    "    # Rule iii: Check for at least 1 special character (@ or &)\n",
    "    has_special_char = False\n",
    "    for char in password:\n",
    "        if char in '@&':\n",
    "            has_special_char = True\n",
    "            break\n",
    "    if not has_special_char:\n",
    "        return \"Password must contain at least one special character from [@&].\"\n",
    "\n",
    "    # If all conditions are met\n",
    "    return \"Password is valid.\"\n",
    "\n",
    "# Function to get user input and validate it\n",
    "def register_user():\n",
    "    user_id = input(\"Enter your user-id: \")\n",
    "    password = input(\"Enter your password: \")\n",
    "\n",
    "    # Validate the password\n",
    "    validation_message = validate_password(password)\n",
    "    print(validation_message)\n",
    "\n",
    "# lets take input from the user\n",
    "register_user()\n"
   ]
  },
  {
   "cell_type": "code",
   "execution_count": 35,
   "id": "c2c3a6c7-28ff-4a4a-ac30-0923ae017a0a",
   "metadata": {},
   "outputs": [
    {
     "name": "stdout",
     "output_type": "stream",
     "text": [
      "S\n",
      "m\n",
      "i\n",
      "@\n",
      "1\n",
      "2\n",
      "3\n"
     ]
    }
   ],
   "source": [
    "password = \"Smi@123\"\n",
    "for char in password:\n",
    "    print (char)\n"
   ]
  },
  {
   "cell_type": "code",
   "execution_count": 49,
   "id": "e01896f7-3ba9-4c03-bf8c-bcfe8da4421e",
   "metadata": {},
   "outputs": [
    {
     "name": "stdout",
     "output_type": "stream",
     "text": [
      "1\n",
      "2\n",
      "3\n"
     ]
    }
   ],
   "source": [
    "password = \"Smi@123\"\n",
    "\n",
    "for char in password:\n",
    "    if char.isdigit():  # Check if the character is a digit\n",
    "        char = int(char)  # Convert the character to an integer\n",
    "        print(char)\n",
    "        \n"
   ]
  },
  {
   "cell_type": "code",
   "execution_count": 53,
   "id": "52566ed0-dd74-48a2-bf02-404966322ecf",
   "metadata": {},
   "outputs": [
    {
     "name": "stdout",
     "output_type": "stream",
     "text": [
      "S\n",
      "m\n",
      "i\n"
     ]
    }
   ],
   "source": [
    "password = \"Smi@123\"\n",
    "\n",
    "for char in password:\n",
    "    if char.isalpha():  # Check if the character is a digit\n",
    "  # Convert the character to an integer\n",
    "        print(char)"
   ]
  },
  {
   "cell_type": "code",
   "execution_count": 47,
   "id": "af539faa-7863-46b7-8dd1-8bbef3608637",
   "metadata": {},
   "outputs": [
    {
     "name": "stdout",
     "output_type": "stream",
     "text": [
      "1\n",
      "2\n",
      "3\n"
     ]
    }
   ],
   "source": [
    "password = \"Smi@123\"\n",
    "\n",
    "# Iterate through each character in the password\n",
    "for char in password:\n",
    "    if char.isdigit():  # Check if the character is a digit\n",
    "        print(char)  # Print the digit\n"
   ]
  },
  {
   "cell_type": "code",
   "execution_count": 65,
   "id": "933befa4-4fee-4bb2-82c6-e2868a0038e0",
   "metadata": {},
   "outputs": [
    {
     "name": "stdin",
     "output_type": "stream",
     "text": [
      "Enter a list of elements separated by spaces:  m m m\n"
     ]
    },
    {
     "name": "stdout",
     "output_type": "stream",
     "text": [
      "Index: 0, Element: m\n",
      "Index: 1, Element: m\n",
      "Index: 2, Element: m\n"
     ]
    }
   ],
   "source": [
    "# Taking input from the user and converting it into a list\n",
    "user_input = input(\"Enter a list of elements separated by spaces: \")\n",
    "\n",
    "# Converting the input string into a list by splitting the input\n",
    "user_list = user_input.split()\n",
    "\n",
    "# Printing elements and their indexes\n",
    "for index, element in enumerate(user_list):\n",
    "    print(f\"Index: {index}, Element: {element}\")"
   ]
  },
  {
   "cell_type": "code",
   "execution_count": 1,
   "id": "fe072e76-a238-45bd-805a-775e85829ebb",
   "metadata": {},
   "outputs": [
    {
     "name": "stdin",
     "output_type": "stream",
     "text": [
      "Enter a string:  Ed12ur3ka1Python12\n"
     ]
    },
    {
     "name": "stdout",
     "output_type": "stream",
     "text": [
      "Resulting string: EuaPto\n"
     ]
    }
   ],
   "source": [
    "# Accepting input string from the user\n",
    "user_input = input(\"Enter a string: \")\n",
    "\n",
    "# Initializing an empty string to store the result\n",
    "result = \"\"\n",
    "\n",
    "# Iterate through the string and check for even indexes\n",
    "for i in range(len(user_input)):\n",
    "    if i % 2 == 0 and user_input[i].isalpha():  # Check if index is even and character is alphabet\n",
    "        result += user_input[i]  # Add the character to the result string\n",
    "\n",
    "# Print the concatenated result\n",
    "print(\"Resulting string:\", result)"
   ]
  },
  {
   "cell_type": "code",
   "execution_count": 3,
   "id": "f3c74c3d-0e70-4cc9-838a-3bb0e9263060",
   "metadata": {},
   "outputs": [
    {
     "name": "stdout",
     "output_type": "stream",
     "text": [
      "Sum of numbers: 55\n"
     ]
    }
   ],
   "source": [
    "# Code for a complex task\n",
    "result = 0\n",
    "for i in range(1, 11):\n",
    "    result += i\n",
    "print(\"Sum of numbers:\", result)\n"
   ]
  },
  {
   "cell_type": "code",
   "execution_count": 9,
   "id": "a000dcc8-5997-4609-83b2-02caedd6b9d9",
   "metadata": {},
   "outputs": [
    {
     "name": "stdout",
     "output_type": "stream",
     "text": [
      "Sum of numbers: 55\n"
     ]
    }
   ],
   "source": [
    "def calculate_sum_of_numbers(start, end):\n",
    "    result = 0\n",
    "    for i in range(start, end + 1):\n",
    "        result += i\n",
    "    return result\n",
    "\n",
    "# Now you can call the function whenever needed\n",
    "sum_result = calculate_sum_of_numbers(1, 10)\n",
    "print(\"Sum of numbers:\", sum_result)\n"
   ]
  },
  {
   "cell_type": "code",
   "execution_count": 15,
   "id": "d59eda33-9cf6-49f7-979e-987f27e592a3",
   "metadata": {},
   "outputs": [
    {
     "name": "stdout",
     "output_type": "stream",
     "text": [
      "First name: John\n",
      "Last name: Doe\n",
      "First name: Alice\n",
      "Last name: Smith\n"
     ]
    }
   ],
   "source": [
    "def print_full_name(first_name, last_name):\n",
    "    print(\"First name:\", first_name)\n",
    "    print(\"Last name:\", last_name)\n",
    "\n",
    "print_full_name(\"John\", \"Doe\")\n",
    "print_full_name(\"Alice\", \"Smith\") "
   ]
  },
  {
   "cell_type": "code",
   "execution_count": 17,
   "id": "6630e9d6-5086-4d45-90ad-d5c8a95e69b0",
   "metadata": {},
   "outputs": [
    {
     "name": "stdout",
     "output_type": "stream",
     "text": [
      "First name: mukut\n",
      "Last name: may\n",
      "First name: sumit\n",
      "Last name: kumar\n"
     ]
    }
   ],
   "source": [
    "print_full_name(\"mukut\", \"may\")\n",
    "print_full_name(\"sumit\", \"kumar\") "
   ]
  },
  {
   "cell_type": "code",
   "execution_count": 25,
   "id": "7878cb97-92a5-456b-b582-dfe8cc50118d",
   "metadata": {},
   "outputs": [
    {
     "name": "stdout",
     "output_type": "stream",
     "text": [
      "First name - Mukut\n",
      "Last name - Dutta\n"
     ]
    }
   ],
   "source": [
    "print (\"First name - Mukut\")\n",
    "print (\"Last name - Dutta\")"
   ]
  },
  {
   "cell_type": "code",
   "execution_count": 27,
   "id": "70c34d59-72d5-4b62-a6fc-91a9b41ef1d9",
   "metadata": {},
   "outputs": [
    {
     "name": "stdin",
     "output_type": "stream",
     "text": [
      "Enter username:  admin\n",
      "Enter password:  secret\n"
     ]
    },
    {
     "name": "stdout",
     "output_type": "stream",
     "text": [
      "Login successful\n"
     ]
    }
   ],
   "source": [
    "username = input(\"Enter username: \")\n",
    "password = input(\"Enter password: \")\n",
    "if username == \"admin\" and password == \"secret\":\n",
    "    print(\"Login successful\")\n",
    "else:\n",
    "    print(\"Login failed\")"
   ]
  },
  {
   "cell_type": "code",
   "execution_count": 3,
   "id": "d0619dff-cce8-418d-9531-1d053354c306",
   "metadata": {},
   "outputs": [
    {
     "name": "stdin",
     "output_type": "stream",
     "text": [
      "Enter username:  \n",
      "Enter password:  \n"
     ]
    },
    {
     "name": "stdout",
     "output_type": "stream",
     "text": [
      "Login failed\n"
     ]
    }
   ],
   "source": [
    "def login(username, password):\n",
    "    if username == \"admin\" and password == \"secret\":\n",
    "        print(\"Login successful\")\n",
    "    else:\n",
    "        print(\"Login failed\")\n",
    "\n",
    "# Now, you can call the function whenever needed\n",
    "username = input(\"Enter username: \")\n",
    "password = input(\"Enter password: \")\n",
    "login(username, password)\n"
   ]
  },
  {
   "cell_type": "code",
   "execution_count": 12,
   "id": "66c40afe-93b5-4f2e-ad83-f6bcdd7e7e1c",
   "metadata": {},
   "outputs": [
    {
     "name": "stdin",
     "output_type": "stream",
     "text": [
      "Enter username:  admin\n",
      "Enter password:  secret\n"
     ]
    },
    {
     "name": "stdout",
     "output_type": "stream",
     "text": [
      "Login successful\n"
     ]
    }
   ],
   "source": [
    "username = input(\"Enter username: \")\n",
    "password = input(\"Enter password: \")\n",
    "if username == \"admin\" and password == \"secret\":\n",
    "        print(\"Login successful\")\n",
    "else:\n",
    "        print(\"Login failed\")\n",
    "\n"
   ]
  },
  {
   "cell_type": "code",
   "execution_count": 14,
   "id": "792eb66a-2bd2-4960-8652-982a87d649a8",
   "metadata": {},
   "outputs": [
    {
     "name": "stdin",
     "output_type": "stream",
     "text": [
      "Enter username:  admin\n",
      "Enter password:  secret\n"
     ]
    },
    {
     "name": "stdout",
     "output_type": "stream",
     "text": [
      "Login successful\n"
     ]
    }
   ],
   "source": [
    "username = input(\"Enter username: \")\n",
    "password = input(\"Enter password: \")\n",
    "login(username, password)"
   ]
  },
  {
   "cell_type": "code",
   "execution_count": 20,
   "id": "c062432a-ed79-4834-a6d1-07e1e824fdb2",
   "metadata": {},
   "outputs": [
    {
     "name": "stdin",
     "output_type": "stream",
     "text": [
      "Enter your age:  24\n"
     ]
    },
    {
     "name": "stdout",
     "output_type": "stream",
     "text": [
      "You are an adult.\n"
     ]
    }
   ],
   "source": [
    "def check_age(age):\n",
    "    if age < 18:\n",
    "        return \"You are a minor.\"\n",
    "    else:\n",
    "        return \"You are an adult.\"\n",
    "\n",
    "# Using the function\n",
    "age = int(input(\"Enter your age: \"))\n",
    "print (check_age(age))\n"
   ]
  },
  {
   "cell_type": "code",
   "execution_count": 2,
   "id": "499ca557-35d3-487d-a118-8679c715c407",
   "metadata": {},
   "outputs": [
    {
     "name": "stdin",
     "output_type": "stream",
     "text": [
      "Enter a string:  mukut may dutta is a handsome boy\n"
     ]
    },
    {
     "name": "stdout",
     "output_type": "stream",
     "text": [
      "Reversed string: yob emosdnah a si attud yam tukum\n"
     ]
    }
   ],
   "source": [
    "# Accept input from the user\n",
    "input_string = input(\"Enter a string: \")\n",
    "\n",
    "# Reverse the string and print it\n",
    "reversed_string = input_string[::-1]\n",
    "print(\"Reversed string:\", reversed_string)\n"
   ]
  },
  {
   "cell_type": "code",
   "execution_count": 4,
   "id": "7eccc222-dfe0-46cc-b810-21ede42bc8c3",
   "metadata": {},
   "outputs": [
    {
     "name": "stdin",
     "output_type": "stream",
     "text": [
      "Enter a string:  mukutmaydutta\n"
     ]
    },
    {
     "name": "stdout",
     "output_type": "stream",
     "text": [
      "m,2\n",
      "u,3\n",
      "k,1\n",
      "t,3\n",
      "a,2\n",
      "y,1\n",
      "d,1\n"
     ]
    }
   ],
   "source": [
    "# Accept input from the user\n",
    "input_string = input(\"Enter a string: \")\n",
    "\n",
    "# Initialize an empty dictionary to store the frequency of characters\n",
    "char_count = {}\n",
    "\n",
    "# Loop through each character in the string\n",
    "for char in input_string:\n",
    "    # If the character is already in the dictionary, increment its count\n",
    "    if char in char_count:\n",
    "        char_count[char] += 1\n",
    "    # Otherwise, add the character to the dictionary with count 1\n",
    "    else:\n",
    "        char_count[char] = 1\n",
    "\n",
    "# Print the frequency of each character in the order they first appear\n",
    "for char in char_count:\n",
    "    print(f\"{char},{char_count[char]}\")\n"
   ]
  },
  {
   "cell_type": "code",
   "execution_count": 8,
   "id": "1acec4f7-3d5d-4a86-ae0e-082e43da0b25",
   "metadata": {},
   "outputs": [
    {
     "name": "stdout",
     "output_type": "stream",
     "text": [
      "25\n"
     ]
    }
   ],
   "source": [
    "result = (2 + 3) * 5\n",
    "print (result)"
   ]
  },
  {
   "cell_type": "code",
   "execution_count": 10,
   "id": "53c42d7a-65fb-4400-bb14-8bed03dcd851",
   "metadata": {},
   "outputs": [
    {
     "data": {
      "text/plain": [
       "[1, 2, 3, 4]"
      ]
     },
     "execution_count": 10,
     "metadata": {},
     "output_type": "execute_result"
    }
   ],
   "source": [
    "my_list = [1, 2, 3, 4]\n",
    "my_list"
   ]
  },
  {
   "cell_type": "code",
   "execution_count": 30,
   "id": "8971f8fb-6ca3-4712-838a-e42651355631",
   "metadata": {},
   "outputs": [
    {
     "data": {
      "text/plain": [
       "2"
      ]
     },
     "execution_count": 30,
     "metadata": {},
     "output_type": "execute_result"
    }
   ],
   "source": [
    "first_element = my_list[1]  # Access the first element\n",
    "first_element"
   ]
  },
  {
   "cell_type": "code",
   "execution_count": 50,
   "id": "9289b32c-30f5-4f9c-a94e-5a4b14717036",
   "metadata": {},
   "outputs": [
    {
     "data": {
      "text/plain": [
       "[0, 1, 4, 9, 16]"
      ]
     },
     "execution_count": 50,
     "metadata": {},
     "output_type": "execute_result"
    }
   ],
   "source": [
    "squares = [x**2 for x in range(5)]\n",
    "squares"
   ]
  },
  {
   "cell_type": "code",
   "execution_count": 52,
   "id": "98e1af45-616f-4ff1-ae75-be9515ad280d",
   "metadata": {},
   "outputs": [
    {
     "data": {
      "text/plain": [
       "{'apple': 1, 'banana': 2}"
      ]
     },
     "execution_count": 52,
     "metadata": {},
     "output_type": "execute_result"
    }
   ],
   "source": [
    "my_dict = {\"apple\": 1, \"banana\": 2}\n",
    "my_dict"
   ]
  },
  {
   "cell_type": "code",
   "execution_count": 64,
   "id": "03d0cc3c-b093-43ba-89c9-9de251a94a05",
   "metadata": {},
   "outputs": [
    {
     "data": {
      "text/plain": [
       "{1, 2, 3}"
      ]
     },
     "execution_count": 64,
     "metadata": {},
     "output_type": "execute_result"
    }
   ],
   "source": [
    "my_set = {1, 2, 3}\n",
    "my_set"
   ]
  },
  {
   "cell_type": "code",
   "execution_count": 68,
   "id": "fcd83a10-9776-4071-aaec-93ea99128cca",
   "metadata": {},
   "outputs": [
    {
     "data": {
      "text/plain": [
       "'Hello, Alice!'"
      ]
     },
     "execution_count": 68,
     "metadata": {},
     "output_type": "execute_result"
    }
   ],
   "source": [
    "name = \"Alice\"\n",
    "greeting = f\"Hello, {name}!\"  # The variable 'name' is embedded in the string\n",
    "greeting"
   ]
  },
  {
   "cell_type": "code",
   "execution_count": 72,
   "id": "9a34cb01-c6ee-4de8-abb8-98ae80f17965",
   "metadata": {},
   "outputs": [
    {
     "data": {
      "text/plain": [
       "{0, 2, 4, 6, 8}"
      ]
     },
     "execution_count": 72,
     "metadata": {},
     "output_type": "execute_result"
    }
   ],
   "source": [
    "even_numbers = {x for x in range(10) if x % 2 == 0} # it will print only even numbers\n",
    "even_numbers"
   ]
  },
  {
   "cell_type": "code",
   "execution_count": 80,
   "id": "df278601-38c2-454b-b84c-81fbd1502fba",
   "metadata": {},
   "outputs": [
    {
     "name": "stdout",
     "output_type": "stream",
     "text": [
      "Intersection of the lists: [10, 13, 5]\n"
     ]
    }
   ],
   "source": [
    "# Given lists\n",
    "list1 = [1, 5, 10, 12, 34, 13]\n",
    "list2 = [4, 7, 8, 10, 5, 13, 24]\n",
    "\n",
    "# Using set intersection to find common elements\n",
    "intersection = list(set(list1) & set(list2))\n",
    "\n",
    "# Print the result\n",
    "print(\"Intersection of the lists:\", intersection)\n"
   ]
  },
  {
   "cell_type": "code",
   "execution_count": 84,
   "id": "231661ac-c4e2-44aa-ad98-6f72c06bd1c8",
   "metadata": {},
   "outputs": [
    {
     "data": {
      "text/plain": [
       "{1, 4, 5, 7, 8, 10, 12, 13, 24, 34}"
      ]
     },
     "execution_count": 84,
     "metadata": {},
     "output_type": "execute_result"
    }
   ],
   "source": [
    "list1 = {1, 5, 10, 12, 34, 13, 4, 7, 8, 10, 5, 13, 24}\n",
    "list1"
   ]
  },
  {
   "cell_type": "code",
   "execution_count": 86,
   "id": "a29447b6-6ce3-46a4-8ad3-c3fd326800ff",
   "metadata": {},
   "outputs": [
    {
     "name": "stdout",
     "output_type": "stream",
     "text": [
      "[35, 88, 155]\n"
     ]
    }
   ],
   "source": [
    "# Original list\n",
    "numbers = [12, 24, 35, 24, 88, 120, 155]\n",
    "\n",
    "# Using list comprehension to filter out numbers divisible by 6\n",
    "filtered_numbers = [num for num in numbers if num % 6 != 0]\n",
    "\n",
    "# Printing the filtered list\n",
    "print(filtered_numbers)\n"
   ]
  },
  {
   "cell_type": "code",
   "execution_count": 96,
   "id": "1496c61a-2a16-4ffd-89f7-dad0a6b8232e",
   "metadata": {},
   "outputs": [
    {
     "name": "stdout",
     "output_type": "stream",
     "text": [
      "[35, 88, 155]\n"
     ]
    }
   ],
   "source": [
    "numbers = [12, 24, 35, 24, 88, 120, 155]\n",
    "\n",
    "filtered_numbers = [num for num in numbers if num % 6 != 0]\n",
    "\n",
    "print (filtered_numbers)"
   ]
  },
  {
   "cell_type": "code",
   "execution_count": 110,
   "id": "185da777-26b9-4e6e-a90f-c91d39b92658",
   "metadata": {},
   "outputs": [
    {
     "name": "stdout",
     "output_type": "stream",
     "text": [
      "[12, 35, 88]\n"
     ]
    }
   ],
   "source": [
    "# Original list\n",
    "numbers = [12, 24, 35, 70, 88, 120, 155]\n",
    "\n",
    "# Using list comprehension to remove the 1st, 3rd, and 5th numbers\n",
    "filtered_numbers = [num for index, num in enumerate(numbers) if index in [0, 2, 4]]\n",
    "\n",
    "# Print the filtered list\n",
    "print(filtered_numbers)\n"
   ]
  },
  {
   "cell_type": "code",
   "execution_count": 5,
   "id": "413bd2f6-a672-4bf5-8b65-6803821a129c",
   "metadata": {},
   "outputs": [
    {
     "name": "stdout",
     "output_type": "stream",
     "text": [
      "[24, 70, 120, 155]\n"
     ]
    }
   ],
   "source": [
    "numbers = [12, 24, 35, 70, 88, 120, 155]\n",
    "filtered_number = [num for index, num in enumerate(numbers) if index not in [0, 2, 4]]\n",
    "\n",
    "print(filtered_number)"
   ]
  },
  {
   "cell_type": "code",
   "execution_count": 11,
   "id": "6e51219c-7f1f-40f8-a908-c047984910bb",
   "metadata": {},
   "outputs": [
    {
     "name": "stdout",
     "output_type": "stream",
     "text": [
      "[12, 35, 88]\n"
     ]
    }
   ],
   "source": [
    "# Original list\n",
    "numbers = [12, 24, 35, 70, 88, 120, 155]\n",
    "\n",
    "# Using list comprehension to keep only the 1st, 3rd, and 5th numbers\n",
    "filtered_numbers = [num for index, num in enumerate(numbers) if index in [0, 2, 4]]\n",
    "\n",
    "# Print the filtered list\n",
    "print(filtered_numbers)\n"
   ]
  },
  {
   "cell_type": "code",
   "execution_count": 17,
   "id": "dbcf4717-4e22-4678-9663-0570275a484e",
   "metadata": {},
   "outputs": [
    {
     "name": "stdout",
     "output_type": "stream",
     "text": [
      "[1330, 1050, 840, 945, 1155, 280]\n"
     ]
    }
   ],
   "source": [
    "import random\n",
    "\n",
    "# Find all numbers between 1 and 1500 that are divisible by both 5 and 7\n",
    "numbers_divisible_by_5_and_7 = [num for num in range(1, 1501) if num % 35 == 0]\n",
    "\n",
    "# Randomly select 6 numbers from the list\n",
    "random_numbers = random.sample(numbers_divisible_by_5_and_7, 6)\n",
    "\n",
    "# Print the randomly selected numbers\n",
    "print(random_numbers)\n"
   ]
  },
  {
   "cell_type": "code",
   "execution_count": null,
   "id": "18df650a-38d6-4e67-8e7d-2684a80eff58",
   "metadata": {},
   "outputs": [],
   "source": [
    "# Input: n (n > 0)\n",
    "\n",
    "n = int(input(\"Enter a value for n (n > 0): \"))\n",
    "\n",
    "# Check if the input is valid\n",
    "\n",
    "if n <= 0:\n",
    "    print(\"Please enter a value greater than 0.\")\n",
    "else:\n",
    "    Total_sum = 0\n",
    "    for i in range(1, n + 1):\n",
    "        Total_sum += i / (i + 1)\n",
    "        print(f\"The result of the series is: {Total_sum:.2f}\") # \":.f stands for the count of two digit after the decimal\""
   ]
  },
  {
   "cell_type": "code",
   "execution_count": 21,
   "id": "280d2ae4-0b8b-4829-bda2-6598243c6dab",
   "metadata": {},
   "outputs": [
    {
     "name": "stdin",
     "output_type": "stream",
     "text": [
      "Enter the Unique ID:  8976\n"
     ]
    },
    {
     "name": "stdout",
     "output_type": "stream",
     "text": [
      "Invalid Unique ID. It should be exactly 10 digits and contain only numbers.\n"
     ]
    }
   ],
   "source": [
    "import hashlib # method hashes the Unique ID string into a secure hash\n",
    "import re # this is the (regular exprassion) which look for the defined match like (any patren or something)\n",
    "\n",
    "# Step 1: Read the Unique ID from the user\n",
    "unique_id = input(\"Enter the Unique ID: \")\n",
    "\n",
    "# Step 2: Validate the Unique ID\n",
    "def is_valid_unique_id(uid):\n",
    "    # Check if the ID is exactly 10 digits and only contains numbers\n",
    "    if len(uid) == 10 and uid.isdigit():\n",
    "        return True\n",
    "    else:\n",
    "        return False\n",
    "\n",
    "# Check if the Unique ID is valid\n",
    "if is_valid_unique_id(unique_id):\n",
    "    # Step 3: Encrypt the Unique ID (hashing it using SHA-256)\n",
    "    encrypted_id = hashlib.sha256(unique_id.encode()).hexdigest() #The hashlib.sha256() method hashes the Unique ID string into a secure hash, and hexdigest() converts it to a hexadecimal string.\n",
    "    print(f\"Encrypted Unique ID: {encrypted_id}\")\n",
    "else:\n",
    "    print(\"Invalid Unique ID. It should be exactly 10 digits and contain only numbers.\")\n"
   ]
  },
  {
   "cell_type": "code",
   "execution_count": 29,
   "id": "8622d73d-4da4-48b1-894d-65053e54c9a2",
   "metadata": {},
   "outputs": [
    {
     "name": "stdout",
     "output_type": "stream",
     "text": [
      "Pattern found: 344\n"
     ]
    }
   ],
   "source": [
    "import re # Define a pattern (regular expression)\n",
    "\n",
    "pat = r'\\d{3}'  # Example pattern to match 3 digits\n",
    "\n",
    "# Define the string to search in\n",
    "string = \"abcxy344z\"\n",
    "\n",
    "# Use re.search() to search for the pattern in the string\n",
    "match = re.search(pat, string)\n",
    "\n",
    "if match:\n",
    "    print(f\"Pattern found: {match.group()}\") #\".group\" - function always group by all the \"numbers\" togther\n",
    "else:\n",
    "    print(\"Pattern not found.\")\n"
   ]
  },
  {
   "cell_type": "markdown",
   "id": "1951d564-12e0-4578-bf78-d8d6155ff314",
   "metadata": {},
   "source": [
    "### Using class methord in pyhton"
   ]
  },
  {
   "cell_type": "code",
   "execution_count": 33,
   "id": "591a728f-1ac9-49cb-b893-703acea55383",
   "metadata": {},
   "outputs": [
    {
     "name": "stdout",
     "output_type": "stream",
     "text": [
      "My name is Buddy and I am 3 years old. I am a Golden Retriever dog.\n",
      "Woof!\n",
      "My name is Bunny and I am 6 years old. I am a Pomoranian dog.\n",
      "Woof!\n"
     ]
    }
   ],
   "source": [
    "# Parent class Animal\n",
    "class Animal:\n",
    "    def __init__(self, name, age):\n",
    "        self.name = name  # Animal's name\n",
    "        self.age = age    # Animal's age\n",
    "\n",
    "    def speak(self):\n",
    "        return \"The animal makes a sound.\"\n",
    "\n",
    "    def info(self):\n",
    "        return f\"My name is {self.name} and I am {self.age} years old.\"\n",
    "\n",
    "\n",
    "# Child class Dog that inherits from Animal\n",
    "class Dog(Animal):\n",
    "    def __init__(self, name, age, breed):\n",
    "        # Call the parent class constructor\n",
    "        super().__init__(name, age)\n",
    "        self.breed = breed  # Additional attribute specific to Dog\n",
    "\n",
    "    def speak(self):\n",
    "        return \"Woof!\"  # Overriding the speak method for Dog\n",
    "\n",
    "    def dog_info(self):\n",
    "        return f\"{self.info()} I am a {self.breed} dog.\"\n",
    "\n",
    "\n",
    "# Create a Dog object\n",
    "dog = Dog(\"Buddy\", 3, \"Golden Retriever\")\n",
    "\n",
    "# Display the Dog's information and its behavior\n",
    "print(dog.dog_info())  # Display information from Dog class\n",
    "print(dog.speak())     # Display the overridden speak method\n",
    "\n",
    "# Create a new Dog object\n",
    "dog = Dog(\"Bunny\", 6, \"Pomoranian\")\n",
    "\n",
    "print(dog.dog_info())  # Display information from Dog class\n",
    "print(dog.speak())     # Display the overridden speak method"
   ]
  },
  {
   "cell_type": "markdown",
   "id": "1e2e80e0-aa44-44bd-a867-c276cd2674f9",
   "metadata": {},
   "source": [
    " # Functions and Object Oriented Programming Concepts"
   ]
  },
  {
   "cell_type": "code",
   "execution_count": 47,
   "id": "065f6fd3-cd77-455b-859b-4c614277a9bd",
   "metadata": {},
   "outputs": [
    {
     "name": "stdout",
     "output_type": "stream",
     "text": [
      "Buddy is 3 years old and is a Golden Retriever.\n",
      "Dog makes the sound that is Woof!.\n"
     ]
    }
   ],
   "source": [
    "class Dog:\n",
    "    def __init__(self, name, age, breed):\n",
    "        # Initialize the attributes for the Dog object\n",
    "        self.name = name  # Assign the name to the object's 'name' attribute\n",
    "        self.age = age    # Assign the age to the object's 'age' attribute\n",
    "        self.breed = breed  # Assign the breed to the object's 'breed' attribute\n",
    "\n",
    "# The \"__init__\" method in Python is a special method, known as a constructor. It is automatically called when an object is created from a class. \n",
    "#The primary purpose of __init__ is to initialize the newly created object by setting its initial state—i.e., initializing the object's attributes with values.\n",
    "\n",
    "#Key Points about __init__:-\n",
    "#Initialization Method: The __init__ method is used to initialize the object's state after it is created. It is like a setup function for the object.\n",
    "#Automatic Call: It is automatically called when you create an instance of a class.\n",
    "#\"Self\" Parameter: The first parameter of the __init__ method is always \"self\", which refers to the current instance of the object. You use self to access and set the object's attributes.\n",
    "# Custom Parameters: Besides self, you can define other parameters in __init__ to pass values when creating the object. These parameters are used to initialize the object with specific values.\n",
    "    def speak(self):\n",
    "        return \"Woof!\"\n",
    "# Create a Dog object\n",
    "dog1 = Dog(\"Buddy\", 3, \"Golden Retriever\")\n",
    "\n",
    "# Accessing the object's attributes\n",
    "print(f\"{dog1.name} is {dog1.age} years old and is a {dog1.breed}.\")\n",
    "print(f\"Dog makes the sound that is {dog1.speak()}.\")"
   ]
  },
  {
   "cell_type": "code",
   "execution_count": 89,
   "id": "d4dccfb9-9b7f-41a2-985a-787af4ff314b",
   "metadata": {},
   "outputs": [
    {
     "name": "stdout",
     "output_type": "stream",
     "text": [
      "Car Name: Toyota\n",
      "Car Color: Red\n",
      "Number of Wheels: 4\n",
      "\n",
      "Bike Name: Harley\n",
      "Bike Color: Black\n",
      "Number of Wheels: 2\n",
      "\n"
     ]
    }
   ],
   "source": [
    "# Polymorphism:\n",
    "\n",
    "#Both Car and Bike have a method named display_info(). \n",
    "#Even though they share the same method name, the behavior of display_info() differs based on the type of object (Car or Bike) calling it. \n",
    "#This is an example of polymorphism—using the same method name for different classes, but each method provides a class-specific implementation.\n",
    "\n",
    "\n",
    "# Class for Car\n",
    "\n",
    "class Car:\n",
    "    def __init__(self, name, color):\n",
    "        self.name = name  # Car name\n",
    "        self.color = color  # Car color\n",
    "        self.wheels = 4  # Cars have 4 wheels\n",
    "\n",
    "    def display_info(self):\n",
    "        # Display information about the car\n",
    "        print(f\"Car Name: {self.name}\")\n",
    "        print(f\"Car Color: {self.color}\")\n",
    "        print(f\"Number of Wheels: {self.wheels}\\n\")\n",
    "\n",
    "\n",
    "# Class for Bike\n",
    "class Bike:\n",
    "    def __init__(self, name, color):\n",
    "        self.name = name  # Bike name\n",
    "        self.color = color  # Bike color\n",
    "        self.wheels = 2  # Bikes have 2 wheels\n",
    "\n",
    "    def display_info(self):\n",
    "        # Display information about the bike\n",
    "        print(f\"Bike Name: {self.name}\")\n",
    "        print(f\"Bike Color: {self.color}\")\n",
    "        print(f\"Number of Wheels: {self.wheels}\\n\")\n",
    "\n",
    "\n",
    "# Create instances of Car and Bike\n",
    "car = Car(\"Toyota\", \"Red\")\n",
    "bike = Bike(\"Harley\", \"Black\")\n",
    "\n",
    "# Display information using the display_info method of each class\n",
    "car.display_info()  # Polymorphism in action: calling display_info of Car\n",
    "bike.display_info()  # Polymorphism in action: calling display_info of Bike\n"
   ]
  },
  {
   "cell_type": "code",
   "execution_count": 83,
   "id": "80f6f1ea-82ef-4473-a64d-bb4b72532a0d",
   "metadata": {},
   "outputs": [
    {
     "name": "stdout",
     "output_type": "stream",
     "text": [
      "Original List:\n",
      "[('Earth', 1), ('Jupiter', 79), ('Saturn', 82), ('Uranus', 27), ('Neptune', 14)]\n",
      "\n",
      "Sorted List by Number of Moons (Ascending Order):\n",
      "[('Earth', 1), ('Neptune', 14), ('Uranus', 27), ('Jupiter', 79), ('Saturn', 82)]\n"
     ]
    }
   ],
   "source": [
    "# List of tuples containing planet names and their respective number of moons\n",
    "planets_moons = [\n",
    "    (\"Earth\", 1),\n",
    "    (\"Jupiter\", 79),\n",
    "    (\"Saturn\", 82),\n",
    "    (\"Uranus\", 27),\n",
    "    (\"Neptune\", 14)\n",
    "]\n",
    "\n",
    "# Display the original list\n",
    "print(\"Original List:\")\n",
    "print(planets_moons)\n",
    "\n",
    "# Sort the list based on the number of moons (ascending order)\n",
    "\n",
    "sorted_planets_moons = sorted(planets_moons, key=lambda x: x[1]) # We use Python’s built-in sorted() function with a lambda function as the key argument.\n",
    "                                                                # The lambda function lambda x: x[1] tells sorted() to sort by the second element of each tuple (the number of moons, which is the second element).\n",
    "\n",
    "# Display the sorted list\n",
    "print(\"\\nSorted List by Number of Moons (Ascending Order):\") #The \\n character represents a line break or the new line in a string. \n",
    "                                                            # When it is used inside a string, it moves the cursor to the beginning of the next line.\n",
    "\n",
    "print(sorted_planets_moons)"
   ]
  },
  {
   "cell_type": "code",
   "execution_count": 99,
   "id": "ae3461af-8bcd-4922-b4b9-23ac3bade2a3",
   "metadata": {},
   "outputs": [
    {
     "data": {
      "text/plain": [
       "1"
      ]
     },
     "execution_count": 99,
     "metadata": {},
     "output_type": "execute_result"
    }
   ],
   "source": [
    "# Global variable to store the quantity of fuel in the tank\n",
    "tank = 0\n",
    "\n",
    "# Function to fill up the tank with a given quantity of fuel\n",
    "def fillup(quantity):\n",
    "    global tank  # Use the global variable 'tank'\n",
    "    tank += quantity  # Add the fuel to the tank\n",
    "    return tank  # Return the updated quantity of fuel in the tank\n",
    "\n",
    "# Function to use a given quantity of fuel from the tank\n",
    "def use(quantity):\n",
    "    global tank  # Use the global variable 'tank'\n",
    "    if quantity <= tank:\n",
    "        tank -= quantity  # Subtract the fuel from the tank\n",
    "    else:\n",
    "        tank = 0  # If there isn't enough fuel, set tank to 0\n",
    "    return tank  # Return the updated quantity of fuel in the tank\n",
    "\n",
    "# Example of how these functions could be used:\n",
    "fillup(50)    # Fill the tank with 50 units of fuel\n",
    "use(49)       # Use 20 units of fuel from the tank\n"
   ]
  },
  {
   "cell_type": "code",
   "execution_count": 19,
   "id": "98a2a53b-c3d2-4ac6-b51e-9255e7b0af96",
   "metadata": {},
   "outputs": [
    {
     "name": "stdout",
     "output_type": "stream",
     "text": [
      "This is Class 4, which inherits from Class 2 and Class 3.\n",
      "This is Class 2, which inherits from Class 1.\n",
      "This is Class 3, which also inherits from Class 1.\n",
      "This is Class 1.\n"
     ]
    }
   ],
   "source": [
    "# Class 1\n",
    "class Class1:\n",
    "    def print_class1(self):\n",
    "        print(\"This is Class 1.\")\n",
    "\n",
    "# Class 2 inherits from Class 1\n",
    "class Class2(Class1):\n",
    "    def print_class2(self):\n",
    "        print(\"This is Class 2, which inherits from Class 1.\")\n",
    "\n",
    "# Class 3 inherits from Class 1\n",
    "class Class3(Class1):\n",
    "    def print_class3(self):\n",
    "        print(\"This is Class 3, which also inherits from Class 1.\")\n",
    "\n",
    "# Class 4 inherits from both Class 2 and Class 3\n",
    "class Class4(Class2, Class3):\n",
    "    def print_class4(self):\n",
    "        print(\"This is Class 4, which inherits from Class 2 and Class 3.\")\n",
    "obj = Class4() # The methods inside a class are called on an object, not the class itself. \n",
    "               #So, by creating an instance of the class (obj = Class4()), you're able to invoke methods like obj.print_class4(), obj.print_class2(), etc.\n",
    "\n",
    "obj.print_class4()\n",
    "obj.print_class2()  # Class 2's method\n",
    "obj.print_class3()  # Class 3's method\n",
    "obj.print_class1()  # Class 1's method (Class 2 and Class 3 inherit it)"
   ]
  },
  {
   "cell_type": "code",
   "execution_count": 21,
   "id": "23bf2f2e-d113-4550-bd47-8d7a829c0963",
   "metadata": {},
   "outputs": [
    {
     "name": "stdout",
     "output_type": "stream",
     "text": [
      "Name: Alice\n",
      "Age: 30\n"
     ]
    }
   ],
   "source": [
    "class Person:\n",
    "    def __init__(self, name=\"\", age=0):\n",
    "        self._name = name  # _name is a protected variable (conventionally)\n",
    "        self._age = age    # _age is a protected variable (conventionally)\n",
    "\n",
    "    # Getter method for name\n",
    "    def get_name(self):\n",
    "        return self._name\n",
    "\n",
    "    # Setter method for name\n",
    "    def set_name(self, name):\n",
    "        self._name = name\n",
    "\n",
    "    # Getter method for age\n",
    "    def get_age(self):\n",
    "        return self._age\n",
    "\n",
    "    # Setter method for age\n",
    "    def set_age(self, age):\n",
    "        self._age = age\n",
    "\n",
    "# Create an object of Person class\n",
    "person = Person()\n",
    "\n",
    "# Setting name and age using setter methods\n",
    "person.set_name(\"Alice\")\n",
    "person.set_age(30)\n",
    "\n",
    "# Getting name and age using getter methods\n",
    "print(\"Name:\", person.get_name())  # Output: Name: Alice\n",
    "print(\"Age:\", person.get_age())    # Output: Age: 30\n"
   ]
  },
  {
   "cell_type": "code",
   "execution_count": null,
   "id": "edef5093-a307-4c50-80cc-114c66fc0d36",
   "metadata": {},
   "outputs": [],
   "source": [
    "class Person:\n",
    "    def __init__(self, name=\"\", age=0):\n",
    "        self._name = name  # _name is a protected variable (conventionally)\n",
    "        self._age = age    # _age is a protected variable (conventionally)\n",
    "\n",
    "    # Getter method for name\n",
    "    def get_name(self):\n",
    "        return self._name\n",
    "\n",
    "    # Setter method for name\n",
    "    def set_name(self, name):\n",
    "        self._name = name\n",
    "\n",
    "    # Getter method for age\n",
    "    def get_age(self):\n",
    "        return self._age\n",
    "\n",
    "    # Setter method for age\n",
    "    def set_age(self, age):\n",
    "        self._age = age\n",
    "\n",
    "# Create an object of Person class\n",
    "person = Person()\n",
    "\n",
    "# Setting name and age using setter methods\n",
    "person.set_name(\"Alice\")\n",
    "person.set_age(30)\n",
    "\n",
    "# Getting name and age using getter methods\n",
    "print(\"Name:\", person.get_name())  # Output: Name: Alice\n",
    "print(\"Age:\", person.get_age())    # Output: Age: 30\n",
    "\n",
    "\n",
    "# Usage:\n",
    "\n",
    "# First, we create an object person of the Person class.\n",
    "# Then, we use the setter methods (set_name() and set_age()) to set the values for name and age.\n",
    "# Finally, we use the getter methods (get_name() and get_age()) to retrieve and print the values of name and age."
   ]
  },
  {
   "cell_type": "code",
   "execution_count": 26,
   "id": "23933213-e55c-46e7-a30c-eb41667722fa",
   "metadata": {},
   "outputs": [
    {
     "name": "stdout",
     "output_type": "stream",
     "text": [
      "The current distance from the origin is: 2.24\n"
     ]
    }
   ],
   "source": [
    "import math # math module use to opereat some mathmetical operations\n",
    "\n",
    "# Starting position (origin)\n",
    "x, y = 0, 0\n",
    "\n",
    "# Movements sequence # importent, whenever we declear a variable, we have to define the variable as well.\n",
    "movements = [\n",
    "    (\"UP\", 5),\n",
    "    (\"DOWN\", 3),\n",
    "    (\"LEFT\", 3),\n",
    "    (\"RIGHT\", 2)\n",
    "]\n",
    "\n",
    "# Processing each movement\n",
    "for direction, steps in movements:\n",
    "    if direction == \"UP\":\n",
    "        y += steps\n",
    "    elif direction == \"DOWN\":\n",
    "        y -= steps\n",
    "    elif direction == \"LEFT\":\n",
    "        x -= steps\n",
    "    elif direction == \"RIGHT\":\n",
    "        x += steps\n",
    "\n",
    "# Calculating the distance from the origin (0, 0)\n",
    "distance = math.sqrt(x**2 + y**2) # sqrt =  squre-root function, ** meaning is whole squre\n",
    "\n",
    "# Output the current distance\n",
    "print(f\"The current distance from the origin is: {distance:.2f}\") #.2f meaning, . = saparation from the number, 2 = two digits after decimal and, f = that is floation value and this number is a \"floating-point number\" \n"
   ]
  },
  {
   "cell_type": "code",
   "execution_count": 38,
   "id": "6b2baa5d-eecf-4e02-9305-7a2e81bfe348",
   "metadata": {},
   "outputs": [
    {
     "name": "stdout",
     "output_type": "stream",
     "text": [
      "29\n"
     ]
    }
   ],
   "source": [
    "ghose = [(2, 5)]  # this is a test program for the practice\n",
    "for x,y in ghose:\n",
    "    dis = (x**2 + y**2)\n",
    "    print (dis)"
   ]
  },
  {
   "cell_type": "markdown",
   "id": "892a6092-9b98-4ce3-8b4b-c49a781d381d",
   "metadata": {},
   "source": [
    "#### If you want to search for specific data from a sorted list, one efficient way is to use a binary search algorithm"
   ]
  },
  {
   "cell_type": "code",
   "execution_count": null,
   "id": "654d1221-f29a-4bb4-a555-fe0d7cb7c857",
   "metadata": {},
   "outputs": [],
   "source": [
    "# Sorted list of data (example)\n",
    "data = [101, 202, 303, 404, 505, 606, 707, 808, 909, 1000]\n",
    "\n",
    "# Function to search for specific data\n",
    "def search_data(target): # we have decleared a veriable here, so we have to define the veriable here as well\n",
    "    if target in data:\n",
    "        # If target is found\n",
    "        index = data.index(target)\n",
    "        print(f\"Data {target} found at index {index}.\")\n",
    "    elif target < data[0]: # smallest index number in the given data set\n",
    "        # If target is smaller than the smallest element in the list\n",
    "        print(f\"Data {target} is smaller than the smallest data in the list.\")\n",
    "    elif target > data[-1]:  # In Python, the index -1 refers to the last element of a list (or any sequence). This is a convenient feature that allows you to access elements from the end of a list without needing to know its exact length.\n",
    "        # If target is larger than the largest element in the list\n",
    "        print(f\"Data {target} is larger than the largest data in the list.\")\n",
    "    else:\n",
    "        # If target is not found and within the range of the list\n",
    "        print(f\"Data {target} is not present in the list.\")\n",
    "\n",
    "# Example usage\n",
    "target = int(input(\"Enter the data to search: \")) # \"int\" stands for \"integer input\"\n",
    "search_data(target)\n"
   ]
  },
  {
   "cell_type": "markdown",
   "id": "6683ff6b-2392-4938-aa13-ebbc544b47e3",
   "metadata": {},
   "source": [
    "### Write a program to find whether is it dark outside or not based on the local system time."
   ]
  },
  {
   "cell_type": "code",
   "execution_count": 4,
   "id": "aed49c56-5677-4044-8a76-c63e307b54b8",
   "metadata": {},
   "outputs": [
    {
     "name": "stdout",
     "output_type": "stream",
     "text": [
      "It is daytime!\n"
     ]
    }
   ],
   "source": [
    "import time # it is importing the time for the local system\n",
    "\n",
    "# Get the current local time\n",
    "current_time = time.localtime() # this function is used to make the function as a local time function\n",
    "\n",
    "# Extract the current hour\n",
    "current_hour = current_time.tm_hour # this extrect the current time system into hours\n",
    "\n",
    "# Determine if it's day or night\n",
    "if 6 <= current_hour < 18: # (6AM to 6PM), 6AM is equle to \"6:00\" and 6PM is equle to \"18:00\"\n",
    "    print(\"It is daytime!\")\n",
    "else:\n",
    "    print(\"It is nighttime!\")\n"
   ]
  },
  {
   "cell_type": "code",
   "execution_count": 8,
   "id": "5d622d16-bab7-4422-a870-9643fcef05d3",
   "metadata": {},
   "outputs": [
    {
     "name": "stdin",
     "output_type": "stream",
     "text": [
      "Enter latitude of first location:  5\n",
      "Enter longitude of first location:  7\n",
      "Enter latitude of second location:  6\n",
      "Enter longitude of second location:  2\n"
     ]
    },
    {
     "name": "stdout",
     "output_type": "stream",
     "text": [
      "The distance between the two locations is: 564.47 kilometers.\n"
     ]
    }
   ],
   "source": [
    "import math\n",
    "\n",
    "# Function to convert degrees to radians\n",
    "def degrees_to_radians(degrees):\n",
    "    return degrees * (math.pi / 180) # converting degrees to radians\n",
    "\n",
    "# Function to calculate the Haversine distance\n",
    "def haversine(lat1, lon1, lat2, lon2):\n",
    "    # Radius of Earth in kilometers\n",
    "    R = 6371.0\n",
    "\n",
    "    # Convert latitude and longitude from degrees to radians\n",
    "    lat1_rad = degrees_to_radians(lat1)\n",
    "    lon1_rad = degrees_to_radians(lon1)\n",
    "    lat2_rad = degrees_to_radians(lat2)\n",
    "    lon2_rad = degrees_to_radians(lon2)\n",
    "\n",
    "    # Differences in coordinates\n",
    "    dlat = lat2_rad - lat1_rad\n",
    "    dlon = lon2_rad - lon1_rad\n",
    "\n",
    "    # Haversine formula\n",
    "    a = math.sin(dlat / 2)**2 + math.cos(lat1_rad) * math.cos(lat2_rad) * math.sin(dlon / 2)**2\n",
    "    c = 2 * math.atan2(math.sqrt(a), math.sqrt(1 - a))\n",
    "\n",
    "    # Distance in kilometers\n",
    "    distance = R * c\n",
    "    return distance\n",
    "\n",
    "# Example usage: Latitude and Longitude of two locations\n",
    "lat1 = float(input(\"Enter latitude of first location: \"))\n",
    "lon1 = float(input(\"Enter longitude of first location: \"))\n",
    "lat2 = float(input(\"Enter latitude of second location: \"))\n",
    "lon2 = float(input(\"Enter longitude of second location: \"))\n",
    "\n",
    "# Calculate distance\n",
    "distance = haversine(lat1, lon1, lat2, lon2)\n",
    "\n",
    "# Output the distance\n",
    "print(f\"The distance between the two locations is: {distance:.2f} kilometers.\")\n"
   ]
  },
  {
   "cell_type": "markdown",
   "id": "21eda75b-484d-405a-97d1-4ef8b1430eb6",
   "metadata": {},
   "source": [
    "###  Design a banking system software with options like cash withdrawal, cash \n",
    "credit, and change password. The software must display appropriate result \r\n",
    "based on user input .\r\n",
    "Hint: Use if else statements and functions."
   ]
  },
  {
   "cell_type": "code",
   "execution_count": 5,
   "id": "9d8362c6-1b4c-4887-8910-3ee65457919e",
   "metadata": {},
   "outputs": [
    {
     "name": "stdout",
     "output_type": "stream",
     "text": [
      "\n",
      "---- Welcome to Your Bank ----\n",
      "1. Cash Withdrawal\n",
      "2. Cash Deposit\n",
      "3. Change Password\n",
      "4. Exit\n"
     ]
    },
    {
     "name": "stdin",
     "output_type": "stream",
     "text": [
      "Select an option (1-4):  1\n",
      "Enter the amount to withdraw: $ 1\n"
     ]
    },
    {
     "name": "stdout",
     "output_type": "stream",
     "text": [
      "Withdrawal successful. New balance: $999.00\n",
      "\n",
      "---- Welcome to Your Bank ----\n",
      "1. Cash Withdrawal\n",
      "2. Cash Deposit\n",
      "3. Change Password\n",
      "4. Exit\n"
     ]
    },
    {
     "name": "stdin",
     "output_type": "stream",
     "text": [
      "Select an option (1-4):  4\n"
     ]
    },
    {
     "name": "stdout",
     "output_type": "stream",
     "text": [
      "Thank you for using our banking system. Goodbye!\n"
     ]
    }
   ],
   "source": [
    "# Sample Bank Account with Initial Balance and Password\n",
    "class BankAccount: # declearing a class here\n",
    "    def __init__(self, balance, password): # balance and password\n",
    "        self.balance = balance\n",
    "        self.password = password\n",
    "\n",
    "    # Function to withdraw cash\n",
    "    def withdraw_cash(self, amount): #using if else statement for withdrawling cash\n",
    "        if amount > self.balance:\n",
    "            print(\"Insufficient funds.\")\n",
    "        else:\n",
    "            self.balance -= amount\n",
    "            print(f\"Withdrawal successful. New balance: ${self.balance:.2f}\")\n",
    "    \n",
    "    # Function to deposit (credit) cash\n",
    "    def deposit_cash(self, amount): # cash deposit using \"if/else function\"\n",
    "        self.balance += amount\n",
    "        print(f\"Deposit successful. New balance: ${self.balance:.2f}\")\n",
    "    \n",
    "    # Function to change password\n",
    "    def change_password(self, old_password, new_password): #changeing pasword, using if else statement\n",
    "        if old_password == self.password:\n",
    "            self.password = new_password\n",
    "            print(\"Password changed successfully.\")\n",
    "        else:\n",
    "            print(\"Incorrect password. Password change failed.\")\n",
    "\n",
    "# Function to display the menu options\n",
    "def display_menu(): # creating a function for displaing the menu options\n",
    "    print(\"\\n---- Welcome to Your Bank ----\")\n",
    "    print(\"1. Cash Withdrawal\")\n",
    "    print(\"2. Cash Deposit\")\n",
    "    print(\"3. Change Password\")\n",
    "    print(\"4. Exit\")\n",
    "\n",
    "# Main function to drive the banking system\n",
    "def main(): #Main Logic: The main function initializes the account with a balance of $1000 and a password \"1234\". \n",
    "                            #It then enters a loop where the user can perform actions or exit.\n",
    "    \n",
    "    # Create an account with an initial balance and a password\n",
    "    account = BankAccount(balance=1000.0, password=\"1234\")\n",
    "\n",
    "    while True:\n",
    "        display_menu()\n",
    "        \n",
    "        # Prompt user to select an option\n",
    "        choice = input(\"Select an option (1-4): \")\n",
    "        \n",
    "        if choice == '1':\n",
    "            # Cash Withdrawal\n",
    "            amount = float(input(\"Enter the amount to withdraw: $\"))\n",
    "            account.withdraw_cash(amount)\n",
    "        \n",
    "        elif choice == '2':\n",
    "            # Cash Deposit\n",
    "            amount = float(input(\"Enter the amount to deposit: $\"))\n",
    "            account.deposit_cash(amount)\n",
    "        \n",
    "        elif choice == '3':\n",
    "            # Change Password\n",
    "            old_password = input(\"Enter your current password: \")\n",
    "            new_password = input(\"Enter a new password: \")\n",
    "            account.change_password(old_password, new_password)\n",
    "        \n",
    "        elif choice == '4':\n",
    "            # Exit\n",
    "            print(\"Thank you for using our banking system. Goodbye!\")\n",
    "            break # using the break function to break the loop\n",
    "        \n",
    "        else:\n",
    "            print(\"Invalid choice. Please select a valid option.\")\n",
    "        \n",
    "if __name__ == \"__main__\": # The program will check if the script is being executed directly.# If it is, it will call the main() function, which starts the banking system.\n",
    "     main()\n"
   ]
  },
  {
   "cell_type": "code",
   "execution_count": 9,
   "id": "fe608d0f-72f3-45c7-a282-ae2eb4be514b",
   "metadata": {},
   "outputs": [
    {
     "name": "stdout",
     "output_type": "stream",
     "text": [
      "2002, 2009, 2016, 2023, 2037, 2044, 2051, 2058, 2072, 2079, 2086, 2093, 2107, 2114, 2121, 2128, 2142, 2149, 2156, 2163, 2177, 2184, 2191, 2198, 2212, 2219, 2226, 2233, 2247, 2254, 2261, 2268, 2282, 2289, 2296, 2303, 2317, 2324, 2331, 2338, 2352, 2359, 2366, 2373, 2387, 2394, 2401, 2408, 2422, 2429, 2436, 2443, 2457, 2464, 2471, 2478, 2492, 2499, 2506, 2513, 2527, 2534, 2541, 2548, 2562, 2569, 2576, 2583, 2597, 2604, 2611, 2618, 2632, 2639, 2646, 2653, 2667, 2674, 2681, 2688, 2702, 2709, 2716, 2723, 2737, 2744, 2751, 2758, 2772, 2779, 2786, 2793, 2807, 2814, 2821, 2828, 2842, 2849, 2856, 2863, 2877, 2884, 2891, 2898, 2912, 2919, 2926, 2933, 2947, 2954, 2961, 2968, 2982, 2989, 2996, 3003, 3017, 3024, 3031, 3038, 3052, 3059, 3066, 3073, 3087, 3094, 3101, 3108, 3122, 3129, 3136, 3143, 3157, 3164, 3171, 3178, 3192, 3199\n"
     ]
    }
   ],
   "source": [
    "# List to store the numbers that are divisible by 7 but not multiples of 5\n",
    "\n",
    "result = [] # Creating the empty list to stored the processed output from \"result.append(str(num))\"\n",
    "\n",
    "# Loop through the numbers between 2000 and 3200 (both inclusive)\n",
    "for num in range(2000, 3201):\n",
    "    if num % 7 == 0 and num % 5 != 0:\n",
    "        result.append(str(num))  # Convert to string for comma-separated output,result. append(str(num)) adds the string version of num to the result list.\n",
    "\n",
    "# Print the result as a comma-separated string\n",
    "print(\", \".join(result)) # join fuction is joining the string and creatinng a single line\n"
   ]
  },
  {
   "cell_type": "code",
   "execution_count": 13,
   "id": "d08516e3-b89f-42ae-96ed-8a1f8c5c07a0",
   "metadata": {},
   "outputs": [
    {
     "name": "stdin",
     "output_type": "stream",
     "text": [
      "Enter a number to compute its factorial:  2\n"
     ]
    },
    {
     "name": "stdout",
     "output_type": "stream",
     "text": [
      "The factorial of 2 is 2\n"
     ]
    }
   ],
   "source": [
    "# Function to compute factorial using recursion\n",
    "def factorial(n):\n",
    "    # Base case: factorial of 0 is 1\n",
    "    if n == 0:\n",
    "        return 1\n",
    "    # Recursive case: n * factorial(n-1)\n",
    "    else:\n",
    "        return n * factorial(n - 1)\n",
    "\n",
    "# Input from the user\n",
    "num = int(input(\"Enter a number to compute its factorial: \"))\n",
    "\n",
    "# Check if the number is non-negative\n",
    "if num < 0:\n",
    "    print(\"Factorial is not defined for negative numbers.\")\n",
    "else:\n",
    "    # Call the recursive function and print the result\n",
    "    result = factorial(num)\n",
    "    print(f\"The factorial of {num} is {result}\")\n"
   ]
  },
  {
   "cell_type": "code",
   "execution_count": 19,
   "id": "c0aea912-f1d4-4fb8-bd2f-cc5522cbe1f8",
   "metadata": {},
   "outputs": [
    {
     "name": "stdin",
     "output_type": "stream",
     "text": [
      "Enter comma-separated values for D:  25,45,65,25\n"
     ]
    },
    {
     "name": "stdout",
     "output_type": "stream",
     "text": [
      "9, 12, 14, 9\n"
     ]
    }
   ],
   "source": [
    "import math\n",
    "\n",
    "# Fixed values\n",
    "C = 50\n",
    "H = 30\n",
    "\n",
    "# Function to calculate Q for a given D\n",
    "def calculate_Q(D):\n",
    "    return int(math.sqrt((2 * C * D) / H))\n",
    "\n",
    "# Input: comma-separated values for D\n",
    "input_values = input(\"Enter comma-separated values for D: \")\n",
    "\n",
    "# Split the input into a list of numbers (converted to integers)\n",
    "D_values = [int(value) for value in input_values.split(',')]\n",
    "\n",
    "# Calculate Q for each D and store results\n",
    "results = [calculate_Q(D) for D in D_values]\n",
    "\n",
    "# Print the results as a comma-separated sequence\n",
    "print(\", \".join(map(str, results)))\n"
   ]
  },
  {
   "cell_type": "code",
   "execution_count": 7,
   "id": "4ae688d4-36d8-4557-b534-bf1e5ed003e7",
   "metadata": {},
   "outputs": [
    {
     "name": "stdin",
     "output_type": "stream",
     "text": [
      "Enter two digits X and Y (separated by a space):  3 5\n"
     ]
    },
    {
     "name": "stdout",
     "output_type": "stream",
     "text": [
      "[[0, 0, 0, 0, 0], [0, 1, 2, 3, 4], [0, 2, 4, 6, 8]]\n"
     ]
    }
   ],
   "source": [
    "def generate_2d_array(X, Y):\n",
    "    # Create a 2D array with X rows and Y columns\n",
    "    result = [[i * j for j in range(Y)] for i in range(X)] # this is how we create a array in core pyhton, \n",
    "                                                #like one list and inside that another list where we define the number of rows and columns.\n",
    "    return result\n",
    "\n",
    "# Input X and Y\n",
    "X, Y = map(int, input(\"Enter two digits X and Y (separated by a space): \").split()) # \"map\" function is used because it will covert the x and y bost value to the intiger just in one line, \n",
    "#otherwise we have to define it one by one like this :-  \n",
    "\n",
    "# Without map\n",
    "\n",
    "#input_str = input(\"Enter two digits X and Y (separated by a space): \")\n",
    "#split_input = input_str.split()\n",
    "#X = int(split_input[0])\n",
    "#Y = int(split_input[1])\n",
    "# Generate and print the 2D array\n",
    "\n",
    "array = generate_2d_array(X, Y)\n",
    "print(array)\n"
   ]
  },
  {
   "cell_type": "code",
   "execution_count": 27,
   "id": "675c848e-7192-4773-bf69-e69510e71567",
   "metadata": {},
   "outputs": [
    {
     "name": "stdin",
     "output_type": "stream",
     "text": [
      "Enter a comma-separated sequence of words:  mukut,milk,esting,girls,pop,apple\n"
     ]
    },
    {
     "name": "stdout",
     "output_type": "stream",
     "text": [
      "Sorted words: apple, esting, girls, milk, mukut, pop\n"
     ]
    }
   ],
   "source": [
    "# Accepting the input\n",
    "input_string = input(\"Enter a comma-separated sequence of words: \")\n",
    "\n",
    "# Splitting the input string into a list of words\n",
    "words = input_string.split(\",\")\n",
    "\n",
    "# Sorting the list of words\n",
    "words.sort()\n",
    "\n",
    "# Joining the sorted words back into a comma-separated string\n",
    "sorted_string = \", \".join(words)\n",
    "\n",
    "# Printing the result\n",
    "print(\"Sorted words:\", sorted_string)\n"
   ]
  },
  {
   "cell_type": "code",
   "execution_count": 35,
   "id": "d82dd637-9f59-4880-b5c5-ab8679193b08",
   "metadata": {},
   "outputs": [
    {
     "name": "stdout",
     "output_type": "stream",
     "text": [
      "Enter lines of text (press Enter to finish):\n"
     ]
    },
    {
     "name": "stdin",
     "output_type": "stream",
     "text": [
      " mukut may dutta\n",
      " \n"
     ]
    },
    {
     "name": "stdout",
     "output_type": "stream",
     "text": [
      "MUKUT MAY DUTTA\n"
     ]
    }
   ],
   "source": [
    "# Accepting multiple lines of input until the user enters an empty line\n",
    "print(\"Enter lines of text (press Enter to finish):\")\n",
    "lines = [] # this is creating the empty list to stored the input lines after running to for loop into it\n",
    "while True: # it will start a infinity loop untill we break it down with any condition\n",
    "    line = input() # takes an input\n",
    "    if line == \"\": # if the line left empty by the user and hit the \"enter-botton\" then the loop gets break and append to \"lines\" list at the top\n",
    "        break\n",
    "    lines.append(line) # storing to \"lines\" list at the top using append function\n",
    "\n",
    "# Using map to convert all lines to uppercase and print each\n",
    "for line in map(str.upper, lines): # it converts all the strings to the upper case using \"map\"\n",
    "    print(line) # printing line\n"
   ]
  },
  {
   "cell_type": "code",
   "execution_count": 53,
   "id": "e3dce9ba-af6b-4338-b428-9234840e88ed",
   "metadata": {},
   "outputs": [
    {
     "name": "stdin",
     "output_type": "stream",
     "text": [
      "Enter a sequence of words:  mukut may dutta is a cool boy\n"
     ]
    },
    {
     "name": "stdout",
     "output_type": "stream",
     "text": [
      "a boy cool dutta is may mukut\n"
     ]
    }
   ],
   "source": [
    "# Accepting a sequence of whitespace-separated words as input\n",
    "input_string = input(\"Enter a sequence of words: \")\n",
    "\n",
    "# Splitting the input string into a list of words\n",
    "words = input_string.split()\n",
    "\n",
    "# Removing duplicates by converting the list to a set\n",
    "unique_words = set(words) #Converting the list words to a set automatically removes duplicates because sets do not allow duplicate elements. \n",
    "                            # So, the resulting set would be:\n",
    "\n",
    "# Sorting the words alphanumerically\n",
    "sorted_words = sorted(unique_words)\n",
    "\n",
    "# Joining the sorted words into a single string and printing them\n",
    "print(\" \".join(sorted_words)) # (\" \")- means the all the words in a string will be sapereted by the space\n"
   ]
  },
  {
   "cell_type": "code",
   "execution_count": 55,
   "id": "2d2eba22-9f57-4340-8c51-f8d78fe8009d",
   "metadata": {},
   "outputs": [
    {
     "name": "stdin",
     "output_type": "stream",
     "text": [
      "Enter a sequence of 4-digit binary numbers (comma-separated):  0100,0011,1010,1001\n"
     ]
    },
    {
     "name": "stdout",
     "output_type": "stream",
     "text": [
      "1010\n"
     ]
    }
   ],
   "source": [
    "# Accepting a sequence of comma-separated binary numbers\n",
    "input_string = input(\"Enter a sequence of 4-digit binary numbers (comma-separated): \")\n",
    "\n",
    "# Splitting the input string into a list of binary numbers\n",
    "binary_numbers = input_string.split(\",\")\n",
    "\n",
    "# List to store binary numbers divisible by 5\n",
    "divisible_by_5 = []\n",
    "\n",
    "# Check each binary number\n",
    "for binary in binary_numbers:\n",
    "    # Convert the binary number to decimal using int() with base 2\n",
    "    decimal = int(binary, 2)\n",
    "    \n",
    "    # Check if the decimal number is divisible by 5\n",
    "    if decimal % 5 == 0:\n",
    "        divisible_by_5.append(binary) # we need the results in binary, so we append the binary to the [list]\n",
    "\n",
    "# Printing the binary numbers that are divisible by 5, joined by commas\n",
    "print(\",\".join(divisible_by_5))\n"
   ]
  },
  {
   "cell_type": "code",
   "execution_count": 57,
   "id": "245525c9-a4b6-42c3-8683-73a48be0a357",
   "metadata": {},
   "outputs": [
    {
     "name": "stdin",
     "output_type": "stream",
     "text": [
      "Enter a sentence:  Mukut May Dutta\n"
     ]
    },
    {
     "name": "stdout",
     "output_type": "stream",
     "text": [
      "UPPER CASE 3\n",
      "LOWER CASE 10\n"
     ]
    }
   ],
   "source": [
    "# Accepting a sentence as input\n",
    "sentence = input(\"Enter a sentence: \") # here, the user will put the input\n",
    "\n",
    "# Initialize counters for uppercase and lowercase letters\n",
    "upper_case_count = 0\n",
    "lower_case_count = 0\n",
    "\n",
    "# Loop through each character in the sentence\n",
    "for char in sentence:\n",
    "    # Check if the character is uppercase\n",
    "    if char.isupper(): # \"isupper\" is the in-built function to chech the uppercase\"\n",
    "        upper_case_count += 1\n",
    "    # Check if the character is lowercase\n",
    "    elif char.islower(): # \"isupper\" is the in-built function to chech the uppercase\"\n",
    "        lower_case_count += 1\n",
    "\n",
    "# Output the counts\n",
    "print(\"UPPER CASE\", upper_case_count)\n",
    "print(\"LOWER CASE\", lower_case_count)\n"
   ]
  },
  {
   "cell_type": "code",
   "execution_count": 1,
   "id": "f591be60-7cad-4569-9cca-bcc88f7fcfbd",
   "metadata": {},
   "outputs": [
    {
     "name": "stdout",
     "output_type": "stream",
     "text": [
      "Result using math.fsum: 1.5\n"
     ]
    }
   ],
   "source": [
    "import math\n",
    "\n",
    "# Example using fsum\n",
    "numbers = [0.1, 0.2, 0.3, 0.4, 0.5]\n",
    "result_fsum = math.fsum(numbers)\n",
    "\n",
    "print(\"Result using math.fsum:\", result_fsum)\n"
   ]
  },
  {
   "cell_type": "code",
   "execution_count": 3,
   "id": "5aa35bf6-3ee7-43f2-949a-f8194fcec0a5",
   "metadata": {},
   "outputs": [
    {
     "name": "stdout",
     "output_type": "stream",
     "text": [
      "Result using sum: 1.5\n"
     ]
    }
   ],
   "source": [
    "# Example using sum\n",
    "numbers = [0.1, 0.2, 0.3, 0.4, 0.5]\n",
    "result_sum = sum(numbers)\n",
    "\n",
    "print(\"Result using sum:\", result_sum)\n"
   ]
  },
  {
   "cell_type": "code",
   "execution_count": 23,
   "id": "c0121859-f05e-4b3c-9e42-b528fa10aa57",
   "metadata": {},
   "outputs": [
    {
     "name": "stdin",
     "output_type": "stream",
     "text": [
      "Enter the floating numbers here, separated by commas:  5.123456789,5,5,5,5,5\n"
     ]
    },
    {
     "name": "stdout",
     "output_type": "stream",
     "text": [
      "Result using math.fsum: 30.123456789\n"
     ]
    }
   ],
   "source": [
    "import math\n",
    "\n",
    "# Example using fsum\n",
    "user_input = input(\"Enter the floating numbers here, separated by commas: \")\n",
    "\n",
    "# Split the input string by commas and convert each item to a float\n",
    "\n",
    "numbers = [float(x) for x in user_input.split(\",\")]\n",
    "\n",
    "# Use math.fsum to get the sum of the numbers\n",
    "\n",
    "floating_number = math.fsum(numbers) # \"fsum\" this function will give the very accureat value after calculation\n",
    "\n",
    "# Print the result\n",
    "print(\"Result using math.fsum:\", floating_number)\n"
   ]
  },
  {
   "cell_type": "code",
   "execution_count": 7,
   "id": "55f226a9-4412-4520-875d-f498b9caa148",
   "metadata": {},
   "outputs": [
    {
     "name": "stdout",
     "output_type": "stream",
     "text": [
      "Loan eligibility age range: 19 - 80\n"
     ]
    },
    {
     "name": "stdin",
     "output_type": "stream",
     "text": [
      "Enter profession to check eligibility (or type 'END' to exit):  20\n"
     ]
    },
    {
     "name": "stdout",
     "output_type": "stream",
     "text": [
      "The profession '20' is NOT eligible for the loan offer.\n"
     ]
    },
    {
     "name": "stdin",
     "output_type": "stream",
     "text": [
      "Enter profession to check eligibility (or type 'END' to exit):  -\n"
     ]
    },
    {
     "name": "stdout",
     "output_type": "stream",
     "text": [
      "The profession '-' is NOT eligible for the loan offer.\n"
     ]
    },
    {
     "name": "stdin",
     "output_type": "stream",
     "text": [
      "Enter profession to check eligibility (or type 'END' to exit):  end\n"
     ]
    },
    {
     "name": "stdout",
     "output_type": "stream",
     "text": [
      "Exiting the program.\n"
     ]
    }
   ],
   "source": [
    "def get_unique_professions(data):\n",
    "    # Build a set of unique professions from the data\n",
    "    professions = set(row['profession'].lower() for row in data if 'profession' in row)\n",
    "    return professions\n",
    "\n",
    "def get_age_range(data):\n",
    "    # Get the minimum and maximum age from the data\n",
    "    ages = [int(row['age']) for row in data if 'age' in row]\n",
    "    return min(ages), max(ages)\n",
    "\n",
    "def main():\n",
    "    # Read data from the CSV file\n",
    "    file_path = 'bank-data.csv'  # Path to your CSV file\n",
    "    data = read_data(file_path)\n",
    "\n",
    "    # Build a set of unique professions\n",
    "    professions = get_unique_professions(data)\n",
    "\n",
    "    # Get age range for eligibility\n",
    "    min_age, max_age = get_age_range(data)\n",
    "    \n",
    "    # Print the minimum and maximum age for loan eligibility\n",
    "    print(f\"Loan eligibility age range: {min_age} - {max_age}\")\n",
    "\n",
    "    # User input loop\n",
    "    while True:\n",
    "        # Get the user input for profession\n",
    "        user_input = input(\"Enter profession to check eligibility (or type 'END' to exit): \").strip()\n",
    "\n",
    "        # Check if the user wants to exit\n",
    "        if user_input.lower() == \"end\":\n",
    "            print(\"Exiting the program.\")\n",
    "            break\n",
    "\n",
    "        # Check if the input profession is in the set of eligible professions\n",
    "        if user_input.lower() in professions:\n",
    "            print(f\"The profession '{user_input}' is eligible for the loan offer.\")\n",
    "        else:\n",
    "            print(f\"The profession '{user_input}' is NOT eligible for the loan offer.\")\n",
    "\n",
    "if __name__ == \"__main__\":\n",
    "    main()\n"
   ]
  },
  {
   "cell_type": "code",
   "execution_count": 15,
   "id": "9daa27ac-f6d5-4d94-ba93-7e9315373cc2",
   "metadata": {},
   "outputs": [
    {
     "name": "stdout",
     "output_type": "stream",
     "text": [
      "Loan eligibility age range: 19 - 80\n"
     ]
    },
    {
     "name": "stdin",
     "output_type": "stream",
     "text": [
      "Enter profession to check eligibility (or type 'END' to exit):  blue-collar\n"
     ]
    },
    {
     "name": "stdout",
     "output_type": "stream",
     "text": [
      "The profession 'blue-collar' is eligible for the loan offer.\n"
     ]
    },
    {
     "name": "stdin",
     "output_type": "stream",
     "text": [
      "Enter profession to check eligibility (or type 'END' to exit):  end\n"
     ]
    },
    {
     "name": "stdout",
     "output_type": "stream",
     "text": [
      "Exiting the program.\n"
     ]
    }
   ],
   "source": [
    "import csv\n",
    "\n",
    "# Function to read the CSV file and return the data as a list of dictionaries\n",
    "def read_data(file_path):\n",
    "    with open(file_path, mode='r') as file:\n",
    "        csv_reader = csv.DictReader(file)\n",
    "        data = [row for row in csv_reader]\n",
    "    return data\n",
    "\n",
    "# Function to get unique professions from the data\n",
    "def get_unique_professions(data):\n",
    "    # Build a set of unique professions from the data\n",
    "    professions = set(row['job'].lower() for row in data if 'job' in row)\n",
    "    return professions\n",
    "\n",
    "# Function to get the minimum and maximum age from the data\n",
    "def get_age_range(data):\n",
    "    ages = [int(row['age']) for row in data if 'age' in row]\n",
    "    return min(ages), max(ages)\n",
    "\n",
    "def main():\n",
    "    # Define the path to your CSV file\n",
    "    file_path = 'bank-data.csv'  # Update with your actual file path\n",
    "    \n",
    "    # Read data from the CSV file\n",
    "    data = read_data(file_path)\n",
    "    \n",
    "    # Build a set of unique professions\n",
    "    professions = get_unique_professions(data)\n",
    "\n",
    "    # Get the age range for loan eligibility\n",
    "    min_age, max_age = get_age_range(data)\n",
    "    \n",
    "    # Print the minimum and maximum age for loan eligibility\n",
    "    print(f\"Loan eligibility age range: {min_age} - {max_age}\")\n",
    "    \n",
    "    # User input loop\n",
    "    while True:\n",
    "        # Get the user input for profession\n",
    "        user_input = input(\"Enter profession to check eligibility (or type 'END' to exit): \").strip()\n",
    "\n",
    "        # Check if the user wants to exit\n",
    "        if user_input.lower() == \"end\":\n",
    "            print(\"Exiting the program.\")\n",
    "            break\n",
    "        \n",
    "        # Check if the input profession is in the set of eligible professions\n",
    "        if user_input.lower() in professions:\n",
    "            print(f\"The profession '{user_input}' is eligible for the loan offer.\")\n",
    "        else:\n",
    "            print(f\"The profession '{user_input}' is NOT eligible for the loan offer.\")\n",
    "\n",
    "if __name__ == \"__main__\":\n",
    "    main()\n"
   ]
  },
  {
   "cell_type": "code",
   "execution_count": 7,
   "id": "c04bd152-2c03-4795-883a-8b3bb5ffef3d",
   "metadata": {},
   "outputs": [
    {
     "name": "stdout",
     "output_type": "stream",
     "text": [
      "Headers: ['age', 'job', 'marital', 'y']\n",
      "{'age': '20', 'job': 'student', 'marital': 'single', 'y': 'yes'}\n",
      "{'age': '32', 'job': 'management', 'marital': 'single', 'y': 'yes'}\n",
      "{'age': '49', 'job': 'technician', 'marital': 'married', 'y': 'yes'}\n",
      "{'age': '32', 'job': 'blue-collar', 'marital': 'married', 'y': 'yes'}\n",
      "{'age': '33', 'job': 'management', 'marital': 'married', 'y': 'yes'}\n",
      "{'age': '61', 'job': 'admin.', 'marital': 'married', 'y': 'yes'}\n",
      "{'age': '45', 'job': 'blue-collar', 'marital': 'divorced', 'y': 'yes'}\n",
      "{'age': '34', 'job': 'technician', 'marital': 'married', 'y': 'yes'}\n",
      "{'age': '37', 'job': 'management', 'marital': 'married', 'y': 'yes'}\n",
      "{'age': '27', 'job': 'admin.', 'marital': 'divorced', 'y': 'yes'}\n",
      "{'age': '52', 'job': 'services', 'marital': 'married', 'y': 'yes'}\n",
      "{'age': '37', 'job': 'management', 'marital': 'married', 'y': 'yes'}\n",
      "{'age': '27', 'job': 'services', 'marital': 'single', 'y': 'yes'}\n",
      "{'age': '21', 'job': 'student', 'marital': 'single', 'y': 'yes'}\n",
      "{'age': '25', 'job': 'student', 'marital': 'single', 'y': 'yes'}\n",
      "{'age': '25', 'job': 'technician', 'marital': 'single', 'y': 'yes'}\n",
      "{'age': '34', 'job': 'self-employed', 'marital': 'single', 'y': 'yes'}\n",
      "{'age': '52', 'job': 'management', 'marital': 'married', 'y': 'yes'}\n",
      "{'age': '55', 'job': 'admin.', 'marital': 'married', 'y': 'yes'}\n",
      "{'age': '28', 'job': 'management', 'marital': 'single', 'y': 'yes'}\n",
      "{'age': '35', 'job': 'technician', 'marital': 'single', 'y': 'yes'}\n",
      "{'age': '29', 'job': 'blue-collar', 'marital': 'single', 'y': 'yes'}\n",
      "{'age': '42', 'job': 'management', 'marital': 'married', 'y': 'yes'}\n",
      "{'age': '29', 'job': 'blue-collar', 'marital': 'single', 'y': 'yes'}\n",
      "{'age': '24', 'job': 'blue-collar', 'marital': 'single', 'y': 'yes'}\n",
      "{'age': '34', 'job': 'admin.', 'marital': 'married', 'y': 'yes'}\n",
      "{'age': '50', 'job': 'blue-collar', 'marital': 'married', 'y': 'yes'}\n",
      "{'age': '49', 'job': 'entrepreneur', 'marital': 'divorced', 'y': 'yes'}\n",
      "{'age': '45', 'job': 'blue-collar', 'marital': 'divorced', 'y': 'yes'}\n",
      "{'age': '38', 'job': 'entrepreneur', 'marital': 'married', 'y': 'yes'}\n",
      "{'age': '32', 'job': 'blue-collar', 'marital': 'married', 'y': 'yes'}\n",
      "{'age': '49', 'job': 'entrepreneur', 'marital': 'married', 'y': 'yes'}\n",
      "{'age': '25', 'job': 'admin.', 'marital': 'single', 'y': 'yes'}\n",
      "{'age': '35', 'job': 'entrepreneur', 'marital': 'married', 'y': 'yes'}\n",
      "{'age': '38', 'job': 'management', 'marital': 'married', 'y': 'yes'}\n",
      "{'age': '35', 'job': 'entrepreneur', 'marital': 'single', 'y': 'yes'}\n",
      "{'age': '32', 'job': 'services', 'marital': 'married', 'y': 'yes'}\n",
      "{'age': '30', 'job': 'management', 'marital': 'single', 'y': 'yes'}\n",
      "{'age': '55', 'job': 'management', 'marital': 'married', 'y': 'yes'}\n",
      "{'age': '48', 'job': 'admin.', 'marital': 'divorced', 'y': 'yes'}\n",
      "{'age': '60', 'job': 'technician', 'marital': 'single', 'y': 'yes'}\n",
      "{'age': '37', 'job': 'management', 'marital': 'married', 'y': 'yes'}\n",
      "{'age': '28', 'job': 'blue-collar', 'marital': 'single', 'y': 'yes'}\n",
      "{'age': '54', 'job': 'admin.', 'marital': 'married', 'y': 'yes'}\n",
      "{'age': '49', 'job': 'management', 'marital': 'divorced', 'y': 'yes'}\n",
      "{'age': '30', 'job': 'management', 'marital': 'married', 'y': 'yes'}\n",
      "{'age': '35', 'job': 'technician', 'marital': 'married', 'y': 'yes'}\n",
      "{'age': '34', 'job': 'self-employed', 'marital': 'single', 'y': 'yes'}\n",
      "{'age': '32', 'job': 'blue-collar', 'marital': 'married', 'y': 'yes'}\n",
      "{'age': '61', 'job': 'admin.', 'marital': 'married', 'y': 'yes'}\n",
      "{'age': '53', 'job': 'admin.', 'marital': 'married', 'y': 'yes'}\n",
      "{'age': '46', 'job': 'admin.', 'marital': 'married', 'y': 'yes'}\n",
      "{'age': '44', 'job': 'technician', 'marital': 'single', 'y': 'yes'}\n",
      "{'age': '19', 'job': 'student', 'marital': 'single', 'y': 'yes'}\n",
      "{'age': '30', 'job': 'blue-collar', 'marital': 'single', 'y': 'yes'}\n",
      "{'age': '52', 'job': 'technician', 'marital': 'married', 'y': 'yes'}\n",
      "{'age': '36', 'job': 'blue-collar', 'marital': 'married', 'y': 'yes'}\n",
      "{'age': '47', 'job': 'admin.', 'marital': 'single', 'y': 'yes'}\n",
      "{'age': '43', 'job': 'management', 'marital': 'single', 'y': 'yes'}\n",
      "{'age': '41', 'job': 'blue-collar', 'marital': 'married', 'y': 'yes'}\n",
      "{'age': '28', 'job': 'technician', 'marital': 'single', 'y': 'yes'}\n",
      "{'age': '32', 'job': 'services', 'marital': 'single', 'y': 'yes'}\n",
      "{'age': '41', 'job': 'self-employed', 'marital': 'married', 'y': 'yes'}\n",
      "{'age': '35', 'job': 'technician', 'marital': 'married', 'y': 'yes'}\n",
      "{'age': '30', 'job': 'management', 'marital': 'single', 'y': 'yes'}\n",
      "{'age': '58', 'job': 'self-employed', 'marital': 'divorced', 'y': 'yes'}\n",
      "{'age': '27', 'job': 'management', 'marital': 'single', 'y': 'yes'}\n",
      "{'age': '39', 'job': 'management', 'marital': 'married', 'y': 'yes'}\n",
      "{'age': '46', 'job': 'self-employed', 'marital': 'married', 'y': 'yes'}\n",
      "{'age': '28', 'job': 'management', 'marital': 'single', 'y': 'yes'}\n",
      "{'age': '38', 'job': 'technician', 'marital': 'single', 'y': 'yes'}\n",
      "{'age': '28', 'job': 'services', 'marital': 'single', 'y': 'yes'}\n",
      "{'age': '32', 'job': 'management', 'marital': 'divorced', 'y': 'yes'}\n",
      "{'age': '35', 'job': 'self-employed', 'marital': 'divorced', 'y': 'yes'}\n",
      "{'age': '50', 'job': 'management', 'marital': 'married', 'y': 'yes'}\n",
      "{'age': '36', 'job': 'technician', 'marital': 'married', 'y': 'yes'}\n",
      "{'age': '28', 'job': 'management', 'marital': 'single', 'y': 'yes'}\n",
      "{'age': '48', 'job': 'management', 'marital': 'married', 'y': 'yes'}\n",
      "{'age': '29', 'job': 'blue-collar', 'marital': 'single', 'y': 'yes'}\n",
      "{'age': '34', 'job': 'management', 'marital': 'married', 'y': 'yes'}\n",
      "{'age': '43', 'job': 'management', 'marital': 'married', 'y': 'yes'}\n",
      "{'age': '47', 'job': 'blue-collar', 'marital': 'married', 'y': 'yes'}\n",
      "{'age': '39', 'job': 'services', 'marital': 'single', 'y': 'yes'}\n",
      "{'age': '55', 'job': 'housemaid', 'marital': 'divorced', 'y': 'yes'}\n",
      "{'age': '46', 'job': 'management', 'marital': 'divorced', 'y': 'yes'}\n",
      "{'age': '41', 'job': 'admin.', 'marital': 'single', 'y': 'yes'}\n",
      "{'age': '31', 'job': 'housemaid', 'marital': 'single', 'y': 'yes'}\n",
      "{'age': '26', 'job': 'admin.', 'marital': 'single', 'y': 'yes'}\n",
      "{'age': '60', 'job': 'technician', 'marital': 'married', 'y': 'yes'}\n",
      "{'age': '27', 'job': 'student', 'marital': 'single', 'y': 'yes'}\n",
      "{'age': '28', 'job': 'services', 'marital': 'single', 'y': 'yes'}\n",
      "{'age': '34', 'job': 'blue-collar', 'marital': 'divorced', 'y': 'yes'}\n",
      "{'age': '34', 'job': 'management', 'marital': 'married', 'y': 'yes'}\n",
      "{'age': '40', 'job': 'blue-collar', 'marital': 'married', 'y': 'yes'}\n",
      "{'age': '41', 'job': 'technician', 'marital': 'married', 'y': 'yes'}\n",
      "{'age': '33', 'job': 'management', 'marital': 'single', 'y': 'yes'}\n",
      "{'age': '58', 'job': 'self-employed', 'marital': 'married', 'y': 'yes'}\n",
      "{'age': '34', 'job': 'blue-collar', 'marital': 'single', 'y': 'yes'}\n",
      "{'age': '43', 'job': 'management', 'marital': 'divorced', 'y': 'yes'}\n",
      "{'age': '59', 'job': 'self-employed', 'marital': 'married', 'y': 'yes'}\n",
      "{'age': '37', 'job': 'admin.', 'marital': 'married', 'y': 'yes'}\n",
      "{'age': '45', 'job': 'technician', 'marital': 'single', 'y': 'yes'}\n",
      "{'age': '49', 'job': 'blue-collar', 'marital': 'married', 'y': 'yes'}\n",
      "{'age': '42', 'job': 'technician', 'marital': 'married', 'y': 'yes'}\n",
      "{'age': '45', 'job': 'admin.', 'marital': 'married', 'y': 'yes'}\n",
      "{'age': '55', 'job': 'blue-collar', 'marital': 'divorced', 'y': 'yes'}\n",
      "{'age': '34', 'job': 'services', 'marital': 'married', 'y': 'yes'}\n",
      "{'age': '63', 'job': 'entrepreneur', 'marital': 'married', 'y': 'yes'}\n",
      "{'age': '48', 'job': 'management', 'marital': 'married', 'y': 'yes'}\n",
      "{'age': '36', 'job': 'blue-collar', 'marital': 'married', 'y': 'yes'}\n",
      "{'age': '38', 'job': 'admin.', 'marital': 'married', 'y': 'yes'}\n",
      "{'age': '33', 'job': 'blue-collar', 'marital': 'married', 'y': 'yes'}\n",
      "{'age': '59', 'job': 'technician', 'marital': 'married', 'y': 'yes'}\n",
      "{'age': '37', 'job': 'technician', 'marital': 'married', 'y': 'yes'}\n",
      "{'age': '37', 'job': 'technician', 'marital': 'married', 'y': 'yes'}\n",
      "{'age': '60', 'job': 'management', 'marital': 'divorced', 'y': 'yes'}\n",
      "{'age': '44', 'job': 'admin.', 'marital': 'married', 'y': 'yes'}\n",
      "{'age': '32', 'job': 'technician', 'marital': 'single', 'y': 'yes'}\n",
      "{'age': '33', 'job': 'management', 'marital': 'married', 'y': 'yes'}\n",
      "{'age': '28', 'job': 'self-employed', 'marital': 'single', 'y': 'yes'}\n",
      "{'age': '37', 'job': 'management', 'marital': 'married', 'y': 'yes'}\n",
      "{'age': '31', 'job': 'technician', 'marital': 'married', 'y': 'yes'}\n",
      "{'age': '34', 'job': 'services', 'marital': 'married', 'y': 'yes'}\n",
      "{'age': '61', 'job': 'management', 'marital': 'married', 'y': 'yes'}\n",
      "{'age': '36', 'job': 'management', 'marital': 'single', 'y': 'yes'}\n",
      "{'age': '60', 'job': 'blue-collar', 'marital': 'married', 'y': 'yes'}\n",
      "{'age': '27', 'job': 'technician', 'marital': 'single', 'y': 'yes'}\n",
      "{'age': '41', 'job': 'management', 'marital': 'divorced', 'y': 'yes'}\n",
      "{'age': '46', 'job': 'admin.', 'marital': 'divorced', 'y': 'yes'}\n",
      "{'age': '31', 'job': 'management', 'marital': 'married', 'y': 'yes'}\n",
      "{'age': '32', 'job': 'management', 'marital': 'single', 'y': 'yes'}\n",
      "{'age': '42', 'job': 'management', 'marital': 'married', 'y': 'yes'}\n",
      "{'age': '49', 'job': 'management', 'marital': 'married', 'y': 'yes'}\n",
      "{'age': '45', 'job': 'admin.', 'marital': 'married', 'y': 'yes'}\n",
      "{'age': '32', 'job': 'management', 'marital': 'single', 'y': 'yes'}\n",
      "{'age': '27', 'job': 'admin.', 'marital': 'married', 'y': 'yes'}\n",
      "{'age': '47', 'job': 'technician', 'marital': 'married', 'y': 'yes'}\n",
      "{'age': '28', 'job': 'management', 'marital': 'single', 'y': 'yes'}\n",
      "{'age': '46', 'job': 'admin.', 'marital': 'married', 'y': 'yes'}\n",
      "{'age': '38', 'job': 'technician', 'marital': 'married', 'y': 'yes'}\n",
      "{'age': '35', 'job': 'blue-collar', 'marital': 'single', 'y': 'yes'}\n",
      "{'age': '38', 'job': 'services', 'marital': 'single', 'y': 'yes'}\n",
      "{'age': '36', 'job': 'management', 'marital': 'married', 'y': 'yes'}\n",
      "{'age': '56', 'job': 'housemaid', 'marital': 'divorced', 'y': 'yes'}\n",
      "{'age': '32', 'job': 'technician', 'marital': 'single', 'y': 'yes'}\n",
      "{'age': '31', 'job': 'management', 'marital': 'married', 'y': 'yes'}\n",
      "{'age': '45', 'job': 'services', 'marital': 'single', 'y': 'yes'}\n",
      "{'age': '36', 'job': 'management', 'marital': 'married', 'y': 'yes'}\n",
      "{'age': '31', 'job': 'blue-collar', 'marital': 'married', 'y': 'yes'}\n",
      "{'age': '53', 'job': 'services', 'marital': 'divorced', 'y': 'yes'}\n",
      "{'age': '59', 'job': 'technician', 'marital': 'married', 'y': 'yes'}\n",
      "{'age': '29', 'job': 'technician', 'marital': 'single', 'y': 'yes'}\n",
      "{'age': '46', 'job': 'technician', 'marital': 'married', 'y': 'yes'}\n",
      "{'age': '47', 'job': 'admin.', 'marital': 'divorced', 'y': 'yes'}\n",
      "{'age': '42', 'job': 'admin.', 'marital': 'divorced', 'y': 'yes'}\n",
      "{'age': '33', 'job': 'technician', 'marital': 'married', 'y': 'yes'}\n",
      "{'age': '54', 'job': 'management', 'marital': 'divorced', 'y': 'yes'}\n",
      "{'age': '28', 'job': 'student', 'marital': 'single', 'y': 'yes'}\n",
      "{'age': '42', 'job': 'management', 'marital': 'divorced', 'y': 'yes'}\n",
      "{'age': '49', 'job': 'management', 'marital': 'single', 'y': 'yes'}\n",
      "{'age': '46', 'job': 'management', 'marital': 'divorced', 'y': 'yes'}\n",
      "{'age': '39', 'job': 'self-employed', 'marital': 'single', 'y': 'yes'}\n",
      "{'age': '53', 'job': 'blue-collar', 'marital': 'married', 'y': 'yes'}\n",
      "{'age': '52', 'job': 'blue-collar', 'marital': 'divorced', 'y': 'yes'}\n",
      "{'age': '47', 'job': 'services', 'marital': 'single', 'y': 'yes'}\n",
      "{'age': '32', 'job': 'technician', 'marital': 'single', 'y': 'yes'}\n",
      "{'age': '37', 'job': 'technician', 'marital': 'single', 'y': 'yes'}\n",
      "{'age': '43', 'job': 'admin.', 'marital': 'married', 'y': 'yes'}\n",
      "{'age': '31', 'job': 'management', 'marital': 'single', 'y': 'yes'}\n",
      "{'age': '35', 'job': 'management', 'marital': 'single', 'y': 'yes'}\n",
      "{'age': '25', 'job': 'student', 'marital': 'single', 'y': 'yes'}\n",
      "{'age': '32', 'job': 'blue-collar', 'marital': 'single', 'y': 'yes'}\n",
      "{'age': '46', 'job': 'admin.', 'marital': 'married', 'y': 'yes'}\n",
      "{'age': '48', 'job': 'management', 'marital': 'married', 'y': 'yes'}\n",
      "{'age': '34', 'job': 'technician', 'marital': 'married', 'y': 'yes'}\n",
      "{'age': '53', 'job': 'admin.', 'marital': 'single', 'y': 'yes'}\n",
      "{'age': '40', 'job': 'admin.', 'marital': 'single', 'y': 'yes'}\n",
      "{'age': '49', 'job': 'housemaid', 'marital': 'married', 'y': 'yes'}\n",
      "{'age': '49', 'job': 'admin.', 'marital': 'married', 'y': 'yes'}\n",
      "{'age': '29', 'job': 'management', 'marital': 'single', 'y': 'yes'}\n",
      "{'age': '38', 'job': 'technician', 'marital': 'married', 'y': 'yes'}\n",
      "{'age': '35', 'job': 'technician', 'marital': 'married', 'y': 'yes'}\n",
      "{'age': '57', 'job': 'blue-collar', 'marital': 'married', 'y': 'yes'}\n",
      "{'age': '51', 'job': 'management', 'marital': 'single', 'y': 'yes'}\n",
      "{'age': '31', 'job': 'management', 'marital': 'married', 'y': 'yes'}\n",
      "{'age': '39', 'job': 'technician', 'marital': 'divorced', 'y': 'yes'}\n",
      "{'age': '54', 'job': 'management', 'marital': 'married', 'y': 'yes'}\n",
      "{'age': '51', 'job': 'self-employed', 'marital': 'married', 'y': 'yes'}\n",
      "{'age': '34', 'job': 'management', 'marital': 'single', 'y': 'yes'}\n",
      "{'age': '47', 'job': 'blue-collar', 'marital': 'married', 'y': 'yes'}\n",
      "{'age': '34', 'job': 'admin.', 'marital': 'married', 'y': 'yes'}\n",
      "{'age': '26', 'job': 'blue-collar', 'marital': 'single', 'y': 'yes'}\n",
      "{'age': '39', 'job': 'technician', 'marital': 'divorced', 'y': 'yes'}\n",
      "{'age': '42', 'job': 'management', 'marital': 'married', 'y': 'yes'}\n",
      "{'age': '40', 'job': 'management', 'marital': 'single', 'y': 'yes'}\n",
      "{'age': '28', 'job': 'student', 'marital': 'single', 'y': 'yes'}\n",
      "{'age': '46', 'job': 'management', 'marital': 'married', 'y': 'yes'}\n",
      "{'age': '48', 'job': 'housemaid', 'marital': 'married', 'y': 'yes'}\n",
      "{'age': '30', 'job': 'services', 'marital': 'single', 'y': 'yes'}\n",
      "{'age': '29', 'job': 'management', 'marital': 'single', 'y': 'yes'}\n",
      "{'age': '22', 'job': 'student', 'marital': 'single', 'y': 'yes'}\n",
      "{'age': '27', 'job': 'technician', 'marital': 'single', 'y': 'yes'}\n",
      "{'age': '27', 'job': 'student', 'marital': 'single', 'y': 'yes'}\n",
      "{'age': '42', 'job': 'services', 'marital': 'divorced', 'y': 'yes'}\n",
      "{'age': '41', 'job': 'admin.', 'marital': 'divorced', 'y': 'yes'}\n",
      "{'age': '44', 'job': 'technician', 'marital': 'single', 'y': 'yes'}\n",
      "{'age': '37', 'job': 'entrepreneur', 'marital': 'divorced', 'y': 'yes'}\n",
      "{'age': '44', 'job': 'management', 'marital': 'married', 'y': 'yes'}\n",
      "{'age': '40', 'job': 'management', 'marital': 'single', 'y': 'yes'}\n",
      "{'age': '34', 'job': 'technician', 'marital': 'single', 'y': 'yes'}\n",
      "{'age': '59', 'job': 'management', 'marital': 'married', 'y': 'yes'}\n",
      "{'age': '41', 'job': 'blue-collar', 'marital': 'divorced', 'y': 'yes'}\n",
      "{'age': '30', 'job': 'management', 'marital': 'married', 'y': 'yes'}\n",
      "{'age': '59', 'job': 'technician', 'marital': 'married', 'y': 'yes'}\n",
      "{'age': '31', 'job': 'admin.', 'marital': 'single', 'y': 'yes'}\n",
      "{'age': '48', 'job': 'technician', 'marital': 'married', 'y': 'yes'}\n",
      "{'age': '47', 'job': 'technician', 'marital': 'married', 'y': 'yes'}\n",
      "{'age': '33', 'job': 'blue-collar', 'marital': 'single', 'y': 'yes'}\n",
      "{'age': '30', 'job': 'management', 'marital': 'single', 'y': 'yes'}\n",
      "{'age': '38', 'job': 'management', 'marital': 'single', 'y': 'yes'}\n",
      "{'age': '33', 'job': 'management', 'marital': 'married', 'y': 'yes'}\n",
      "{'age': '41', 'job': 'admin.', 'marital': 'married', 'y': 'yes'}\n",
      "{'age': '35', 'job': 'housemaid', 'marital': 'married', 'y': 'yes'}\n",
      "{'age': '47', 'job': 'housemaid', 'marital': 'single', 'y': 'yes'}\n",
      "{'age': '37', 'job': 'management', 'marital': 'married', 'y': 'yes'}\n",
      "{'age': '62', 'job': 'management', 'marital': 'married', 'y': 'yes'}\n",
      "{'age': '33', 'job': 'services', 'marital': 'married', 'y': 'yes'}\n",
      "{'age': '40', 'job': 'services', 'marital': 'married', 'y': 'yes'}\n",
      "{'age': '28', 'job': 'blue-collar', 'marital': 'single', 'y': 'yes'}\n",
      "{'age': '43', 'job': 'entrepreneur', 'marital': 'married', 'y': 'yes'}\n",
      "{'age': '23', 'job': 'entrepreneur', 'marital': 'single', 'y': 'yes'}\n",
      "{'age': '29', 'job': 'management', 'marital': 'married', 'y': 'yes'}\n",
      "{'age': '34', 'job': 'management', 'marital': 'married', 'y': 'yes'}\n",
      "{'age': '24', 'job': 'student', 'marital': 'single', 'y': 'yes'}\n",
      "{'age': '44', 'job': 'technician', 'marital': 'married', 'y': 'yes'}\n",
      "{'age': '33', 'job': 'blue-collar', 'marital': 'married', 'y': 'yes'}\n",
      "{'age': '24', 'job': 'services', 'marital': 'married', 'y': 'yes'}\n",
      "{'age': '37', 'job': 'management', 'marital': 'married', 'y': 'yes'}\n",
      "{'age': '41', 'job': 'management', 'marital': 'married', 'y': 'yes'}\n",
      "{'age': '35', 'job': 'admin.', 'marital': 'single', 'y': 'yes'}\n",
      "{'age': '32', 'job': 'blue-collar', 'marital': 'married', 'y': 'yes'}\n",
      "{'age': '27', 'job': 'services', 'marital': 'single', 'y': 'yes'}\n",
      "{'age': '30', 'job': 'management', 'marital': 'married', 'y': 'yes'}\n",
      "{'age': '37', 'job': 'technician', 'marital': 'single', 'y': 'yes'}\n",
      "{'age': '43', 'job': 'services', 'marital': 'single', 'y': 'yes'}\n",
      "{'age': '35', 'job': 'services', 'marital': 'married', 'y': 'yes'}\n",
      "{'age': '41', 'job': 'blue-collar', 'marital': 'single', 'y': 'yes'}\n",
      "{'age': '44', 'job': 'management', 'marital': 'single', 'y': 'yes'}\n",
      "{'age': '51', 'job': 'technician', 'marital': 'married', 'y': 'yes'}\n",
      "{'age': '35', 'job': 'management', 'marital': 'married', 'y': 'yes'}\n",
      "{'age': '36', 'job': 'management', 'marital': 'married', 'y': 'yes'}\n",
      "{'age': '23', 'job': 'technician', 'marital': 'single', 'y': 'yes'}\n",
      "{'age': '22', 'job': 'student', 'marital': 'single', 'y': 'yes'}\n",
      "{'age': '35', 'job': 'admin.', 'marital': 'divorced', 'y': 'yes'}\n",
      "{'age': '37', 'job': 'management', 'marital': 'married', 'y': 'yes'}\n",
      "{'age': '53', 'job': 'housemaid', 'marital': 'married', 'y': 'yes'}\n",
      "{'age': '44', 'job': 'technician', 'marital': 'divorced', 'y': 'yes'}\n",
      "{'age': '31', 'job': 'management', 'marital': 'married', 'y': 'yes'}\n",
      "{'age': '33', 'job': 'management', 'marital': 'married', 'y': 'yes'}\n",
      "{'age': '34', 'job': 'admin.', 'marital': 'divorced', 'y': 'yes'}\n",
      "{'age': '52', 'job': 'technician', 'marital': 'married', 'y': 'yes'}\n",
      "{'age': '49', 'job': 'services', 'marital': 'married', 'y': 'yes'}\n",
      "{'age': '50', 'job': 'management', 'marital': 'single', 'y': 'yes'}\n",
      "{'age': '36', 'job': 'management', 'marital': 'married', 'y': 'yes'}\n",
      "{'age': '45', 'job': 'blue-collar', 'marital': 'single', 'y': 'yes'}\n",
      "{'age': '36', 'job': 'management', 'marital': 'married', 'y': 'yes'}\n",
      "{'age': '42', 'job': 'technician', 'marital': 'married', 'y': 'yes'}\n",
      "{'age': '27', 'job': 'student', 'marital': 'single', 'y': 'yes'}\n",
      "{'age': '31', 'job': 'management', 'marital': 'married', 'y': 'yes'}\n",
      "{'age': '29', 'job': 'management', 'marital': 'single', 'y': 'yes'}\n",
      "{'age': '45', 'job': 'admin.', 'marital': 'divorced', 'y': 'yes'}\n",
      "{'age': '55', 'job': 'management', 'marital': 'divorced', 'y': 'yes'}\n",
      "{'age': '25', 'job': 'management', 'marital': 'single', 'y': 'yes'}\n",
      "{'age': '41', 'job': 'blue-collar', 'marital': 'single', 'y': 'yes'}\n",
      "{'age': '29', 'job': 'technician', 'marital': 'single', 'y': 'yes'}\n",
      "{'age': '32', 'job': 'technician', 'marital': 'single', 'y': 'yes'}\n",
      "{'age': '53', 'job': 'blue-collar', 'marital': 'married', 'y': 'yes'}\n",
      "{'age': '47', 'job': 'technician', 'marital': 'married', 'y': 'yes'}\n",
      "{'age': '40', 'job': 'blue-collar', 'marital': 'married', 'y': 'yes'}\n",
      "{'age': '61', 'job': 'management', 'marital': 'married', 'y': 'yes'}\n",
      "{'age': '35', 'job': 'management', 'marital': 'divorced', 'y': 'yes'}\n",
      "{'age': '19', 'job': 'student', 'marital': 'single', 'y': 'yes'}\n",
      "{'age': '46', 'job': 'technician', 'marital': 'divorced', 'y': 'yes'}\n",
      "{'age': '38', 'job': 'entrepreneur', 'marital': 'married', 'y': 'yes'}\n",
      "{'age': '37', 'job': 'technician', 'marital': 'single', 'y': 'yes'}\n",
      "{'age': '39', 'job': 'management', 'marital': 'married', 'y': 'yes'}\n",
      "{'age': '49', 'job': 'services', 'marital': 'married', 'y': 'yes'}\n",
      "{'age': '43', 'job': 'blue-collar', 'marital': 'married', 'y': 'yes'}\n",
      "{'age': '44', 'job': 'management', 'marital': 'married', 'y': 'yes'}\n",
      "{'age': '38', 'job': 'technician', 'marital': 'married', 'y': 'yes'}\n",
      "{'age': '32', 'job': 'technician', 'marital': 'single', 'y': 'yes'}\n",
      "{'age': '51', 'job': 'housemaid', 'marital': 'divorced', 'y': 'yes'}\n",
      "{'age': '32', 'job': 'management', 'marital': 'married', 'y': 'yes'}\n",
      "{'age': '35', 'job': 'technician', 'marital': 'single', 'y': 'yes'}\n",
      "{'age': '32', 'job': 'management', 'marital': 'single', 'y': 'yes'}\n",
      "{'age': '34', 'job': 'housemaid', 'marital': 'married', 'y': 'yes'}\n",
      "{'age': '41', 'job': 'technician', 'marital': 'single', 'y': 'yes'}\n",
      "{'age': '49', 'job': 'blue-collar', 'marital': 'married', 'y': 'yes'}\n",
      "{'age': '61', 'job': 'technician', 'marital': 'married', 'y': 'yes'}\n",
      "{'age': '45', 'job': 'management', 'marital': 'married', 'y': 'yes'}\n",
      "{'age': '36', 'job': 'management', 'marital': 'single', 'y': 'yes'}\n",
      "{'age': '22', 'job': 'student', 'marital': 'single', 'y': 'yes'}\n",
      "{'age': '31', 'job': 'management', 'marital': 'single', 'y': 'yes'}\n",
      "{'age': '56', 'job': 'admin.', 'marital': 'married', 'y': 'yes'}\n",
      "{'age': '46', 'job': 'admin.', 'marital': 'married', 'y': 'yes'}\n",
      "{'age': '34', 'job': 'technician', 'marital': 'single', 'y': 'yes'}\n",
      "{'age': '38', 'job': 'entrepreneur', 'marital': 'single', 'y': 'yes'}\n",
      "{'age': '60', 'job': 'admin.', 'marital': 'married', 'y': 'yes'}\n",
      "{'age': '51', 'job': 'self-employed', 'marital': 'married', 'y': 'yes'}\n",
      "{'age': '49', 'job': 'technician', 'marital': 'married', 'y': 'yes'}\n",
      "{'age': '40', 'job': 'management', 'marital': 'married', 'y': 'yes'}\n",
      "{'age': '39', 'job': 'blue-collar', 'marital': 'married', 'y': 'yes'}\n",
      "{'age': '50', 'job': 'technician', 'marital': 'divorced', 'y': 'yes'}\n",
      "{'age': '34', 'job': 'admin.', 'marital': 'married', 'y': 'yes'}\n",
      "{'age': '43', 'job': 'management', 'marital': 'single', 'y': 'yes'}\n",
      "{'age': '33', 'job': 'services', 'marital': 'married', 'y': 'yes'}\n",
      "{'age': '31', 'job': 'technician', 'marital': 'single', 'y': 'yes'}\n",
      "{'age': '30', 'job': 'blue-collar', 'marital': 'single', 'y': 'yes'}\n",
      "{'age': '47', 'job': 'services', 'marital': 'married', 'y': 'yes'}\n",
      "{'age': '48', 'job': 'management', 'marital': 'married', 'y': 'yes'}\n",
      "{'age': '32', 'job': 'admin.', 'marital': 'single', 'y': 'yes'}\n",
      "{'age': '27', 'job': 'management', 'marital': 'married', 'y': 'yes'}\n",
      "{'age': '24', 'job': 'technician', 'marital': 'married', 'y': 'yes'}\n",
      "{'age': '28', 'job': 'admin.', 'marital': 'single', 'y': 'yes'}\n",
      "{'age': '34', 'job': 'management', 'marital': 'single', 'y': 'yes'}\n",
      "{'age': '55', 'job': 'management', 'marital': 'married', 'y': 'yes'}\n",
      "{'age': '41', 'job': 'management', 'marital': 'married', 'y': 'yes'}\n",
      "{'age': '52', 'job': 'blue-collar', 'marital': 'married', 'y': 'yes'}\n",
      "{'age': '54', 'job': 'technician', 'marital': 'married', 'y': 'yes'}\n",
      "{'age': '36', 'job': 'management', 'marital': 'married', 'y': 'yes'}\n",
      "{'age': '36', 'job': 'blue-collar', 'marital': 'married', 'y': 'yes'}\n",
      "{'age': '28', 'job': 'self-employed', 'marital': 'single', 'y': 'yes'}\n",
      "{'age': '60', 'job': 'services', 'marital': 'married', 'y': 'yes'}\n",
      "{'age': '40', 'job': 'blue-collar', 'marital': 'single', 'y': 'yes'}\n",
      "{'age': '33', 'job': 'admin.', 'marital': 'married', 'y': 'yes'}\n",
      "{'age': '25', 'job': 'management', 'marital': 'single', 'y': 'yes'}\n",
      "{'age': '35', 'job': 'blue-collar', 'marital': 'divorced', 'y': 'yes'}\n",
      "{'age': '53', 'job': 'management', 'marital': 'married', 'y': 'yes'}\n",
      "{'age': '33', 'job': 'admin.', 'marital': 'married', 'y': 'yes'}\n",
      "{'age': '53', 'job': 'admin.', 'marital': 'married', 'y': 'yes'}\n",
      "{'age': '27', 'job': 'admin.', 'marital': 'married', 'y': 'yes'}\n",
      "{'age': '46', 'job': 'services', 'marital': 'married', 'y': 'yes'}\n",
      "{'age': '33', 'job': 'self-employed', 'marital': 'single', 'y': 'yes'}\n",
      "{'age': '39', 'job': 'self-employed', 'marital': 'married', 'y': 'yes'}\n",
      "{'age': '55', 'job': 'technician', 'marital': 'married', 'y': 'yes'}\n",
      "{'age': '28', 'job': 'student', 'marital': 'single', 'y': 'yes'}\n",
      "{'age': '47', 'job': 'management', 'marital': 'married', 'y': 'yes'}\n",
      "{'age': '58', 'job': 'services', 'marital': 'divorced', 'y': 'yes'}\n",
      "{'age': '32', 'job': 'management', 'marital': 'divorced', 'y': 'yes'}\n",
      "{'age': '43', 'job': 'technician', 'marital': 'married', 'y': 'yes'}\n",
      "{'age': '33', 'job': 'services', 'marital': 'divorced', 'y': 'yes'}\n",
      "{'age': '49', 'job': 'technician', 'marital': 'married', 'y': 'yes'}\n",
      "{'age': '61', 'job': 'self-employed', 'marital': 'divorced', 'y': 'yes'}\n",
      "{'age': '43', 'job': 'blue-collar', 'marital': 'married', 'y': 'yes'}\n",
      "{'age': '38', 'job': 'management', 'marital': 'married', 'y': 'yes'}\n",
      "{'age': '52', 'job': 'management', 'marital': 'single', 'y': 'yes'}\n",
      "{'age': '29', 'job': 'admin.', 'marital': 'single', 'y': 'yes'}\n",
      "{'age': '29', 'job': 'services', 'marital': 'divorced', 'y': 'yes'}\n",
      "{'age': '26', 'job': 'services', 'marital': 'single', 'y': 'yes'}\n",
      "{'age': '32', 'job': 'services', 'marital': 'married', 'y': 'yes'}\n",
      "{'age': '36', 'job': 'entrepreneur', 'marital': 'married', 'y': 'yes'}\n",
      "{'age': '30', 'job': 'blue-collar', 'marital': 'single', 'y': 'yes'}\n",
      "{'age': '30', 'job': 'admin.', 'marital': 'single', 'y': 'yes'}\n",
      "{'age': '80', 'job': 'housemaid', 'marital': 'married', 'y': 'yes'}\n",
      "{'age': '31', 'job': 'management', 'marital': 'married', 'y': 'yes'}\n",
      "{'age': '32', 'job': 'services', 'marital': 'single', 'y': 'yes'}\n",
      "{'age': '43', 'job': 'technician', 'marital': 'married', 'y': 'yes'}\n",
      "{'age': '34', 'job': 'technician', 'marital': 'divorced', 'y': 'yes'}\n",
      "{'age': '27', 'job': 'services', 'marital': 'married', 'y': 'yes'}\n",
      "{'age': '36', 'job': 'blue-collar', 'marital': 'divorced', 'y': 'yes'}\n",
      "{'age': '42', 'job': 'admin.', 'marital': 'single', 'y': 'yes'}\n",
      "{'age': '36', 'job': 'management', 'marital': 'single', 'y': 'yes'}\n",
      "{'age': '55', 'job': 'technician', 'marital': 'divorced', 'y': 'yes'}\n",
      "{'age': '61', 'job': 'management', 'marital': 'married', 'y': 'yes'}\n",
      "{'age': '35', 'job': 'management', 'marital': 'married', 'y': 'yes'}\n",
      "{'age': '26', 'job': 'management', 'marital': 'single', 'y': 'yes'}\n",
      "{'age': '47', 'job': 'management', 'marital': 'married', 'y': 'yes'}\n",
      "{'age': '33', 'job': 'admin.', 'marital': 'married', 'y': 'yes'}\n",
      "{'age': '53', 'job': 'services', 'marital': 'divorced', 'y': 'yes'}\n",
      "{'age': '46', 'job': 'technician', 'marital': 'divorced', 'y': 'yes'}\n",
      "{'age': '29', 'job': 'housemaid', 'marital': 'single', 'y': 'yes'}\n",
      "{'age': '39', 'job': 'admin.', 'marital': 'married', 'y': 'yes'}\n",
      "{'age': '54', 'job': 'technician', 'marital': 'married', 'y': 'yes'}\n",
      "{'age': '26', 'job': 'student', 'marital': 'single', 'y': 'yes'}\n",
      "{'age': '44', 'job': 'technician', 'marital': 'single', 'y': 'yes'}\n",
      "{'age': '47', 'job': 'management', 'marital': 'single', 'y': 'yes'}\n",
      "{'age': '31', 'job': 'services', 'marital': 'divorced', 'y': 'yes'}\n",
      "{'age': '36', 'job': 'blue-collar', 'marital': 'married', 'y': 'yes'}\n",
      "{'age': '42', 'job': 'management', 'marital': 'married', 'y': 'yes'}\n",
      "{'age': '30', 'job': 'technician', 'marital': 'married', 'y': 'yes'}\n",
      "{'age': '36', 'job': 'technician', 'marital': 'single', 'y': 'yes'}\n",
      "{'age': '47', 'job': 'admin.', 'marital': 'married', 'y': 'yes'}\n",
      "{'age': '25', 'job': 'management', 'marital': 'married', 'y': 'yes'}\n",
      "{'age': '34', 'job': 'management', 'marital': 'married', 'y': 'yes'}\n",
      "{'age': '49', 'job': 'management', 'marital': 'married', 'y': 'yes'}\n",
      "{'age': '44', 'job': 'self-employed', 'marital': 'single', 'y': 'yes'}\n",
      "{'age': '34', 'job': 'admin.', 'marital': 'single', 'y': 'yes'}\n",
      "{'age': '37', 'job': 'blue-collar', 'marital': 'divorced', 'y': 'yes'}\n",
      "{'age': '38', 'job': 'housemaid', 'marital': 'divorced', 'y': 'yes'}\n",
      "{'age': '46', 'job': 'blue-collar', 'marital': 'married', 'y': 'yes'}\n",
      "{'age': '52', 'job': 'admin.', 'marital': 'single', 'y': 'yes'}\n",
      "{'age': '53', 'job': 'entrepreneur', 'marital': 'married', 'y': 'yes'}\n",
      "{'age': '28', 'job': 'blue-collar', 'marital': 'married', 'y': 'yes'}\n",
      "{'age': '32', 'job': 'blue-collar', 'marital': 'married', 'y': 'yes'}\n",
      "{'age': '30', 'job': 'management', 'marital': 'married', 'y': 'yes'}\n",
      "{'age': '25', 'job': 'student', 'marital': 'single', 'y': 'yes'}\n",
      "{'age': '47', 'job': 'blue-collar', 'marital': 'divorced', 'y': 'yes'}\n",
      "{'age': '50', 'job': 'self-employed', 'marital': 'divorced', 'y': 'yes'}\n",
      "{'age': '30', 'job': 'technician', 'marital': 'married', 'y': 'yes'}\n",
      "{'age': '55', 'job': 'entrepreneur', 'marital': 'divorced', 'y': 'yes'}\n",
      "{'age': '32', 'job': 'blue-collar', 'marital': 'married', 'y': 'yes'}\n",
      "{'age': '32', 'job': 'services', 'marital': 'single', 'y': 'yes'}\n",
      "{'age': '48', 'job': 'blue-collar', 'marital': 'married', 'y': 'yes'}\n",
      "{'age': '34', 'job': 'management', 'marital': 'married', 'y': 'yes'}\n",
      "{'age': '27', 'job': 'blue-collar', 'marital': 'single', 'y': 'yes'}\n",
      "{'age': '30', 'job': 'technician', 'marital': 'single', 'y': 'yes'}\n",
      "{'age': '33', 'job': 'blue-collar', 'marital': 'single', 'y': 'yes'}\n",
      "{'age': '62', 'job': 'self-employed', 'marital': 'divorced', 'y': 'yes'}\n",
      "{'age': '39', 'job': 'services', 'marital': 'divorced', 'y': 'yes'}\n",
      "{'age': '38', 'job': 'technician', 'marital': 'single', 'y': 'yes'}\n",
      "{'age': '31', 'job': 'blue-collar', 'marital': 'married', 'y': 'yes'}\n",
      "{'age': '33', 'job': 'technician', 'marital': 'single', 'y': 'yes'}\n",
      "{'age': '36', 'job': 'technician', 'marital': 'single', 'y': 'yes'}\n",
      "{'age': '32', 'job': 'management', 'marital': 'single', 'y': 'yes'}\n",
      "{'age': '34', 'job': 'housemaid', 'marital': 'married', 'y': 'yes'}\n",
      "{'age': '59', 'job': 'technician', 'marital': 'married', 'y': 'yes'}\n",
      "{'age': '25', 'job': 'student', 'marital': 'married', 'y': 'yes'}\n",
      "{'age': '53', 'job': 'management', 'marital': 'married', 'y': 'yes'}\n",
      "{'age': '52', 'job': 'management', 'marital': 'married', 'y': 'yes'}\n",
      "{'age': '34', 'job': 'admin.', 'marital': 'divorced', 'y': 'yes'}\n",
      "{'age': '49', 'job': 'admin.', 'marital': 'married', 'y': 'yes'}\n",
      "{'age': '50', 'job': 'blue-collar', 'marital': 'married', 'y': 'yes'}\n",
      "{'age': '29', 'job': 'blue-collar', 'marital': 'single', 'y': 'yes'}\n",
      "{'age': '41', 'job': 'entrepreneur', 'marital': 'married', 'y': 'yes'}\n",
      "{'age': '45', 'job': 'admin.', 'marital': 'divorced', 'y': 'yes'}\n",
      "{'age': '32', 'job': 'blue-collar', 'marital': 'single', 'y': 'yes'}\n",
      "{'age': '45', 'job': 'management', 'marital': 'single', 'y': 'yes'}\n",
      "{'age': '40', 'job': 'management', 'marital': 'married', 'y': 'yes'}\n",
      "{'age': '49', 'job': 'blue-collar', 'marital': 'single', 'y': 'yes'}\n",
      "{'age': '29', 'job': 'management', 'marital': 'single', 'y': 'yes'}\n",
      "{'age': '38', 'job': 'management', 'marital': 'single', 'y': 'yes'}\n",
      "{'age': '38', 'job': 'management', 'marital': 'married', 'y': 'yes'}\n",
      "{'age': '26', 'job': 'technician', 'marital': 'single', 'y': 'yes'}\n",
      "{'age': '60', 'job': 'self-employed', 'marital': 'married', 'y': 'yes'}\n",
      "{'age': '42', 'job': 'blue-collar', 'marital': 'single', 'y': 'yes'}\n",
      "{'age': '32', 'job': 'admin.', 'marital': 'single', 'y': 'yes'}\n",
      "{'age': '46', 'job': 'blue-collar', 'marital': 'married', 'y': 'yes'}\n"
     ]
    }
   ],
   "source": [
    "import csv\n",
    "\n",
    "# Define the path to your CSV file\n",
    "file_path = r\"bank-data.csv\"  # Update with your actual file path\n",
    "\n",
    "# Read the CSV file\n",
    "with open(file_path, mode='r') as file:\n",
    "    csv_reader = csv.DictReader(file)\n",
    "\n",
    "    # Print the headers (column names)\n",
    "    print(\"Headers:\", csv_reader.fieldnames)\n",
    "\n",
    "    # Loop through each row in the CSV and print the dictionary\n",
    "    for row in csv_reader:\n",
    "        print(row)"
   ]
  },
  {
   "cell_type": "markdown",
   "id": "bcc529c5-54f8-44cd-8300-aa4daf41ba8c",
   "metadata": {},
   "source": [
    "### this code is all about to know the Unique jobs in \"job\" column"
   ]
  },
  {
   "cell_type": "code",
   "execution_count": 9,
   "id": "380e8729-0d57-4585-91f4-509430be5067",
   "metadata": {},
   "outputs": [
    {
     "name": "stdout",
     "output_type": "stream",
     "text": [
      "Unique jobs:\n",
      "services\n",
      "technician\n",
      "blue-collar\n",
      "self-employed\n",
      "admin.\n",
      "housemaid\n",
      "entrepreneur\n",
      "management\n",
      "student\n"
     ]
    }
   ],
   "source": [
    "# now, this code is to check the unique count of the \"job type\" in \"job\" column in the data-set\n",
    "import csv\n",
    "\n",
    "# Define the path to your CSV file\n",
    "file_path = r\"bank-data.csv\"  # Update with your actual file path\n",
    "\n",
    "# Read the CSV file\n",
    "with open(file_path, mode='r') as file:\n",
    "    csv_reader = csv.DictReader(file)\n",
    "\n",
    "    # Initialize an empty set to store unique jobs\n",
    "    unique_jobs = set() # \"set\" is use to have the only unique count of the jobs or any specific element\n",
    "\n",
    "    # Loop through each row in the CSV and add the \"job\" field to the set\n",
    "    for row in csv_reader:\n",
    "        # Add the job to the set (make sure to handle case insensitivity by using lower())\n",
    "        unique_jobs.add(row['job'].lower())  # Assuming \"job\" is the column name\n",
    "\n",
    "    # Print the unique jobs\n",
    "    print(\"Unique jobs:\")\n",
    "    for job in unique_jobs:\n",
    "        print(job)\n"
   ]
  },
  {
   "cell_type": "code",
   "execution_count": 11,
   "id": "5b61f8ed-3a40-4ca4-ae83-4c9262be9fc6",
   "metadata": {},
   "outputs": [
    {
     "name": "stdout",
     "output_type": "stream",
     "text": [
      "age\n",
      "job\n",
      "marital\n",
      "y\n"
     ]
    }
   ],
   "source": [
    "# This code is to know only the column names of the dataset\n",
    "import csv\n",
    "\n",
    "# Define the path to your CSV file\n",
    "file_path = r\"bank-data.csv\"  # Update with your actual file path\n",
    "\n",
    "# Read the CSV file\n",
    "with open(file_path, mode='r') as file:\n",
    "    csv_reader = csv.DictReader(file)\n",
    "    \n",
    "    # Get and print the column names (fieldnames)\n",
    "    column_names = csv_reader.fieldnames    # \".fieldnames\" this function to print the only column names of the dataset.\n",
    "    \n",
    "    # Print each column name on a new line\n",
    "    for column in column_names:\n",
    "        print(column)\n"
   ]
  },
  {
   "cell_type": "code",
   "execution_count": 17,
   "id": "82b8e0cf-24b9-441e-98eb-4ff07830102e",
   "metadata": {},
   "outputs": [
    {
     "name": "stdout",
     "output_type": "stream",
     "text": [
      "Headers: ['age', 'job', 'marital', 'y']\n",
      "{'age': '20', 'job': 'student', 'marital': 'single', 'y': 'yes'}\n",
      "{'age': '32', 'job': 'management', 'marital': 'single', 'y': 'yes'}\n",
      "{'age': '49', 'job': 'technician', 'marital': 'married', 'y': 'yes'}\n",
      "{'age': '32', 'job': 'blue-collar', 'marital': 'married', 'y': 'yes'}\n",
      "{'age': '33', 'job': 'management', 'marital': 'married', 'y': 'yes'}\n"
     ]
    }
   ],
   "source": [
    "import csv\n",
    "\n",
    "# Define the path to your CSV file\n",
    "file_path = r\"bank-data.csv\"  # Update with your actual file path\n",
    "\n",
    "# Read the CSV file\n",
    "with open(file_path, mode='r') as file:\n",
    "    csv_reader = csv.DictReader(file)\n",
    "\n",
    "    # Print the headers (column names)\n",
    "    print(\"Headers:\", csv_reader.fieldnames)\n",
    "\n",
    "    # Counter to limit to the first five rows of the dataset, break the loop while the count reaches to \"5th\" row.\n",
    "    \n",
    "    count = 0\n",
    "    for row in csv_reader:\n",
    "        print(row)\n",
    "        count += 1\n",
    "        if count == 5:  # Stop after printing 5 rows\n",
    "            break\n"
   ]
  },
  {
   "cell_type": "code",
   "execution_count": 39,
   "id": "72ed37ae-d5b3-4424-b120-ab6d62aea80f",
   "metadata": {},
   "outputs": [
    {
     "name": "stdout",
     "output_type": "stream",
     "text": [
      "Headers: ['Name', 'blacklisted']\n",
      "{'Name': ' Mr. Owen Harris ', 'blacklisted': '1'}\n",
      "{'Name': ' Miss. Laina ', 'blacklisted': '0'}\n",
      "{'Name': ' Mr. William Henry ', 'blacklisted': '0'}\n",
      "{'Name': ' Mr. James ', 'blacklisted': '0'}\n",
      "{'Name': ' Mr. Timothy J ', 'blacklisted': '0'}\n"
     ]
    }
   ],
   "source": [
    "import csv\n",
    "\n",
    "# Define the path to your CSV file\n",
    "file_path = r\"FairDealCustomerData.csv\"  # Update with your actual file path\n",
    "\n",
    "# Read the CSV file\n",
    "with open(file_path, mode='r') as file:\n",
    "    csv_reader = csv.DictReader(file)\n",
    "    # Print the headers (column names)\n",
    "    print(\"Headers:\", csv_reader.fieldnames)\n",
    "\n",
    "    count = 0\n",
    "    for row in csv_reader:\n",
    "        print(row)\n",
    "        count += 1\n",
    "        if count == 5:  # Stop after printing 5 rows\n",
    "            break\n"
   ]
  },
  {
   "cell_type": "code",
   "execution_count": 43,
   "id": "2c7dc5b2-8170-4281-ae21-ef431e09dfa0",
   "metadata": {},
   "outputs": [
    {
     "name": "stdout",
     "output_type": "stream",
     "text": [
      "Headers: ['Name', 'blacklisted']\n",
      "Name:  Mr. Owen Harris \n",
      "Name:  Miss. Laina \n",
      "Name:  Mr. William Henry \n",
      "Name:  Mr. James \n",
      "Name:  Mr. Timothy J \n",
      "Name:  Miss. Elizabeth \n",
      "Name:  Mr. Anders Johan \n",
      "Name:  Mr. Charles Eugene \n",
      "Name:  Mrs. Fatima \n",
      "Name:  Mr. Joseph J \n",
      "Name:  Mr. Lawrence \n",
      "Name:  Mr. William Thompson \n",
      "Name:  Mr. Farred Chehab \n",
      "Name:  Mr. Lalio \n",
      "Name:  Don. Manuel E \n",
      "Name:  Miss. Mary Agatha \n",
      "Name:  Mr. Edward H \n",
      "Name:  Mr. Edgar Joseph \n",
      "Name:  Mr. Alexander Oskar \n",
      "Name:  Mr. Hanna \n",
      "Name:  Mr. Theodor \n",
      "Name: Name\n",
      "Name:  Mr. William John \n",
      "Name:  Mr. Denis \n",
      "Name:  Mr. Youssef \n",
      "Name:  Mr. Engelhart Cornelius \n",
      "Name:  Mr. Hugh \n",
      "Name:  Mr. Mansouer \n",
      "Name:  Mr. Orsen \n",
      "Name:  Miss. Amelie \n",
      "Name:  Mr. Henry Birkhardt \n",
      "Name:  Mr. Albert A \n",
      "Name:  Master. Gerios \n",
      "Name:  Mr. Vincenz \n",
      "Name:  Mr. Stephen Curnow \n",
      "Name:  Mr. Apostolos \n",
      "Name:  Mr. Lee \n",
      "Name:  Mr. Sigurd Hansen \n",
      "Name:  Mr. Ivan \n",
      "Name:  Mr. Rahamin Haim \n",
      "Name:  Miss. Elizabeth \n",
      "Name:  Mr. Achille \n",
      "Name:  Mr. Jan Baptist \n",
      "Name:  Miss. Brigdet Delia \n",
      "Name:  Mr. Francisco M \n",
      "Name:  Mr. Selman Francis \n",
      "Name:  Miss. Mabel Helen \n",
      "Name:  Mr. Francesco \n",
      "Name:  Mr. Emil \n",
      "Name:  Mr. Herbert Fuller \n",
      "Name:  Mr. Bertram Frank \n",
      "Name:  Mr. Daniel \n",
      "Name:  Mr. Charles Joseph \n",
      "Name:  Mr. George B \n",
      "Name:  Mr. William Bertram \n",
      "Name:  Mr. Sinai \n",
      "Name:  Miss. Matilda \n",
      "Name:  Mr. Gustaf Joel \n",
      "Name:  Mr. Anders Vilhelm \n",
      "Name:  Mr. Stoytcho \n",
      "Name:  Mr. Albert Johan \n",
      "Name:  Mr. Tido \n",
      "Name:  Miss. Bertha \n",
      "Name:  Mr. Walter Chamberlain \n",
      "Name:  Mr. David John \n",
      "Name:  Mr. Patrick \n",
      "Name:  Mr. William John Robert \n",
      "Name:  Mr. Quigg Edmond \n",
      "Name:  Mr. Leonard Charles \n",
      "Name:  Mr. Nicholas \n",
      "Name:  Miss. Susan \n",
      "Name:  Mr. Percival Wayland \n",
      "Name:  Mr. Martin \n",
      "Name:  Mr. Fridtjof Arne \n",
      "Name:  Miss. Anna \n",
      "Name:  Mr. Johan \n",
      "Name:  Mr. Jozef \n",
      "Name:  Mr. Samuel James Hayden \n",
      "Name:  Mr. Emile \n",
      "Name:  Mr. Jacques Heath \n",
      "Name:  Mr. Victor \n",
      "Name:  Miss. Anna Sofia \n",
      "Name:  Rev. Thomas Roussel Davids \n",
      "Name:  Rev. Robert James \n",
      "Name:  Mr. Alfonzo \n",
      "Name:  Mr. Austin Blyler \n",
      "Name:  Mr. Ole Martin \n",
      "Name:  Mr. Charles Duane \n",
      "Name:  Mr. Harry \n",
      "Name:  Mr. Mile \n",
      "Name:  Master. Thomas Henry \n",
      "Name:  Mr. John Hatfield \n",
      "Name:  Mr. John Viktor \n",
      "Name:  Mr. John D \n",
      "Name:  Mr. Lee \n",
      "Name:  Mr. Wyckoff \n",
      "Name:  Mr. James Clinch \n",
      "Name:  Master. Henry Forbes \n",
      "Name:  Miss. Ann Elizabeth \n",
      "Name:  Mr. Reginald \n",
      "Name:  Mr. Lionel \n",
      "Name:  Miss. Constance Gladys \n",
      "Name:  Mr. Rene \n",
      "Name:  Mr. Hugh Roscoe \n",
      "Name:  Mr. John \n",
      "Name:  Mr. Stjepan \n",
      "Name:  Miss. Elise \n",
      "Name:  Mr. Robert \n",
      "Name:  Mr. Karl Siegwart Andreas \n",
      "Name:  Mr. Nestor Cyriel \n",
      "Name:  Mr. Frederick \n",
      "Name:  Mr. Jakob Alfred \n",
      "Name:  Mr. Gerious \n",
      "Name:  Mr. Karl Alfred \n",
      "Name:  Mr. Nassef Cassem \n",
      "Name:  Mr. Henry \n",
      "Name:  Mr. Ahmed \n",
      "Name:  Miss. Clear Annie \n",
      "Name:  Mr. John Henry \n",
      "Name:  Mr. Hans Kristensen \n",
      "Name:  Mr. Philip \n",
      "Name:  Miss. Madeleine \n",
      "Name:  Miss. Eliina \n",
      "Name:  Mr. Sidney Samuel \n",
      "Name:  Miss. Albina \n",
      "Name:  Mr. Walter \n",
      "Name:  Mr. James H \n",
      "Name:  Mr. George Henry \n",
      "Name:  Mr. Christo \n",
      "Name:  Mr. Frederick Maxfield \n",
      "Name:  Mr. Karl Ivar Sven \n",
      "Name:  Miss. Mathilde \n",
      "Name:  Mr. Bengt Edvin \n",
      "Name:  Mr. Ernst Adolf \n",
      "Name:  Mr. Robert William Norman \n",
      "Name:  Miss. Alice Phoebe \n",
      "Name:  Mr. Stephen \n",
      "Name:  Mr. George Henry \n",
      "Name:  Miss. Thamine \n",
      "Name:  Mr. Reginald Charles \n",
      "Name:  Mr. Matti Alexanteri \n",
      "Name:  Mr. Sleiman \n",
      "Name:  Dr. William Edward \n",
      "Name:  Miss. Agda Thorilda Viktoria \n",
      "Name:  Mr. Richard Leonard \n",
      "Name:  Rev. Ernest Courtenay \n",
      "Name:  Mr. James George \n",
      "Name:  Mr. William Thomas \n",
      "Name:  Mr. William Arthur \n",
      "Name:  Mrs. Gertrude Maybelle \n",
      "Name:  Miss. Gladys \n",
      "Name:  Miss. Anna \n",
      "Name:  Mr. Thomas \n",
      "Name:  Mr. Emil \n",
      "Name:  Mr. William \n",
      "Name:  Miss. Delia \n",
      "Name:  Mr. David \n",
      "Name:  Mr. Ernst Ulrik \n",
      "Name:  Miss. Amelia \n",
      "Name:  Mr. Alexander \n",
      "Name:  Mr. William Henry \n",
      "Name:  Mr. Charles H \n",
      "Name:  Miss. Kornelia Theodosia \n",
      "Name:  Miss. Augusta Charlotta \n",
      "Name:  Mr. Frank \n",
      "Name:  Mr. Nils Johan Goransson \n",
      "Name:  Mr. Richard William \n",
      "Name:  Mr. Ivan \n",
      "Name:  Mr. Theodore \n",
      "Name:  Mr. Penko \n",
      "Name:  Mr. Masabumi \n",
      "Name:  Miss. Kate \n",
      "Name:  Mr. Rene Jacques \n",
      "Name:  Miss. Aloisia \n",
      "Name:  Mr. Ivan \n",
      "Name:  Mr. Ervin G \n",
      "Name:  Mr. Mansour \n",
      "Name:  Mr. Adolphe \n",
      "Name:  Mr. Bernard \n",
      "Name:  Miss. Nora A \n",
      "Name:  Miss. Margaret \n",
      "Name:  Mr. Samuel \n",
      "Name:  Miss. Laura Mabel \n",
      "Name:  Miss. Margaret Bechstein \n",
      "Name:  Mr. Ignjac \n",
      "Name:  Mr. Benjamin \n",
      "Name:  Miss. Helmina Josefina \n",
      "Name:  Dr. Ernest \n",
      "Name:  Miss. Mary Natalie \n",
      "Name:  Mr. Samuel \n",
      "Name:  Mr. Yoto \n",
      "Name:  Miss. Hilda Mary \n",
      "Name:  Mr. George John Jr \n",
      "Name:  Miss. Marie Grice \n",
      "Name:  Mr. Johan Hansen \n",
      "Name:  Miss. Agnes \n",
      "Name:  Mr. Austen \n",
      "Name:  Mr. George Edward \n",
      "Name:  Mr. Mitto \n",
      "Name:  Mr. Thomas Clinton \n",
      "Name:  Miss. Elizabeth Margaret \n",
      "Name:  Mr. Karl Edwart \n",
      "Name:  Mr. Stephen Weart \n",
      "Name:  Miss. Alice Elizabeth \n",
      "Name:  Mr. Erik Gustaf \n",
      "Name:  Mr. Charles Frederick Waddington \n",
      "Name:  Mr. Stanley Hubert \n",
      "Name:  Miss. Marion Elsie \n",
      "Name:  Mr. Jovan \n",
      "Name:  Mr. Nils Martin \n",
      "Name:  Mr. Fletcher Fellows \n",
      "Name:  Mr. Josef \n",
      "Name:  Mr. Wazli \n",
      "Name:  Mr. Leo Peter \n",
      "Name:  Miss. Elsie Edith \n",
      "Name:  Miss. Annie Clemmer \n",
      "Name:  Miss. Mary \n",
      "Name:  Mr. Wilhelm \n",
      "Name:  Mr. Sebastiano \n",
      "Name:  Mr. Adola \n",
      "Name:  Mr. Mauritz Nils Martin \n",
      "Name:  Miss. Annie \n",
      "Name:  Mme. Leontine Pauline \n",
      "Name:  Mr. George Achilles \n",
      "Name:  Mr. Sante \n",
      "Name:  Miss. Aurora Adelia \n",
      "Name:  Mr. Harry Elkins \n",
      "Name:  Miss. Rosalie \n",
      "Name:  Mr. Juho \n",
      "Name:  Mr. Vasil \n",
      "Name:  Miss. Kate \n",
      "Name:  Mr. Matthew \n",
      "Name:  Mr. William Ernest \n",
      "Name:  Mr. Johan Birger \n",
      "Name:  Miss. Marjorie \n",
      "Name:  Mr. Erik \n",
      "Name:  Miss. Elina \n",
      "Name:  Mr. Peter David \n",
      "Name:  Dr. Alfred \n",
      "Name:  Mr. Juha \n",
      "Name:  Mr. John \n",
      "Name:  Mr. Pekka Pietari \n",
      "Name:  Mr. Shadrach \n",
      "Name:  Mr. Carl/Charles Peter \n",
      "Name:  Miss. Ida \n",
      "Name:  Mr. Todor \n",
      "Name:  Mr. Henry \n",
      "Name:  Miss. Daisy E \n",
      "Name:  Mr. Alfred Fleming \n",
      "Name:  Mr. Johan Julian \n",
      "Name:  Mr. William John \n",
      "Name:  Mr. Stanio \n",
      "Name:  Mr. Leo \n",
      "Name:  Mr. Phillippe \n",
      "Name:  Mr. James \n",
      "Name:  Mr. Mauritz Hakan \n",
      "Name:  Mr. William Baird \n",
      "Name:  Mr. Mark \n",
      "Name:  Mr. Johan Henrik Johannesson \n",
      "Name:  Mr. Johan Emil \n",
      "Name:  Ms. Encarnacion \n",
      "Name:  Mr. Bernt \n",
      "Name:  Mr. Frederic Kimber \n",
      "Name:  Major. Arthur Godfrey \n",
      "Name:  Mr. Edwy Arthur \n",
      "Name:  Mr. Ingvald Olai Olsen \n",
      "Name:  Mr. Benjamin Laventall \n",
      "Name:  Mr. Samuel L \n",
      "Name:  Mr. Joseph \n",
      "Name:  Mr. Ivan \n",
      "Name:  Mr. Francis Davis \n",
      "Name:  Miss. Ellen \n",
      "Name:  Mr. Harry \n",
      "Name:  Mr. William \n",
      "Name:  Mr. Arthur H \n",
      "Name:  Mr. Jacob Christian \n",
      "Name:  Mr. Simon \n",
      "Name:  Mr. Manuel Estanslas \n",
      "Name:  Mr. William \n",
      "Name:  Mr. John Montgomery \n",
      "Name:  Mr. James \n",
      "Name:  Mr. Arthur \n",
      "Name:  Mr. Luka \n",
      "Name:  Miss. Ida Sofia \n",
      "Name:  Mr. George Quincy \n",
      "Name:  Mr. Peter Henry \n",
      "Name:  Mr. Lewis Richard \n",
      "Name:  Mr. Nils August \n",
      "Name:  Mr. Richard Henry \n",
      "Name:  Mr. Dickinson H \n",
      "Name:  Miss. Jeannie \n",
      "Name:  Mr. Edward Austin \n",
      "Name:  Mr. Francis William \n",
      "Name:  Mr. Konrad Mathias Reiersen \n",
      "Name:  Mr. Harry Markland \n",
      "Name:  Mr. Ramon \n",
      "Name:  Mr. Gerious \n",
      "Name:  Miss. Elizabeth Mussey \n",
      "Name:  Mr. Frederick William \n",
      "Name:  Mr. Olof \n",
      "Name:  Miss. Kristina Sofia \n",
      "Name:  Mr. Henry Margido \n",
      "Name:  Mr. Fang \n",
      "Name:  Mr. Eugene Patrick \n",
      "Name:  Mr. James \n",
      "Name:  Mr. James Robert \n",
      "Name:  Mr. Satio \n",
      "Name:  Mr. William Anderson \n",
      "Name:  Mr. Patrick \n",
      "Name:  Mr. Stefo \n",
      "Name:  Miss. Anne \n",
      "Name:  Mr. Janko \n",
      "Name:  Mr. Sarkis \n",
      "Name:  Mr. Fared \n",
      "Name:  Mr. James \n",
      "Name:  Miss. Lucy \n",
      "Name:  Mr. John \n",
      "Name:  Mr. Johan Werner \n",
      "Name:  Mr. Richard George \n",
      "Name:  Mr. Nakli \n",
      "Name:  Miss. Marija \n",
      "Name:  Major. Archibald Willingham \n",
      "Name:  Miss. Bertha \n",
      "Name:  Mr. Samuel Beard \n",
      "Name:  Miss. Hedwig Margaritha \n",
      "Name:  Miss. Harriet R \n",
      "Name:  Mr. Edward \n",
      "Name:  Mr. Walter Donald \n",
      "Name:  Mr. Arthur Ernest \n",
      "Name:  Mr. Julian \n",
      "Name:  Mr. Frank John \n",
      "Name:  Mr. Percival James R \n",
      "Name:  Miss. Velin \n",
      "Name:  Mr. George \n",
      "Name:  Mr. Victor \n",
      "Name:  Mr. Thomas Rowan \n",
      "Name:  Mr. Husein \n",
      "Name:  Mr. Robert Douglas \n",
      "Name:  Mr. John \n",
      "Name:  Mr. Alfred J \n",
      "Name:  Mr. Tannous \n",
      "Name:  Mr. Carl \n",
      "Name:  Mr. George \n",
      "Name:  Miss. Mary \n",
      "Name:  Miss. Ethel \n",
      "Name:  Mr. Eiriik \n",
      "Name:  Miss. Julie Rachel \n",
      "Name:  Mr. William James \n",
      "Name:  Mr. John Hugo \n",
      "Name:  Mr. Uscher \n",
      "Name:  Mr. John Denzil \n",
      "Name:  Mr. Maxmillian \n",
      "Name:  Mr. Eliezer \n",
      "Name:  Mr. Joseph \n",
      "Name:  Mr. Matti \n",
      "Name:  Mr. William James \n",
      "Name:  Miss. Mary \n",
      "Name:  Mr. John Henry \n",
      "Name:  Mr. Jean Baptiste \n",
      "Name:  Miss. Jessie Wills \n",
      "Name:  Mr. Alfred \n",
      "Name:  Mr. Hanna \n",
      "Name:  Mr. Petco \n",
      "Name:  Mr. Charles H \n",
      "Name:  Mr. Ernst William \n",
      "Name:  Mr. Edvard Bengtsson \n",
      "Name:  Mr. Milan \n",
      "Name:  Mr. Robert Williams \n",
      "Name:  Miss. Elizabeth W \n",
      "Name:  Mr. Jose Neto \n",
      "Name:  Miss. Margaret Jane \n",
      "Name:  Mr. John \n",
      "Name:  Mr. William Alfred \n",
      "Name:  Miss. Alice \n",
      "Name:  Mr. Ernst Gilbert \n",
      "Name:  Mr. Lawrence \n",
      "Name:  Mr. Antoni \n",
      "Name:  Mr. Edwin Nelson Jr \n",
      "Name:  Mr. Frederick \n",
      "Name:  Rev. Charles Leonard \n",
      "Name:  Mr. Guentcho \n",
      "Name:  Mr. Algernon Henry Wilson \n",
      "Name:  Mr. Johan Svensson \n",
      "Name:  Dr. Max \n",
      "Name:  Mr. William Henry Marsh \n",
      "Name:  Miss. Mary \n",
      "Name:  Mr. Antti Gustaf \n",
      "Name:  Mr. Harvey \n",
      "Name:  Mr. Percival \n",
      "Name:  Mlle. Emma \n",
      "Name:  Mr. Choong \n",
      "Name:  Mr. Henry Sleeper \n",
      "Name:  Col. Oberst Alfons \n",
      "Name:  Mr. Edward \n",
      "Name:  Miss. Amy Zillah Elsie \n",
      "Name:  Mr. Mito \n",
      "Name:  Mr. Leonard Mark \n",
      "Name:  Mr. Alexander \n",
      "Name:  Mr. George Floyd \n",
      "Name:  Mr. Arthur Webster \n",
      "Name:  Dr. Henry William \n",
      "Name:  Mr. Mohamed \n",
      "Name:  Mr. Edward Pomeroy \n",
      "Name:  Mr. Peju \n",
      "Name:  Mr. Lewis \n",
      "Name:  Mr. Reginald Fenton \n",
      "Name:  Mr. Knud Paust \n",
      "Name:  Mr. Jacob \n",
      "Name:  Mr. Thornton \n",
      "Name:  Mr. Henry Michael \n",
      "Name:  Mr. Charles \n",
      "Name:  Mr. Ennis Hastings \n",
      "Name:  Mr. Frederick Charles \n",
      "Name:  Mr. Thomas Drake Martinez \n",
      "Name:  Miss. Katie \n",
      "Name:  Mr. Hammad \n",
      "Name:  Mr. Thomas William Solomon \n",
      "Name:  Mr. Joseph Philippe Lemercier \n",
      "Name:  Mr. Albert Adrian \n",
      "Name:  Mr. Ali \n",
      "Name:  Mr. Khalil \n",
      "Name:  Col. John \n",
      "Name:  Mr. Charles Henry \n",
      "Name:  Mr. James \n",
      "Name:  Mr. John Borland \n",
      "Name:  Mr. Adolf Mathias Nicolai Olsen \n",
      "Name:  Mr. Spencer Victor \n",
      "Name:  Mr. Martin \n",
      "Name:  Mr. Henrik Juul \n",
      "Name:  Mr. Edward Pennington \n",
      "Name:  Miss. Alice \n",
      "Name:  Mr. Herman \n",
      "Name:  Mr. Elmer Zebley \n",
      "Name:  Mr. August Viktor \n",
      "Name:  Mr. Samuel \n",
      "Name:  Miss. Caroline Louise \n",
      "Name:  Mr. Michael \n",
      "Name:  Mr. Malkolm Joackim \n",
      "Name:  Mr. William Henry \n",
      "Name:  Mr. Henry Price \n",
      "Name:  Mr. Norman Campbell \n",
      "Name:  Miss. Margareth \n",
      "Name:  Mr. Kurt Arnold Gottfrid \n",
      "Name:  Miss. Pieta Sofia \n",
      "Name:  Miss. Elisabeth Walton \n",
      "Name:  Mr. Robert J \n",
      "Name:  Mr. William John \n",
      "Name:  Mr. Moses Aaron \n",
      "Name:  Mr. Leslie \n",
      "Name:  Mr. Gustave J \n",
      "Name:  Mr. Kanio \n",
      "Name:  Mr. Minko \n",
      "Name:  Mr. Walter James \n",
      "Name:  Mr. Tyrell William \n",
      "Name:  Mr. Neal \n",
      "Name:  Mr. Juho \n",
      "Name:  Capt. Edward Gifford \n",
      "Name:  Miss. Anna \n",
      "Name:  Mr. Michael \n",
      "Name:  Mr. Johannes Joseph \n",
      "Name:  Mr. Lalio \n",
      "Name:  Mr. August Sigfrid \n",
      "Name:  Mr. Thomas Leonard \n",
      "Name:  Mr. John \n",
      "Name:  Mr. Iisakki Antino Aijo \n",
      "Name:  Dr. Arthur Jackson \n",
      "Name:  Miss. Mary \n",
      "Name:  Mr. Daniel J \n",
      "Name:  Mr. Daniel Danielsen \n",
      "Name:  Mr. Rene Aime \n",
      "Name:  Mr. Niels Peder \n",
      "Name:  Mr. Dibo \n",
      "Name:  Mr. Roger \n",
      "Name:  Mr. Thomas J \n",
      "Name:  Mr. Milton Clyde \n",
      "Name:  Mr. Andrew G \n",
      "Name:  Mr. William \n",
      "Name:  Mr. Benjamin \n",
      "Name:  Miss. Stella Anna \n",
      "Name:  Mr. William Fisher \n",
      "Name:  Mr. Ristiu \n",
      "Name:  Mr. Richard \n",
      "Name:  Mrs. Mara \n",
      "Name:  Mr. Yousseff \n",
      "Name:  Mr. Martin \n",
      "Name:  Mr. Oskar Arvid \n",
      "Name:  Mr. Karl Johan \n",
      "Name:  Mr. Thomas Jr \n",
      "Name:  Mr. August \n",
      "Name:  Mr. William \n",
      "Name:  Mr. James \n",
      "Name:  Mr. Richard James \n",
      "Name:  Mr. Ernest Portage \n",
      "Name:  Mr. Richard \n",
      "Name:  Miss. Wendla Maria \n",
      "Name:  Mr. Albert \n",
      "Name:  Mr. John Fredrik Alexander \n",
      "Name:  Mr. Nikola \n",
      "Name:  Jonkheer. John George \n",
      "Name:  Mr. John \n",
      "Name:  Mr. Len \n",
      "Name:  Mr. Thomas Joseph \n",
      "Name:  Mr. Amin \n",
      "Name:  Mr. Albert \n",
      "Name:  Miss. Sara Rebecca \n",
      "Name:  Mr. Maurice \n",
      "Name:  Mr. Chang \n",
      "Name:  Mr. Pierre \n",
      "Name:  Miss. Augusta \n",
      "Name:  Mr. Peter L \n",
      "Name:  Mr. Anthony \n",
      "Name:  Mr. Douglas Bullen \n",
      "Name:  Mr. Marin \n",
      "Name:  Rev. John \n",
      "Name:  Mr. Johan \n",
      "Name:  Mr. Peter Denis  \n",
      "Name:  Mr. Raihed \n",
      "Name:  Mr. Claus Peter \n",
      "Name:  Mr. John William \n",
      "Name:  Miss. Asuncion \n",
      "Name:  Mr. Washington Augustus II \n",
      "Name:  Mr. Philemon \n",
      "Name:  Mr. Cerin \n",
      "Name:  Mr. Frans Olof \n",
      "Name:  Mr. Victor \n",
      "Name:  Mr. Kristo \n",
      "Name:  Mr. Johann \n",
      "Name:  Miss. Gerda Ulrika \n",
      "Name:  Mr. Frederick James \n",
      "Name:  Mr. Henry Jr \n",
      "Name:  Rev. Juozas \n",
      "Name:  Mr. Karl Howell \n",
      "Name:  Mr. Patrick \n"
     ]
    }
   ],
   "source": [
    "import csv\n",
    "\n",
    "# Define the path to your CSV file\n",
    "file_path = r\"FairDealCustomerData.csv\"  # Update with your actual file path\n",
    "\n",
    "# Read the CSV file\n",
    "with open(file_path, mode='r') as file:\n",
    "    csv_reader = csv.DictReader(file)\n",
    "    \n",
    "    # Print the headers (column names)\n",
    "    print(\"Headers:\", csv_reader.fieldnames)\n",
    "\n",
    "    for row in csv_reader:\n",
    "        # Print the value in the 'name' column for the current dataset\n",
    "        print(f\"Name: {row['Name']}\")\n"
   ]
  },
  {
   "cell_type": "code",
   "execution_count": 53,
   "id": "360d6078-0479-4026-92ba-7fb398d06193",
   "metadata": {},
   "outputs": [
    {
     "name": "stdout",
     "output_type": "stream",
     "text": [
      "Skipping invalid entry: ['Name', 'Blacklist']\n",
      "Customer  Mr. Owen Harris  is blacklisted and cannot create an order.\n",
      "Order for customer  Miss. Laina  has been successfully created.\n",
      "Order for customer  Mr. William Henry  has been successfully created.\n",
      "Order for customer  Mr. James  has been successfully created.\n",
      "Order for customer  Mr. Timothy J  has been successfully created.\n",
      "Order for customer  Miss. Elizabeth  has been successfully created.\n",
      "Order for customer  Mr. Anders Johan  has been successfully created.\n",
      "Customer  Mr. Charles Eugene  is blacklisted and cannot create an order.\n",
      "Order for customer  Mrs. Fatima  has been successfully created.\n",
      "Order for customer  Mr. Joseph J  has been successfully created.\n",
      "Order for customer  Mr. Lawrence  has been successfully created.\n",
      "Order for customer  Mr. William Thompson  has been successfully created.\n",
      "Order for customer  Mr. Farred Chehab  has been successfully created.\n",
      "Order for customer  Mr. Lalio  has been successfully created.\n",
      "Customer  Don. Manuel E  is blacklisted and cannot create an order.\n",
      "Order for customer  Miss. Mary Agatha  has been successfully created.\n",
      "Order for customer  Mr. Edward H  has been successfully created.\n",
      "Order for customer  Mr. Edgar Joseph  has been successfully created.\n",
      "Order for customer  Mr. Alexander Oskar  has been successfully created.\n",
      "Order for customer  Mr. Hanna  has been successfully created.\n",
      "Order for customer  Mr. Theodor  has been successfully created.\n",
      "Customer  Mr. William John  is blacklisted and cannot create an order.\n",
      "Order for customer  Mr. Denis  has been successfully created.\n",
      "Order for customer  Mr. Youssef  has been successfully created.\n",
      "Order for customer  Mr. Engelhart Cornelius  has been successfully created.\n",
      "Order for customer  Mr. Hugh  has been successfully created.\n",
      "Order for customer  Mr. Mansouer  has been successfully created.\n",
      "Order for customer  Mr. Orsen  has been successfully created.\n",
      "Customer  Miss. Amelie  is blacklisted and cannot create an order.\n",
      "Order for customer  Mr. Henry Birkhardt  has been successfully created.\n",
      "Order for customer  Mr. Albert A  has been successfully created.\n",
      "Order for customer  Master. Gerios  has been successfully created.\n",
      "Order for customer  Mr. Vincenz  has been successfully created.\n",
      "Order for customer  Mr. Stephen Curnow  has been successfully created.\n",
      "Order for customer  Mr. Apostolos  has been successfully created.\n",
      "Customer  Mr. Lee  is blacklisted and cannot create an order.\n",
      "Order for customer  Mr. Sigurd Hansen  has been successfully created.\n",
      "Order for customer  Mr. Ivan  has been successfully created.\n",
      "Order for customer  Mr. Rahamin Haim  has been successfully created.\n",
      "Order for customer  Miss. Elizabeth  has been successfully created.\n",
      "Order for customer  Mr. Achille  has been successfully created.\n",
      "Order for customer  Mr. Jan Baptist  has been successfully created.\n",
      "Customer  Miss. Brigdet Delia  is blacklisted and cannot create an order.\n",
      "Order for customer  Mr. Francisco M  has been successfully created.\n",
      "Order for customer  Mr. Selman Francis  has been successfully created.\n",
      "Order for customer  Miss. Mabel Helen  has been successfully created.\n",
      "Order for customer  Mr. Francesco  has been successfully created.\n",
      "Order for customer  Mr. Emil  has been successfully created.\n",
      "Order for customer  Mr. Herbert Fuller  has been successfully created.\n",
      "Customer  Mr. Bertram Frank  is blacklisted and cannot create an order.\n",
      "Order for customer  Mr. Daniel  has been successfully created.\n",
      "Order for customer  Mr. Charles Joseph  has been successfully created.\n",
      "Order for customer  Mr. George B  has been successfully created.\n",
      "Order for customer  Mr. William Bertram  has been successfully created.\n",
      "Order for customer  Mr. Sinai  has been successfully created.\n",
      "Order for customer  Miss. Matilda  has been successfully created.\n",
      "Customer  Mr. Gustaf Joel  is blacklisted and cannot create an order.\n",
      "Order for customer  Mr. Anders Vilhelm  has been successfully created.\n",
      "Order for customer  Mr. Stoytcho  has been successfully created.\n",
      "Order for customer  Mr. Albert Johan  has been successfully created.\n",
      "Order for customer  Mr. Tido  has been successfully created.\n",
      "Order for customer  Miss. Bertha  has been successfully created.\n",
      "Order for customer  Mr. Walter Chamberlain  has been successfully created.\n",
      "Customer  Mr. David John  is blacklisted and cannot create an order.\n",
      "Order for customer  Mr. Patrick  has been successfully created.\n",
      "Order for customer  Mr. William John Robert  has been successfully created.\n",
      "Order for customer  Mr. Quigg Edmond  has been successfully created.\n",
      "Order for customer  Mr. Leonard Charles  has been successfully created.\n",
      "Order for customer  Mr. Nicholas  has been successfully created.\n",
      "Order for customer  Miss. Susan  has been successfully created.\n",
      "Customer  Mr. Percival Wayland  is blacklisted and cannot create an order.\n",
      "Order for customer  Mr. Martin  has been successfully created.\n",
      "Order for customer  Mr. Fridtjof Arne  has been successfully created.\n",
      "Order for customer  Miss. Anna  has been successfully created.\n",
      "Order for customer  Mr. Johan  has been successfully created.\n",
      "Order for customer  Mr. Jozef  has been successfully created.\n",
      "Order for customer  Mr. Samuel James Hayden  has been successfully created.\n",
      "Customer  Mr. Emile  is blacklisted and cannot create an order.\n",
      "Order for customer  Mr. Jacques Heath  has been successfully created.\n",
      "Order for customer  Mr. Victor  has been successfully created.\n",
      "Order for customer  Miss. Anna Sofia  has been successfully created.\n",
      "Order for customer  Rev. Thomas Roussel Davids  has been successfully created.\n",
      "Order for customer  Rev. Robert James  has been successfully created.\n",
      "Order for customer  Mr. Alfonzo  has been successfully created.\n",
      "Customer  Mr. Austin Blyler  is blacklisted and cannot create an order.\n",
      "Order for customer  Mr. Ole Martin  has been successfully created.\n",
      "Order for customer  Mr. Charles Duane  has been successfully created.\n",
      "Order for customer  Mr. Harry  has been successfully created.\n",
      "Order for customer  Mr. Mile  has been successfully created.\n",
      "Order for customer  Master. Thomas Henry  has been successfully created.\n",
      "Order for customer  Mr. John Hatfield  has been successfully created.\n",
      "Customer  Mr. John Viktor  is blacklisted and cannot create an order.\n",
      "Order for customer  Mr. John D  has been successfully created.\n",
      "Order for customer  Mr. Lee  has been successfully created.\n",
      "Order for customer  Mr. Wyckoff  has been successfully created.\n",
      "Order for customer  Mr. James Clinch  has been successfully created.\n",
      "Order for customer  Master. Henry Forbes  has been successfully created.\n",
      "Order for customer  Miss. Ann Elizabeth  has been successfully created.\n",
      "Customer  Mr. Reginald  is blacklisted and cannot create an order.\n",
      "Order for customer  Mr. Lionel  has been successfully created.\n",
      "Order for customer  Miss. Constance Gladys  has been successfully created.\n",
      "Order for customer  Mr. Rene  has been successfully created.\n",
      "Order for customer  Mr. Hugh Roscoe  has been successfully created.\n",
      "Order for customer  Mr. John  has been successfully created.\n",
      "Order for customer  Mr. Stjepan  has been successfully created.\n",
      "Customer  Miss. Elise  is blacklisted and cannot create an order.\n",
      "Order for customer  Mr. Robert  has been successfully created.\n",
      "Order for customer  Mr. Karl Siegwart Andreas  has been successfully created.\n",
      "Order for customer  Mr. Nestor Cyriel  has been successfully created.\n",
      "Order for customer  Mr. Frederick  has been successfully created.\n",
      "Order for customer  Mr. Jakob Alfred  has been successfully created.\n",
      "Order for customer  Mr. Gerious  has been successfully created.\n",
      "Customer  Mr. Karl Alfred  is blacklisted and cannot create an order.\n",
      "Order for customer  Mr. Nassef Cassem  has been successfully created.\n",
      "Order for customer  Mr. Henry  has been successfully created.\n",
      "Order for customer  Mr. Ahmed  has been successfully created.\n",
      "Order for customer  Miss. Clear Annie  has been successfully created.\n",
      "Order for customer  Mr. John Henry  has been successfully created.\n",
      "Order for customer  Mr. Hans Kristensen  has been successfully created.\n",
      "Customer  Mr. Philip  is blacklisted and cannot create an order.\n",
      "Order for customer  Miss. Madeleine  has been successfully created.\n",
      "Order for customer  Miss. Eliina  has been successfully created.\n",
      "Order for customer  Mr. Sidney Samuel  has been successfully created.\n",
      "Order for customer  Miss. Albina  has been successfully created.\n",
      "Order for customer  Mr. Walter  has been successfully created.\n",
      "Order for customer  Mr. James H  has been successfully created.\n",
      "Customer  Mr. George Henry  is blacklisted and cannot create an order.\n",
      "Order for customer  Mr. Christo  has been successfully created.\n",
      "Order for customer  Mr. Frederick Maxfield  has been successfully created.\n",
      "Order for customer  Mr. Karl Ivar Sven  has been successfully created.\n",
      "Order for customer  Miss. Mathilde  has been successfully created.\n",
      "Order for customer  Mr. Bengt Edvin  has been successfully created.\n",
      "Order for customer  Mr. Ernst Adolf  has been successfully created.\n",
      "Customer  Mr. Robert William Norman  is blacklisted and cannot create an order.\n",
      "Order for customer  Miss. Alice Phoebe  has been successfully created.\n",
      "Order for customer  Mr. Stephen  has been successfully created.\n",
      "Order for customer  Mr. George Henry  has been successfully created.\n",
      "Order for customer  Miss. Thamine  has been successfully created.\n",
      "Order for customer  Mr. Reginald Charles  has been successfully created.\n",
      "Order for customer  Mr. Matti Alexanteri  has been successfully created.\n",
      "Customer  Mr. Sleiman  is blacklisted and cannot create an order.\n",
      "Order for customer  Dr. William Edward  has been successfully created.\n",
      "Order for customer  Miss. Agda Thorilda Viktoria  has been successfully created.\n",
      "Order for customer  Mr. Richard Leonard  has been successfully created.\n",
      "Order for customer  Rev. Ernest Courtenay  has been successfully created.\n",
      "Order for customer  Mr. James George  has been successfully created.\n",
      "Order for customer  Mr. William Thomas  has been successfully created.\n",
      "Customer  Mr. William Arthur  is blacklisted and cannot create an order.\n",
      "Order for customer  Mrs. Gertrude Maybelle  has been successfully created.\n",
      "Order for customer  Miss. Gladys  has been successfully created.\n",
      "Order for customer  Miss. Anna  has been successfully created.\n",
      "Order for customer  Mr. Thomas  has been successfully created.\n",
      "Order for customer  Mr. Emil  has been successfully created.\n",
      "Order for customer  Mr. William  has been successfully created.\n",
      "Customer  Miss. Delia  is blacklisted and cannot create an order.\n",
      "Order for customer  Mr. David  has been successfully created.\n",
      "Order for customer  Mr. Ernst Ulrik  has been successfully created.\n",
      "Order for customer  Miss. Amelia  has been successfully created.\n",
      "Order for customer  Mr. Alexander  has been successfully created.\n",
      "Order for customer  Mr. William Henry  has been successfully created.\n",
      "Order for customer  Mr. Charles H  has been successfully created.\n",
      "Customer  Miss. Kornelia Theodosia  is blacklisted and cannot create an order.\n",
      "Order for customer  Miss. Augusta Charlotta  has been successfully created.\n",
      "Order for customer  Mr. Frank  has been successfully created.\n",
      "Order for customer  Mr. Nils Johan Goransson  has been successfully created.\n",
      "Order for customer  Mr. Richard William  has been successfully created.\n",
      "Order for customer  Mr. Ivan  has been successfully created.\n",
      "Order for customer  Mr. Theodore  has been successfully created.\n",
      "Customer  Mr. Penko  is blacklisted and cannot create an order.\n",
      "Order for customer  Mr. Masabumi  has been successfully created.\n",
      "Order for customer  Miss. Kate  has been successfully created.\n",
      "Order for customer  Mr. Rene Jacques  has been successfully created.\n",
      "Order for customer  Miss. Aloisia  has been successfully created.\n",
      "Order for customer  Mr. Ivan  has been successfully created.\n",
      "Order for customer  Mr. Ervin G  has been successfully created.\n",
      "Customer  Mr. Mansour  is blacklisted and cannot create an order.\n",
      "Order for customer  Mr. Adolphe  has been successfully created.\n",
      "Order for customer  Mr. Bernard  has been successfully created.\n",
      "Order for customer  Miss. Nora A  has been successfully created.\n",
      "Order for customer  Miss. Margaret  has been successfully created.\n",
      "Order for customer  Mr. Samuel  has been successfully created.\n",
      "Order for customer  Miss. Laura Mabel  has been successfully created.\n",
      "Customer  Miss. Margaret Bechstein  is blacklisted and cannot create an order.\n",
      "Order for customer  Mr. Ignjac  has been successfully created.\n",
      "Order for customer  Mr. Benjamin  has been successfully created.\n",
      "Order for customer  Miss. Helmina Josefina  has been successfully created.\n",
      "Order for customer  Dr. Ernest  has been successfully created.\n",
      "Order for customer  Miss. Mary Natalie  has been successfully created.\n",
      "Order for customer  Mr. Samuel  has been successfully created.\n",
      "Customer  Mr. Yoto  is blacklisted and cannot create an order.\n",
      "Order for customer  Miss. Hilda Mary  has been successfully created.\n",
      "Order for customer  Mr. George John Jr  has been successfully created.\n",
      "Order for customer  Miss. Marie Grice  has been successfully created.\n",
      "Order for customer  Mr. Johan Hansen  has been successfully created.\n",
      "Order for customer  Miss. Agnes  has been successfully created.\n",
      "Order for customer  Mr. Austen  has been successfully created.\n",
      "Customer  Mr. George Edward  is blacklisted and cannot create an order.\n",
      "Order for customer  Mr. Mitto  has been successfully created.\n",
      "Order for customer  Mr. Thomas Clinton  has been successfully created.\n",
      "Order for customer  Miss. Elizabeth Margaret  has been successfully created.\n",
      "Order for customer  Mr. Karl Edwart  has been successfully created.\n",
      "Order for customer  Mr. Stephen Weart  has been successfully created.\n",
      "Order for customer  Miss. Alice Elizabeth  has been successfully created.\n",
      "Customer  Mr. Erik Gustaf  is blacklisted and cannot create an order.\n",
      "Order for customer  Mr. Charles Frederick Waddington  has been successfully created.\n",
      "Order for customer  Mr. Stanley Hubert  has been successfully created.\n",
      "Order for customer  Miss. Marion Elsie  has been successfully created.\n",
      "Order for customer  Mr. Jovan  has been successfully created.\n",
      "Order for customer  Mr. Nils Martin  has been successfully created.\n",
      "Order for customer  Mr. Fletcher Fellows  has been successfully created.\n",
      "Customer  Mr. Josef  is blacklisted and cannot create an order.\n",
      "Order for customer  Mr. Wazli  has been successfully created.\n",
      "Order for customer  Mr. Leo Peter  has been successfully created.\n",
      "Order for customer  Miss. Elsie Edith  has been successfully created.\n",
      "Order for customer  Miss. Annie Clemmer  has been successfully created.\n",
      "Order for customer  Miss. Mary  has been successfully created.\n",
      "Order for customer  Mr. Wilhelm  has been successfully created.\n",
      "Customer  Mr. Sebastiano  is blacklisted and cannot create an order.\n",
      "Order for customer  Mr. Adola  has been successfully created.\n",
      "Order for customer  Mr. Mauritz Nils Martin  has been successfully created.\n",
      "Order for customer  Miss. Annie  has been successfully created.\n",
      "Order for customer  Mme. Leontine Pauline  has been successfully created.\n",
      "Order for customer  Mr. George Achilles  has been successfully created.\n",
      "Order for customer  Mr. Sante  has been successfully created.\n",
      "Customer  Miss. Aurora Adelia  is blacklisted and cannot create an order.\n",
      "Order for customer  Mr. Harry Elkins  has been successfully created.\n",
      "Order for customer  Miss. Rosalie  has been successfully created.\n",
      "Order for customer  Mr. Juho  has been successfully created.\n",
      "Order for customer  Mr. Vasil  has been successfully created.\n",
      "Order for customer  Miss. Kate  has been successfully created.\n",
      "Order for customer  Mr. Matthew  has been successfully created.\n",
      "Customer  Mr. William Ernest  is blacklisted and cannot create an order.\n",
      "Order for customer  Mr. Johan Birger  has been successfully created.\n",
      "Order for customer  Miss. Marjorie  has been successfully created.\n",
      "Order for customer  Mr. Erik  has been successfully created.\n",
      "Order for customer  Miss. Elina  has been successfully created.\n",
      "Order for customer  Mr. Peter David  has been successfully created.\n",
      "Order for customer  Dr. Alfred  has been successfully created.\n",
      "Customer  Mr. Juha  is blacklisted and cannot create an order.\n",
      "Order for customer  Mr. John  has been successfully created.\n",
      "Order for customer  Mr. Pekka Pietari  has been successfully created.\n",
      "Order for customer  Mr. Shadrach  has been successfully created.\n",
      "Order for customer  Mr. Carl/Charles Peter  has been successfully created.\n",
      "Order for customer  Miss. Ida  has been successfully created.\n",
      "Order for customer  Mr. Todor  has been successfully created.\n",
      "Customer  Mr. Henry  is blacklisted and cannot create an order.\n",
      "Order for customer  Miss. Daisy E  has been successfully created.\n",
      "Order for customer  Mr. Alfred Fleming  has been successfully created.\n",
      "Order for customer  Mr. Johan Julian  has been successfully created.\n",
      "Order for customer  Mr. William John  has been successfully created.\n",
      "Order for customer  Mr. Stanio  has been successfully created.\n",
      "Order for customer  Mr. Leo  has been successfully created.\n",
      "Customer  Mr. Phillippe  is blacklisted and cannot create an order.\n",
      "Order for customer  Mr. James  has been successfully created.\n",
      "Order for customer  Mr. Mauritz Hakan  has been successfully created.\n",
      "Order for customer  Mr. William Baird  has been successfully created.\n",
      "Order for customer  Mr. Mark  has been successfully created.\n",
      "Order for customer  Mr. Johan Henrik Johannesson  has been successfully created.\n",
      "Order for customer  Mr. Johan Emil  has been successfully created.\n",
      "Customer  Ms. Encarnacion  is blacklisted and cannot create an order.\n",
      "Order for customer  Mr. Bernt  has been successfully created.\n",
      "Order for customer  Mr. Frederic Kimber  has been successfully created.\n",
      "Order for customer  Major. Arthur Godfrey  has been successfully created.\n",
      "Order for customer  Mr. Edwy Arthur  has been successfully created.\n",
      "Order for customer  Mr. Ingvald Olai Olsen  has been successfully created.\n",
      "Order for customer  Mr. Benjamin Laventall  has been successfully created.\n",
      "Customer  Mr. Samuel L  is blacklisted and cannot create an order.\n",
      "Order for customer  Mr. Joseph  has been successfully created.\n",
      "Order for customer  Mr. Ivan  has been successfully created.\n",
      "Order for customer  Mr. Francis Davis  has been successfully created.\n",
      "Order for customer  Miss. Ellen  has been successfully created.\n",
      "Order for customer  Mr. Harry  has been successfully created.\n",
      "Order for customer  Mr. William  has been successfully created.\n",
      "Customer  Mr. Arthur H  is blacklisted and cannot create an order.\n",
      "Order for customer  Mr. Jacob Christian  has been successfully created.\n",
      "Order for customer  Mr. Simon  has been successfully created.\n",
      "Order for customer  Mr. Manuel Estanslas  has been successfully created.\n",
      "Order for customer  Mr. William  has been successfully created.\n",
      "Order for customer  Mr. John Montgomery  has been successfully created.\n",
      "Order for customer  Mr. James  has been successfully created.\n",
      "Customer  Mr. Arthur  is blacklisted and cannot create an order.\n",
      "Order for customer  Mr. Luka  has been successfully created.\n",
      "Order for customer  Miss. Ida Sofia  has been successfully created.\n",
      "Order for customer  Mr. George Quincy  has been successfully created.\n",
      "Order for customer  Mr. Peter Henry  has been successfully created.\n",
      "Order for customer  Mr. Lewis Richard  has been successfully created.\n",
      "Order for customer  Mr. Nils August  has been successfully created.\n",
      "Customer  Mr. Richard Henry  is blacklisted and cannot create an order.\n",
      "Order for customer  Mr. Dickinson H  has been successfully created.\n",
      "Order for customer  Miss. Jeannie  has been successfully created.\n",
      "Order for customer  Mr. Edward Austin  has been successfully created.\n",
      "Order for customer  Mr. Francis William  has been successfully created.\n",
      "Order for customer  Mr. Konrad Mathias Reiersen  has been successfully created.\n",
      "Order for customer  Mr. Harry Markland  has been successfully created.\n",
      "Customer  Mr. Ramon  is blacklisted and cannot create an order.\n",
      "Order for customer  Mr. Gerious  has been successfully created.\n",
      "Order for customer  Miss. Elizabeth Mussey  has been successfully created.\n",
      "Order for customer  Mr. Frederick William  has been successfully created.\n",
      "Order for customer  Mr. Olof  has been successfully created.\n",
      "Order for customer  Miss. Kristina Sofia  has been successfully created.\n",
      "Order for customer  Mr. Henry Margido  has been successfully created.\n",
      "Customer  Mr. Fang  is blacklisted and cannot create an order.\n",
      "Order for customer  Mr. Eugene Patrick  has been successfully created.\n",
      "Order for customer  Mr. James  has been successfully created.\n",
      "Order for customer  Mr. James Robert  has been successfully created.\n",
      "Order for customer  Mr. Satio  has been successfully created.\n",
      "Order for customer  Mr. William Anderson  has been successfully created.\n",
      "Order for customer  Mr. Patrick  has been successfully created.\n",
      "Customer  Mr. Stefo  is blacklisted and cannot create an order.\n",
      "Order for customer  Miss. Anne  has been successfully created.\n",
      "Order for customer  Mr. Janko  has been successfully created.\n",
      "Order for customer  Mr. Sarkis  has been successfully created.\n",
      "Order for customer  Mr. Fared  has been successfully created.\n",
      "Order for customer  Mr. James  has been successfully created.\n",
      "Order for customer  Miss. Lucy  has been successfully created.\n",
      "Customer  Mr. John  is blacklisted and cannot create an order.\n",
      "Order for customer  Mr. Johan Werner  has been successfully created.\n",
      "Order for customer  Mr. Richard George  has been successfully created.\n",
      "Order for customer  Mr. Nakli  has been successfully created.\n",
      "Order for customer  Miss. Marija  has been successfully created.\n",
      "Order for customer  Major. Archibald Willingham  has been successfully created.\n",
      "Order for customer  Miss. Bertha  has been successfully created.\n",
      "Customer  Mr. Samuel Beard  is blacklisted and cannot create an order.\n",
      "Order for customer  Miss. Hedwig Margaritha  has been successfully created.\n",
      "Order for customer  Miss. Harriet R  has been successfully created.\n",
      "Order for customer  Mr. Edward  has been successfully created.\n",
      "Order for customer  Mr. Walter Donald  has been successfully created.\n",
      "Order for customer  Mr. Arthur Ernest  has been successfully created.\n",
      "Order for customer  Mr. Julian  has been successfully created.\n",
      "Customer  Mr. Frank John  is blacklisted and cannot create an order.\n",
      "Order for customer  Mr. Percival James R  has been successfully created.\n",
      "Order for customer  Miss. Velin  has been successfully created.\n",
      "Order for customer  Mr. George  has been successfully created.\n",
      "Order for customer  Mr. Victor  has been successfully created.\n",
      "Order for customer  Mr. Thomas Rowan  has been successfully created.\n",
      "Order for customer  Mr. Husein  has been successfully created.\n",
      "Customer  Mr. Robert Douglas  is blacklisted and cannot create an order.\n",
      "Order for customer  Mr. John  has been successfully created.\n",
      "Order for customer  Mr. Alfred J  has been successfully created.\n",
      "Order for customer  Mr. Tannous  has been successfully created.\n",
      "Order for customer  Mr. Carl  has been successfully created.\n",
      "Order for customer  Mr. George  has been successfully created.\n",
      "Order for customer  Miss. Mary  has been successfully created.\n",
      "Customer  Miss. Ethel  is blacklisted and cannot create an order.\n",
      "Order for customer  Mr. Eiriik  has been successfully created.\n",
      "Order for customer  Miss. Julie Rachel  has been successfully created.\n",
      "Order for customer  Mr. William James  has been successfully created.\n",
      "Order for customer  Mr. John Hugo  has been successfully created.\n",
      "Order for customer  Mr. Uscher  has been successfully created.\n",
      "Order for customer  Mr. John Denzil  has been successfully created.\n",
      "Customer  Mr. Maxmillian  is blacklisted and cannot create an order.\n",
      "Order for customer  Mr. Eliezer  has been successfully created.\n",
      "Order for customer  Mr. Joseph  has been successfully created.\n",
      "Order for customer  Mr. Matti  has been successfully created.\n",
      "Order for customer  Mr. William James  has been successfully created.\n",
      "Order for customer  Miss. Mary  has been successfully created.\n",
      "Order for customer  Mr. John Henry  has been successfully created.\n",
      "Customer  Mr. Jean Baptiste  is blacklisted and cannot create an order.\n",
      "Order for customer  Miss. Jessie Wills  has been successfully created.\n",
      "Order for customer  Mr. Alfred  has been successfully created.\n",
      "Order for customer  Mr. Hanna  has been successfully created.\n",
      "Order for customer  Mr. Petco  has been successfully created.\n",
      "Order for customer  Mr. Charles H  has been successfully created.\n",
      "Order for customer  Mr. Ernst William  has been successfully created.\n",
      "Customer  Mr. Edvard Bengtsson  is blacklisted and cannot create an order.\n",
      "Order for customer  Mr. Milan  has been successfully created.\n",
      "Order for customer  Mr. Robert Williams  has been successfully created.\n",
      "Order for customer  Miss. Elizabeth W  has been successfully created.\n",
      "Order for customer  Mr. Jose Neto  has been successfully created.\n",
      "Order for customer  Miss. Margaret Jane  has been successfully created.\n",
      "Order for customer  Mr. John  has been successfully created.\n",
      "Customer  Mr. William Alfred  is blacklisted and cannot create an order.\n",
      "Order for customer  Miss. Alice  has been successfully created.\n",
      "Order for customer  Mr. Ernst Gilbert  has been successfully created.\n",
      "Order for customer  Mr. Lawrence  has been successfully created.\n",
      "Order for customer  Mr. Antoni  has been successfully created.\n",
      "Order for customer  Mr. Edwin Nelson Jr  has been successfully created.\n",
      "Order for customer  Mr. Frederick  has been successfully created.\n",
      "Customer  Rev. Charles Leonard  is blacklisted and cannot create an order.\n",
      "Order for customer  Mr. Guentcho  has been successfully created.\n",
      "Order for customer  Mr. Algernon Henry Wilson  has been successfully created.\n",
      "Order for customer  Mr. Johan Svensson  has been successfully created.\n",
      "Order for customer  Dr. Max  has been successfully created.\n",
      "Order for customer  Mr. William Henry Marsh  has been successfully created.\n",
      "Order for customer  Miss. Mary  has been successfully created.\n",
      "Customer  Mr. Antti Gustaf  is blacklisted and cannot create an order.\n",
      "Order for customer  Mr. Harvey  has been successfully created.\n",
      "Order for customer  Mr. Percival  has been successfully created.\n",
      "Order for customer  Mlle. Emma  has been successfully created.\n",
      "Order for customer  Mr. Choong  has been successfully created.\n",
      "Order for customer  Mr. Henry Sleeper  has been successfully created.\n",
      "Order for customer  Col. Oberst Alfons  has been successfully created.\n",
      "Customer  Mr. Edward  is blacklisted and cannot create an order.\n",
      "Order for customer  Miss. Amy Zillah Elsie  has been successfully created.\n",
      "Order for customer  Mr. Mito  has been successfully created.\n",
      "Order for customer  Mr. Leonard Mark  has been successfully created.\n",
      "Order for customer  Mr. Alexander  has been successfully created.\n",
      "Order for customer  Mr. George Floyd  has been successfully created.\n",
      "Order for customer  Mr. Arthur Webster  has been successfully created.\n",
      "Customer  Dr. Henry William  is blacklisted and cannot create an order.\n",
      "Order for customer  Mr. Mohamed  has been successfully created.\n",
      "Order for customer  Mr. Edward Pomeroy  has been successfully created.\n",
      "Order for customer  Mr. Peju  has been successfully created.\n",
      "Order for customer  Mr. Lewis  has been successfully created.\n",
      "Order for customer  Mr. Reginald Fenton  has been successfully created.\n",
      "Order for customer  Mr. Knud Paust  has been successfully created.\n",
      "Customer  Mr. Jacob  is blacklisted and cannot create an order.\n",
      "Order for customer  Mr. Thornton  has been successfully created.\n",
      "Order for customer  Mr. Henry Michael  has been successfully created.\n",
      "Order for customer  Mr. Charles  has been successfully created.\n",
      "Order for customer  Mr. Ennis Hastings  has been successfully created.\n",
      "Order for customer  Mr. Frederick Charles  has been successfully created.\n",
      "Order for customer  Mr. Thomas Drake Martinez  has been successfully created.\n",
      "Customer  Miss. Katie  is blacklisted and cannot create an order.\n",
      "Order for customer  Mr. Hammad  has been successfully created.\n",
      "Order for customer  Mr. Thomas William Solomon  has been successfully created.\n",
      "Order for customer  Mr. Joseph Philippe Lemercier  has been successfully created.\n",
      "Order for customer  Mr. Albert Adrian  has been successfully created.\n",
      "Order for customer  Mr. Ali  has been successfully created.\n",
      "Order for customer  Mr. Khalil  has been successfully created.\n",
      "Customer  Col. John  is blacklisted and cannot create an order.\n",
      "Order for customer  Mr. Charles Henry  has been successfully created.\n",
      "Order for customer  Mr. James  has been successfully created.\n",
      "Order for customer  Mr. John Borland  has been successfully created.\n",
      "Order for customer  Mr. Adolf Mathias Nicolai Olsen  has been successfully created.\n",
      "Order for customer  Mr. Spencer Victor  has been successfully created.\n",
      "Order for customer  Mr. Martin  has been successfully created.\n",
      "Customer  Mr. Henrik Juul  is blacklisted and cannot create an order.\n",
      "Order for customer  Mr. Edward Pennington  has been successfully created.\n",
      "Order for customer  Miss. Alice  has been successfully created.\n",
      "Order for customer  Mr. Herman  has been successfully created.\n",
      "Order for customer  Mr. Elmer Zebley  has been successfully created.\n",
      "Order for customer  Mr. August Viktor  has been successfully created.\n",
      "Order for customer  Mr. Samuel  has been successfully created.\n",
      "Customer  Miss. Caroline Louise  is blacklisted and cannot create an order.\n",
      "Order for customer  Mr. Michael  has been successfully created.\n",
      "Order for customer  Mr. Malkolm Joackim  has been successfully created.\n",
      "Order for customer  Mr. William Henry  has been successfully created.\n",
      "Order for customer  Mr. Henry Price  has been successfully created.\n",
      "Order for customer  Mr. Norman Campbell  has been successfully created.\n",
      "Order for customer  Miss. Margareth  has been successfully created.\n",
      "Customer  Mr. Kurt Arnold Gottfrid  is blacklisted and cannot create an order.\n",
      "Order for customer  Miss. Pieta Sofia  has been successfully created.\n",
      "Order for customer  Miss. Elisabeth Walton  has been successfully created.\n",
      "Order for customer  Mr. Robert J  has been successfully created.\n",
      "Order for customer  Mr. William John  has been successfully created.\n",
      "Order for customer  Mr. Moses Aaron  has been successfully created.\n",
      "Order for customer  Mr. Leslie  has been successfully created.\n",
      "Customer  Mr. Gustave J  is blacklisted and cannot create an order.\n",
      "Order for customer  Mr. Kanio  has been successfully created.\n",
      "Order for customer  Mr. Minko  has been successfully created.\n",
      "Order for customer  Mr. Walter James  has been successfully created.\n",
      "Order for customer  Mr. Tyrell William  has been successfully created.\n",
      "Order for customer  Mr. Neal  has been successfully created.\n",
      "Order for customer  Mr. Juho  has been successfully created.\n",
      "Customer  Capt. Edward Gifford  is blacklisted and cannot create an order.\n",
      "Order for customer  Miss. Anna  has been successfully created.\n",
      "Order for customer  Mr. Michael  has been successfully created.\n",
      "Order for customer  Mr. Johannes Joseph  has been successfully created.\n",
      "Order for customer  Mr. Lalio  has been successfully created.\n",
      "Order for customer  Mr. August Sigfrid  has been successfully created.\n",
      "Order for customer  Mr. Thomas Leonard  has been successfully created.\n",
      "Customer  Mr. John  is blacklisted and cannot create an order.\n",
      "Order for customer  Mr. Iisakki Antino Aijo  has been successfully created.\n",
      "Order for customer  Dr. Arthur Jackson  has been successfully created.\n",
      "Order for customer  Miss. Mary  has been successfully created.\n",
      "Order for customer  Mr. Daniel J  has been successfully created.\n",
      "Order for customer  Mr. Daniel Danielsen  has been successfully created.\n",
      "Order for customer  Mr. Rene Aime  has been successfully created.\n",
      "Customer  Mr. Niels Peder  is blacklisted and cannot create an order.\n",
      "Order for customer  Mr. Dibo  has been successfully created.\n",
      "Order for customer  Mr. Roger  has been successfully created.\n",
      "Order for customer  Mr. Thomas J  has been successfully created.\n",
      "Order for customer  Mr. Milton Clyde  has been successfully created.\n",
      "Order for customer  Mr. Andrew G  has been successfully created.\n",
      "Order for customer  Mr. William  has been successfully created.\n",
      "Customer  Mr. Benjamin  is blacklisted and cannot create an order.\n",
      "Order for customer  Miss. Stella Anna  has been successfully created.\n",
      "Order for customer  Mr. William Fisher  has been successfully created.\n",
      "Order for customer  Mr. Ristiu  has been successfully created.\n",
      "Order for customer  Mr. Richard  has been successfully created.\n",
      "Order for customer  Mrs. Mara  has been successfully created.\n",
      "Order for customer  Mr. Yousseff  has been successfully created.\n",
      "Customer  Mr. Martin  is blacklisted and cannot create an order.\n",
      "Order for customer  Mr. Oskar Arvid  has been successfully created.\n",
      "Order for customer  Mr. Karl Johan  has been successfully created.\n",
      "Order for customer  Mr. Thomas Jr  has been successfully created.\n",
      "Order for customer  Mr. August  has been successfully created.\n",
      "Order for customer  Mr. William  has been successfully created.\n",
      "Order for customer  Mr. James  has been successfully created.\n",
      "Customer  Mr. Richard James  is blacklisted and cannot create an order.\n",
      "Order for customer  Mr. Ernest Portage  has been successfully created.\n",
      "Order for customer  Mr. Richard  has been successfully created.\n",
      "Order for customer  Miss. Wendla Maria  has been successfully created.\n",
      "Order for customer  Mr. Albert  has been successfully created.\n",
      "Order for customer  Mr. John Fredrik Alexander  has been successfully created.\n",
      "Order for customer  Mr. Nikola  has been successfully created.\n",
      "Customer  Jonkheer. John George  is blacklisted and cannot create an order.\n",
      "Order for customer  Mr. John  has been successfully created.\n",
      "Order for customer  Mr. Len  has been successfully created.\n",
      "Order for customer  Mr. Thomas Joseph  has been successfully created.\n",
      "Order for customer  Mr. Amin  has been successfully created.\n",
      "Order for customer  Mr. Albert  has been successfully created.\n",
      "Order for customer  Miss. Sara Rebecca  has been successfully created.\n",
      "Customer  Mr. Maurice  is blacklisted and cannot create an order.\n",
      "Order for customer  Mr. Chang  has been successfully created.\n",
      "Order for customer  Mr. Pierre  has been successfully created.\n",
      "Order for customer  Miss. Augusta  has been successfully created.\n",
      "Order for customer  Mr. Peter L  has been successfully created.\n",
      "Order for customer  Mr. Anthony  has been successfully created.\n",
      "Order for customer  Mr. Douglas Bullen  has been successfully created.\n",
      "Customer  Mr. Marin  is blacklisted and cannot create an order.\n",
      "Order for customer  Rev. John  has been successfully created.\n",
      "Order for customer  Mr. Johan  has been successfully created.\n",
      "Order for customer  Mr. Peter Denis   has been successfully created.\n",
      "Order for customer  Mr. Raihed  has been successfully created.\n",
      "Order for customer  Mr. Claus Peter  has been successfully created.\n",
      "Order for customer  Mr. John William  has been successfully created.\n",
      "Customer  Miss. Asuncion  is blacklisted and cannot create an order.\n",
      "Order for customer  Mr. Washington Augustus II  has been successfully created.\n",
      "Order for customer  Mr. Philemon  has been successfully created.\n",
      "Order for customer  Mr. Cerin  has been successfully created.\n",
      "Order for customer  Mr. Frans Olof  has been successfully created.\n",
      "Order for customer  Mr. Victor  has been successfully created.\n",
      "Order for customer  Mr. Kristo  has been successfully created.\n",
      "Customer  Mr. Johann  is blacklisted and cannot create an order.\n",
      "Order for customer  Miss. Gerda Ulrika  has been successfully created.\n",
      "Order for customer  Mr. Frederick James  has been successfully created.\n",
      "Order for customer  Mr. Henry Jr  has been successfully created.\n",
      "Order for customer  Rev. Juozas  has been successfully created.\n",
      "Order for customer  Mr. Karl Howell  has been successfully created.\n",
      "Order for customer  Mr. Patrick  has been successfully created.\n"
     ]
    }
   ],
   "source": [
    "import csv #importing csv file\n",
    "\n",
    "# Step 1: Define the Custom Exception\n",
    "class CustomerNotAllowedException(Exception): # it is for the exception coustomer and creating a class\n",
    "    def __init__(self, message=\"Customer is blacklisted and not allowed to place an order.\"):\n",
    "        self.message = message # it will show up the message\n",
    "        super().__init__(self.message) # super() refers to the parent class of \"CustomerNotAllowedException\", which is Exception\n",
    "\n",
    "# Step 2: Define the Customer Class\n",
    "class Customer: # it is definig a coustomer class\n",
    "    def __init__(self, name, is_blacklisted):\n",
    "        self.name = name\n",
    "        self.is_blacklisted = bool(int(is_blacklisted))  # Convert to boolean: 1 for True, 0 for False in the given dataset\n",
    "\n",
    "    def __str__(self): # the str will convert the object to a string\n",
    "        return f\"Customer Name: {self.name}, Blacklisted: {self.is_blacklisted}\"\n",
    "\n",
    "# Step 3: Create the function to create an order\n",
    "def create_order(customer):\n",
    "    if customer.is_blacklisted:\n",
    "        raise CustomerNotAllowedException(f\"Customer {customer.name} is blacklisted and cannot create an order.\")\n",
    "    print(f\"Order for customer {customer.name} has been successfully created.\")\n",
    "\n",
    "# Step 4: Reading customer data from CSV\n",
    "def read_customers_from_csv(file_name):\n",
    "    customers = []\n",
    "    with open(file_name, mode='r') as file: # 'r' stands for read mode.\n",
    "        reader = csv.reader(file)\n",
    "        header = next(reader)  # Skip the header row\n",
    "        for row in reader:\n",
    "            name, is_blacklisted = row\n",
    "            # Ensure that we have a valid blacklisted value ('0' or '1')\n",
    "            if is_blacklisted not in ['0', '1']: # only check for these values in the rows of the given data\n",
    "                print(f\"Skipping invalid entry: {row}\")\n",
    "                continue\n",
    "            customer = Customer(name, is_blacklisted)\n",
    "            customers.append(customer)\n",
    "    return customers\n",
    "\n",
    "# Step 5: Example of usage\n",
    "if __name__ == \"__main__\": # this is the main function where we create and use for the user input and call the specific function from its defined\n",
    "    # Read customer data from the CSV file\n",
    "    customers = read_customers_from_csv('FairDealCustomerData.csv') # now we are passing the given data in the above function and checking the result.\n",
    "\n",
    "    # Try creating orders for each customer\n",
    "    for customer in customers: # this is the objection handeling case\n",
    "        try:\n",
    "            create_order(customer)\n",
    "        except CustomerNotAllowedException as e:\n",
    "            print(e) # this variable will print the exception msg from the exception block of code from the above.\n"
   ]
  },
  {
   "cell_type": "code",
   "execution_count": 55,
   "id": "bd488920-9d9e-4ca5-8b5c-3eb6c49f3279",
   "metadata": {},
   "outputs": [
    {
     "name": "stdout",
     "output_type": "stream",
     "text": [
      "Customer Name: John Doe, Blacklisted: False\n"
     ]
    }
   ],
   "source": [
    "class Customer:\n",
    "    def __init__(self, name, is_blacklisted):\n",
    "        # Initialize the object's attributes\n",
    "        self.name = name\n",
    "        self.is_blacklisted = is_blacklisted\n",
    "\n",
    "    def __str__(self):\n",
    "        return f\"Customer Name: {self.name}, Blacklisted: {self.is_blacklisted}\"\n",
    "\n",
    "# Create a new Customer object\n",
    "customer1 = Customer(\"John Doe\", False)\n",
    "\n",
    "# Print the customer object\n",
    "print(customer1)\n"
   ]
  },
  {
   "cell_type": "code",
   "execution_count": 75,
   "id": "eb26ce82-cfe5-4897-ac35-35ff0d5def95",
   "metadata": {},
   "outputs": [
    {
     "name": "stdout",
     "output_type": "stream",
     "text": [
      "Car brand: Suzuki, and the car type: SUV, car colour (many colour options): Red, number of doors in this car: Four\n",
      "Car brand: Toyota, and the car type: Sedan, car colour (many colour options): Blue, number of doors in this car: Four\n",
      "Car brand: Honda, and the car type: Hatchback, car colour (many colour options): Green, number of doors in this car: Two\n",
      "Car brand: Ford, and the car type: Truck, car colour (many colour options): Black, number of doors in this car: Two\n",
      "Car brand: BMW, and the car type: Coupe, car colour (many colour options): White, number of doors in this car: Two\n",
      "Car brand: Mercedes, and the car type: Convertible, car colour (many colour options): Silver, number of doors in this car: Two\n"
     ]
    }
   ],
   "source": [
    "class Car:\n",
    "\n",
    "    # When you need to represent objects with specific characteristics and behaviors, \n",
    "    # classes provide a natural structure. For instance, \n",
    "    # you might create a Car class with attributes like color, make, model, and methods like start_engine, accelerate, and brake.\n",
    "    \n",
    "    def __init__(self, brand, type, colour, number_of_doors):\n",
    "        # Initialize the object's attributes\n",
    "        self.brand = brand\n",
    "        self.type = type\n",
    "        self.colour = colour\n",
    "        self.number_of_doors = number_of_doors\n",
    "\n",
    "    def __str__(self):\n",
    "        return f\"Car brand: {self.brand}, and the car type: {self.type}, car colour (many colour options): {self.colour}, number of doors in this car: {self.number_of_doors}\"\n",
    "\n",
    "# Create the car objects\n",
    "car1 = Car(\"Suzuki\", \"SUV\", \"Red\", \"Four\")\n",
    "car2 = Car(\"Toyota\", \"Sedan\", \"Blue\", \"Four\")\n",
    "car3 = Car(\"Honda\", \"Hatchback\", \"Green\", \"Two\")\n",
    "car4 = Car(\"Ford\", \"Truck\", \"Black\", \"Two\")\n",
    "car5 = Car(\"BMW\", \"Coupe\", \"White\", \"Two\")\n",
    "car6 = Car(\"Mercedes\", \"Convertible\", \"Silver\", \"Two\")\n",
    "\n",
    "# Store all car objects in a list\n",
    "cars = [car1, car2, car3, car4, car5, car6]\n",
    "\n",
    "# Print all car objects together\n",
    "for car in cars:\n",
    "    print(car)\n"
   ]
  },
  {
   "cell_type": "markdown",
   "id": "e1dcfc50-67c5-4c63-98bc-17cc954723e7",
   "metadata": {},
   "source": [
    "\n",
    "<span style=\"color: red; font-weight: bold;\">Python Data Type Summary</span>\r\n",
    "\r\n"
   ]
  },
  {
   "cell_type": "code",
   "execution_count": 84,
   "id": "da94f8bc-5175-4e4c-9b50-bea373011935",
   "metadata": {},
   "outputs": [],
   "source": [
    "# Type\t                      Description\t                              Example\n",
    "\n",
    "# int :\t                  Integer (whole numbers)\t                       x = 10\n",
    "# float :\t             Floating-point numbers\t                           y = 3.14\n",
    "# complex :       \tComplex numbers with real and imaginary parts\t       z = 1 + 2j\n",
    "# str :\t                       String (text)\t                           text = \"Hello\"\n",
    "# list :\t        Ordered, mutable collection of items\t               my_list = [1, 2, 3]\n",
    "# tuple\t:           Ordered, immutable collection of items\t               my_tuple = (1, 2, 3)\n",
    "# range :\t       Sequence of numbers, typically used for loops\t       my_range = range(5)\n",
    "# dict :\t           Dictionary (key-value pairs)\t                       my_dict = {'key': 5}\n",
    "# set :\t             Unordered collection of unique items\t               my_set = {1, 2, 3}\n",
    "# frozenset :                   Immutable set\t                           frozen_set = frozenset([1, 2])\n",
    "# bool :\t             Boolean (True or False)\t                       is_valid = True\n",
    "# bytes :\t            Immutable sequence of bytes\t                       my_bytes = b\"abc\"\n",
    "# bytearray :\t        Mutable sequence of bytes\t                       my_bytearray = bytearray([65, 66])\n",
    "# memoryview :\t       Memory view object for binary data\t               my_memoryview = memoryview(b\"data\")\n",
    "# None :\t           Represents the absence of a value\t               my_var = None\n"
   ]
  },
  {
   "cell_type": "code",
   "execution_count": 108,
   "id": "3a405f90-64ba-4231-9a0c-73f2499e0668",
   "metadata": {},
   "outputs": [
    {
     "name": "stdout",
     "output_type": "stream",
     "text": [
      "0\n",
      "1\n",
      "2\n",
      "3\n",
      "4\n",
      "5\n"
     ]
    }
   ],
   "source": [
    "for i in range (0, 5+1):\n",
    "    print (i)"
   ]
  },
  {
   "cell_type": "code",
   "execution_count": 114,
   "id": "8e71747c-cfa8-4c13-8688-c8348f01e06d",
   "metadata": {},
   "outputs": [
    {
     "data": {
      "text/plain": [
       "{'key': 5}"
      ]
     },
     "execution_count": 114,
     "metadata": {},
     "output_type": "execute_result"
    }
   ],
   "source": [
    "my_dict = {'key': 5}\n",
    "my_dict"
   ]
  },
  {
   "cell_type": "code",
   "execution_count": 116,
   "id": "8dfef53b-3784-472a-949f-07580cf8e50e",
   "metadata": {},
   "outputs": [
    {
     "data": {
      "text/plain": [
       "{1, 2, 3}"
      ]
     },
     "execution_count": 116,
     "metadata": {},
     "output_type": "execute_result"
    }
   ],
   "source": [
    "my_set = {1, 2, 3, 2, 3, 1} # set always to be define on cyrly brases\n",
    "my_set"
   ]
  },
  {
   "cell_type": "code",
   "execution_count": 122,
   "id": "d70bc58f-1eea-4a85-ad81-b7de7609569e",
   "metadata": {},
   "outputs": [
    {
     "data": {
      "text/plain": [
       "frozenset({1, 2})"
      ]
     },
     "execution_count": 122,
     "metadata": {},
     "output_type": "execute_result"
    }
   ],
   "source": [
    "frozen_set = frozenset([1, 2])\n",
    "frozen_set"
   ]
  },
  {
   "cell_type": "code",
   "execution_count": 11,
   "id": "4a8de308-1bcf-4a03-bfe7-6b9d6932f73b",
   "metadata": {},
   "outputs": [
    {
     "name": "stdin",
     "output_type": "stream",
     "text": [
      "Enter the user ID:  mukuy \n",
      "Enter the password:  mk76u\n"
     ]
    },
    {
     "name": "stdout",
     "output_type": "stream",
     "text": [
      "Password is invalid. It must contain digits and/or special characters like *#@.\n"
     ]
    }
   ],
   "source": [
    "# Get user input for user ID and password\n",
    "\n",
    "user_id = input(\"Enter the user ID: \")  # Renamed the variable from 'input' to 'user_id'\n",
    "user_password = input(\"Enter the password: \")\n",
    "\n",
    "# Password validation function\n",
    "\n",
    "def validate_password(password):\n",
    "    # Check if password is valid (for demonstration purposes, let's assume a simple check)\n",
    "    if password.isdigit() and 6 <= len(password) <= 8:  # Password must be a number between 6-8 characters long\n",
    "        print(\"Password is valid.\")\n",
    "    elif any(char in \"*#@\" for char in password):  # Check if the password contains special characters\n",
    "        print(\"Password is valid with special characters.\")\n",
    "    else:\n",
    "        print(\"Password is invalid. It must contain digits and/or special characters like *#@.\")\n",
    "\n",
    "# Example call to password validation\n",
    "\n",
    "validate_password(user_password)\n"
   ]
  },
  {
   "cell_type": "code",
   "execution_count": 9,
   "id": "89e09c83-ccda-4acc-b784-641e8d0db4dc",
   "metadata": {},
   "outputs": [
    {
     "data": {
      "text/plain": [
       "(1, 1, 2, 2, 2, 3, 3)"
      ]
     },
     "execution_count": 9,
     "metadata": {},
     "output_type": "execute_result"
    }
   ],
   "source": [
    "my_tuple = (1, 1, 2, 2, 2, 3, 3)\n",
    "my_tuple"
   ]
  },
  {
   "cell_type": "code",
   "execution_count": 13,
   "id": "99d65349-01c2-447e-95da-9db79bd80aba",
   "metadata": {},
   "outputs": [
    {
     "name": "stdout",
     "output_type": "stream",
     "text": [
      "{'a': 1, 'b': 2, 'c': 3}\n"
     ]
    }
   ],
   "source": [
    "keys = ['a', 'b', 'c']\n",
    "values = [1, 2, 3]\n",
    "my_dect = {k:v for k, v in zip(keys, values)}\n",
    "print(my_dect)"
   ]
  },
  {
   "cell_type": "code",
   "execution_count": 1,
   "id": "dbaadd69-f3d9-4bc1-a72a-f66e394650e0",
   "metadata": {},
   "outputs": [
    {
     "name": "stdout",
     "output_type": "stream",
     "text": [
      "C:\\Users\\Dell\n"
     ]
    }
   ],
   "source": [
    "import os\n",
    "# Get the current working directory\n",
    "current_directory = os.getcwd()\n",
    "print(current_directory)\n"
   ]
  },
  {
   "cell_type": "code",
   "execution_count": null,
   "id": "dc51459c-17f2-4c2c-904b-f0beb8b377ce",
   "metadata": {},
   "outputs": [],
   "source": []
  }
 ],
 "metadata": {
  "kernelspec": {
   "display_name": "Python 3 (ipykernel)",
   "language": "python",
   "name": "python3"
  },
  "language_info": {
   "codemirror_mode": {
    "name": "ipython",
    "version": 3
   },
   "file_extension": ".py",
   "mimetype": "text/x-python",
   "name": "python",
   "nbconvert_exporter": "python",
   "pygments_lexer": "ipython3",
   "version": "3.12.4"
  }
 },
 "nbformat": 4,
 "nbformat_minor": 5
}
